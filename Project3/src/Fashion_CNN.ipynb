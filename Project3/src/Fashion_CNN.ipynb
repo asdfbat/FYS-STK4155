{
 "cells": [
  {
   "cell_type": "code",
   "execution_count": 11,
   "metadata": {},
   "outputs": [
    {
     "name": "stdout",
     "output_type": "stream",
     "text": [
      "2.0.0\n"
     ]
    }
   ],
   "source": [
    "import time\n",
    "import numpy as np\n",
    "import matplotlib.pyplot as plt\n",
    "import matplotlib as mpl\n",
    "import pandas as pd\n",
    "import seaborn as sns\n",
    "import tensorflow as tf\n",
    "print(tf.__version__)\n",
    "import gc\n",
    "#from talos.model.layers import hidden_layers\n",
    "from keras import optimizers\n",
    "from keras.wrappers.scikit_learn import KerasRegressor, KerasClassifier\n",
    "from tensorflow import keras\n",
    "from keras.models import Sequential\n",
    "from keras.layers import Dense, Activation, LocallyConnected1D, Conv2D, Reshape, Dropout, MaxPool2D, Flatten\n",
    "from keras.callbacks import ModelCheckpoint, History, EarlyStopping\n",
    "from keras.activations import relu, elu, linear\n",
    "from keras import backend as K\n",
    "from keras import regularizers\n",
    "from keras.datasets import mnist\n",
    "from keras.utils import np_utils\n",
    "from sklearn import preprocessing\n",
    "from sklearn.model_selection import cross_val_score, KFold, train_test_split\n",
    "from sklearn.metrics import mean_squared_error as MSE\n",
    "from sklearn.metrics import mean_absolute_error as MAE\n",
    "from sklearn.metrics import r2_score, roc_auc_score, accuracy_score\n",
    "from sklearn.model_selection import cross_val_score, KFold, train_test_split\n",
    "\n",
    "from tqdm import trange\n",
    "\n",
    "plt.style.use('seaborn-darkgrid')\n",
    "mpl.rcParams['figure.figsize'] = [10.0, 4.0]\n",
    "mpl.rcParams['figure.dpi'] = 80\n",
    "mpl.rcParams['savefig.dpi'] = 100\n",
    "mpl.rcParams['font.size'] = 18"
   ]
  },
  {
   "cell_type": "markdown",
   "metadata": {},
   "source": [
    "# Fashion MNIST - Convolutional Neural Network\n",
    "## Loading Data"
   ]
  },
  {
   "cell_type": "code",
   "execution_count": 2,
   "metadata": {},
   "outputs": [],
   "source": [
    "X_train = np.load(\"../data/X_train.npy\")\n",
    "X_test = np.load(\"../data/X_test.npy\")\n",
    "X_val = np.load(\"../data/X_val.npy\")\n",
    "Y_train = np.load(\"../data/Y_train.npy\")\n",
    "Y_test = np.load(\"../data/Y_test.npy\")\n",
    "Y_val = np.load(\"../data/Y_val.npy\")\n",
    "Y_onehot_train = np_utils.to_categorical(Y_train)\n",
    "Y_onehot_test = np_utils.to_categorical(Y_test)\n",
    "Y_onehot_val = np_utils.to_categorical(Y_val)\n",
    "X_train_reshaped = X_train.reshape((X_train.shape[0], 28, 28, 1))\n",
    "X_test_reshaped = X_test.reshape((X_test.shape[0], 28, 28, 1))\n",
    "X_val_reshaped = X_val.reshape((X_val.shape[0], 28, 28, 1))\n",
    "\n",
    "nr_params = X_train.shape[1]"
   ]
  },
  {
   "cell_type": "markdown",
   "metadata": {},
   "source": [
    "## Setting up general CNN model"
   ]
  },
  {
   "cell_type": "code",
   "execution_count": 3,
   "metadata": {},
   "outputs": [],
   "source": [
    "def make_conv_model(params):\n",
    "    opti = optimizers.Adam(amsgrad=True, lr=params[\"lr\"])\n",
    "    def nn_clf():\n",
    "        model = Sequential()\n",
    "        model.add(Conv2D(filters = params[\"nr_neurons\"], kernel_size = (5,5), padding = 'Same', activation ='relu', input_shape = (28,28,1)))\n",
    "        model.add(Dropout(params[\"dropout\"]))\n",
    "        for i in range(params[\"nr_layers\"] - 1):\n",
    "            model.add(Conv2D(filters = params[\"nr_neurons\"], kernel_size = (5,5), padding = 'Same', activation ='relu'))\n",
    "            model.add(Dropout(params[\"dropout\"]))\n",
    "        model.add(MaxPool2D(pool_size=(2,2)))\n",
    "        for i in range(params[\"nr_layers\"]):\n",
    "            model.add(Conv2D(filters = 2*params[\"nr_neurons\"], kernel_size = (3,3), padding = 'Same', activation ='relu'))\n",
    "            model.add(Dropout(params[\"dropout\"]))\n",
    "        model.add(MaxPool2D(pool_size=(2,2)))\n",
    "\n",
    "        model.add(Flatten())\n",
    "        model.add(Dense(256, activation = \"relu\"))\n",
    "        model.add(Dropout(params[\"dropout\"]))\n",
    "        model.add(Dense(256, activation = \"relu\"))\n",
    "        model.add(Dropout(params[\"dropout\"]))\n",
    "        model.add(Dense(10, activation = \"softmax\"))\n",
    "        model.compile(optimizer=opti, loss=\"categorical_crossentropy\",  metrics=[\"accuracy\"])\n",
    "        return model\n",
    "    return nn_clf"
   ]
  },
  {
   "cell_type": "markdown",
   "metadata": {},
   "source": [
    "## Performing a test run"
   ]
  },
  {
   "cell_type": "code",
   "execution_count": 47,
   "metadata": {},
   "outputs": [],
   "source": [
    "params = {\n",
    "    \"lr\" : 1e-3,\n",
    "    \"batch_size\" : 256,\n",
    "    \"nr_neurons\": 32,\n",
    "    \"nr_layers\" : 2,\n",
    "    \"dropout\" : 0.2\n",
    "}"
   ]
  },
  {
   "cell_type": "code",
   "execution_count": 48,
   "metadata": {},
   "outputs": [
    {
     "name": "stdout",
     "output_type": "stream",
     "text": [
      "Model: \"sequential_4\"\n",
      "_________________________________________________________________\n",
      "Layer (type)                 Output Shape              Param #   \n",
      "=================================================================\n",
      "conv2d_13 (Conv2D)           (None, 28, 28, 32)        832       \n",
      "_________________________________________________________________\n",
      "dropout_19 (Dropout)         (None, 28, 28, 32)        0         \n",
      "_________________________________________________________________\n",
      "conv2d_14 (Conv2D)           (None, 28, 28, 32)        25632     \n",
      "_________________________________________________________________\n",
      "dropout_20 (Dropout)         (None, 28, 28, 32)        0         \n",
      "_________________________________________________________________\n",
      "max_pooling2d_7 (MaxPooling2 (None, 14, 14, 32)        0         \n",
      "_________________________________________________________________\n",
      "conv2d_15 (Conv2D)           (None, 14, 14, 64)        18496     \n",
      "_________________________________________________________________\n",
      "dropout_21 (Dropout)         (None, 14, 14, 64)        0         \n",
      "_________________________________________________________________\n",
      "conv2d_16 (Conv2D)           (None, 14, 14, 64)        36928     \n",
      "_________________________________________________________________\n",
      "dropout_22 (Dropout)         (None, 14, 14, 64)        0         \n",
      "_________________________________________________________________\n",
      "max_pooling2d_8 (MaxPooling2 (None, 7, 7, 64)          0         \n",
      "_________________________________________________________________\n",
      "flatten_4 (Flatten)          (None, 3136)              0         \n",
      "_________________________________________________________________\n",
      "dense_10 (Dense)             (None, 256)               803072    \n",
      "_________________________________________________________________\n",
      "dropout_23 (Dropout)         (None, 256)               0         \n",
      "_________________________________________________________________\n",
      "dense_11 (Dense)             (None, 256)               65792     \n",
      "_________________________________________________________________\n",
      "dropout_24 (Dropout)         (None, 256)               0         \n",
      "_________________________________________________________________\n",
      "dense_12 (Dense)             (None, 10)                2570      \n",
      "=================================================================\n",
      "Total params: 953,322\n",
      "Trainable params: 953,322\n",
      "Non-trainable params: 0\n",
      "_________________________________________________________________\n"
     ]
    }
   ],
   "source": [
    "make_conv_model(params)().summary()"
   ]
  },
  {
   "cell_type": "code",
   "execution_count": null,
   "metadata": {},
   "outputs": [],
   "source": [
    "callbacks = [EarlyStopping(monitor=\"val_accuracy\", min_delta=0.001, patience=10, verbose=1, restore_best_weights=True)]\n",
    "clf = KerasClassifier(build_fn=make_conv_model(params), batch_size=params[\"batch_size\"], epochs=200, validation_data=(X_test_reshaped, Y_onehot_test), callbacks=callbacks, verbose=1)\n",
    "history = clf.fit(X_train_reshaped, Y_onehot_train)\n",
    "Y_pred = clf.predict(X_val_reshaped)"
   ]
  },
  {
   "cell_type": "code",
   "execution_count": null,
   "metadata": {},
   "outputs": [],
   "source": [
    "plt.figure(figsize=(16,8))\n",
    "plt.plot(history.history[\"val_accuracy\"], c=\"crimson\")\n",
    "plt.plot(history.history[\"accuracy\"], c=\"navy\")\n",
    "plt.xlabel(\"Epochs\")\n",
    "plt.ylabel(\"Accuracy\")"
   ]
  },
  {
   "cell_type": "markdown",
   "metadata": {},
   "source": [
    "# Hyperparameter Optimization\n",
    "## Learning Rate vs Batch Size"
   ]
  },
  {
   "cell_type": "code",
   "execution_count": 96,
   "metadata": {},
   "outputs": [],
   "source": [
    "all_params = {\n",
    "    \"batch_size\" : [8, 64, 256, 1024],\n",
    "    \"lr\" : [1e-2, 1e-3, 1e-4],\n",
    "}\n",
    "nr_runs = len(all_params['batch_size'])*len(all_params[\"lr\"])"
   ]
  },
  {
   "cell_type": "code",
   "execution_count": null,
   "metadata": {},
   "outputs": [],
   "source": [
    "hp_dict = {\n",
    "    \"acc_score\" : [],\n",
    "    \"batch_size\" : [],\n",
    "    \"lr\" : []\n",
    "}\n",
    "\n",
    "k = 0\n",
    "t0 = time.time()\n",
    "for batch_size in all_params[\"batch_size\"]:\n",
    "    for lr in all_params[\"lr\"]:\n",
    "        params = {\n",
    "            \"batch_size\" : batch_size,\n",
    "            \"lr\" : lr,\n",
    "            \"nr_layers\" : 2,\n",
    "            \"nr_neurons\" : 32,\n",
    "            \"dropout\" : 0.2,\n",
    "             }\n",
    "\n",
    "        hp_dict[\"batch_size\"].append(batch_size)\n",
    "        hp_dict[\"lr\"].append(lr)\n",
    "\n",
    "        callbacks = [EarlyStopping(monitor=\"val_accuracy\", min_delta=0.001, patience=10, verbose=1, restore_best_weights=True)]\n",
    "        model = make_conv_model(params)\n",
    "        clf = KerasClassifier(build_fn=model, batch_size=params[\"batch_size\"], epochs=200, validation_data=(X_test_reshaped, Y_onehot_test), callbacks=callbacks, verbose=1)\n",
    "        history = clf.fit(X_train_reshaped, Y_onehot_train)\n",
    "        Y_pred = clf.predict(X_val_reshaped)\n",
    "        del history, clf, model\n",
    "        gc.collect()\n",
    "        K.clear_session()\n",
    "        hp_dict[\"acc_score\"].append(accuracy_score(Y_val, Y_pred))\n",
    "\n",
    "        k += 1\n",
    "        print(f\"{100*k/nr_runs:.1f} %, {(time.time()-t0)/60:.1f} m\")"
   ]
  },
  {
   "cell_type": "code",
   "execution_count": 98,
   "metadata": {},
   "outputs": [],
   "source": [
    "#hp_df = pd.DataFrame.from_dict(hp_dict)\n",
    "#hp_df.to_pickle(\"../data/hp_df_CNN_lr_batch.pickle\")\n",
    "hp_df = pd.read_pickle(\"../data/hp_df_CNN_lr_batch.pickle\")"
   ]
  },
  {
   "cell_type": "code",
   "execution_count": 99,
   "metadata": {},
   "outputs": [
    {
     "data": {
      "text/html": [
       "<div>\n",
       "<style scoped>\n",
       "    .dataframe tbody tr th:only-of-type {\n",
       "        vertical-align: middle;\n",
       "    }\n",
       "\n",
       "    .dataframe tbody tr th {\n",
       "        vertical-align: top;\n",
       "    }\n",
       "\n",
       "    .dataframe thead th {\n",
       "        text-align: right;\n",
       "    }\n",
       "</style>\n",
       "<table border=\"1\" class=\"dataframe\">\n",
       "  <thead>\n",
       "    <tr style=\"text-align: right;\">\n",
       "      <th></th>\n",
       "      <th>acc_score</th>\n",
       "      <th>batch_size</th>\n",
       "      <th>lr</th>\n",
       "    </tr>\n",
       "  </thead>\n",
       "  <tbody>\n",
       "    <tr>\n",
       "      <th>0</th>\n",
       "      <td>0.1028</td>\n",
       "      <td>8</td>\n",
       "      <td>0.0100</td>\n",
       "    </tr>\n",
       "    <tr>\n",
       "      <th>1</th>\n",
       "      <td>0.9229</td>\n",
       "      <td>8</td>\n",
       "      <td>0.0010</td>\n",
       "    </tr>\n",
       "    <tr>\n",
       "      <th>2</th>\n",
       "      <td>0.9309</td>\n",
       "      <td>8</td>\n",
       "      <td>0.0001</td>\n",
       "    </tr>\n",
       "    <tr>\n",
       "      <th>3</th>\n",
       "      <td>0.0965</td>\n",
       "      <td>64</td>\n",
       "      <td>0.0100</td>\n",
       "    </tr>\n",
       "    <tr>\n",
       "      <th>4</th>\n",
       "      <td>0.9333</td>\n",
       "      <td>64</td>\n",
       "      <td>0.0010</td>\n",
       "    </tr>\n",
       "    <tr>\n",
       "      <th>5</th>\n",
       "      <td>0.9309</td>\n",
       "      <td>64</td>\n",
       "      <td>0.0001</td>\n",
       "    </tr>\n",
       "    <tr>\n",
       "      <th>6</th>\n",
       "      <td>0.0946</td>\n",
       "      <td>256</td>\n",
       "      <td>0.0100</td>\n",
       "    </tr>\n",
       "    <tr>\n",
       "      <th>7</th>\n",
       "      <td>0.9350</td>\n",
       "      <td>256</td>\n",
       "      <td>0.0010</td>\n",
       "    </tr>\n",
       "    <tr>\n",
       "      <th>8</th>\n",
       "      <td>0.9283</td>\n",
       "      <td>256</td>\n",
       "      <td>0.0001</td>\n",
       "    </tr>\n",
       "    <tr>\n",
       "      <th>9</th>\n",
       "      <td>0.9089</td>\n",
       "      <td>1024</td>\n",
       "      <td>0.0100</td>\n",
       "    </tr>\n",
       "    <tr>\n",
       "      <th>10</th>\n",
       "      <td>0.9326</td>\n",
       "      <td>1024</td>\n",
       "      <td>0.0010</td>\n",
       "    </tr>\n",
       "    <tr>\n",
       "      <th>11</th>\n",
       "      <td>0.9202</td>\n",
       "      <td>1024</td>\n",
       "      <td>0.0001</td>\n",
       "    </tr>\n",
       "  </tbody>\n",
       "</table>\n",
       "</div>"
      ],
      "text/plain": [
       "    acc_score  batch_size      lr\n",
       "0      0.1028           8  0.0100\n",
       "1      0.9229           8  0.0010\n",
       "2      0.9309           8  0.0001\n",
       "3      0.0965          64  0.0100\n",
       "4      0.9333          64  0.0010\n",
       "5      0.9309          64  0.0001\n",
       "6      0.0946         256  0.0100\n",
       "7      0.9350         256  0.0010\n",
       "8      0.9283         256  0.0001\n",
       "9      0.9089        1024  0.0100\n",
       "10     0.9326        1024  0.0010\n",
       "11     0.9202        1024  0.0001"
      ]
     },
     "execution_count": 99,
     "metadata": {},
     "output_type": "execute_result"
    }
   ],
   "source": [
    "hp_df"
   ]
  },
  {
   "cell_type": "code",
   "execution_count": 100,
   "metadata": {},
   "outputs": [],
   "source": [
    "hp_matrix = np.zeros((4, 3))\n",
    "for i in range(4):\n",
    "    for j in range(3):\n",
    "        hp_matrix[i,j] = hp_df[\"acc_score\"].iloc[j+i*3]"
   ]
  },
  {
   "cell_type": "code",
   "execution_count": 101,
   "metadata": {},
   "outputs": [
    {
     "data": {
      "text/plain": [
       "0.935"
      ]
     },
     "execution_count": 101,
     "metadata": {},
     "output_type": "execute_result"
    },
    {
     "data": {
      "image/png": "[encoded data removed]",
      "text/plain": [
       "<Figure size 800x480 with 2 Axes>"
      ]
     },
     "metadata": {},
     "output_type": "display_data"
    }
   ],
   "source": [
    "fig, ax = plt.subplots(1, 1, figsize=(10,6))\n",
    "sns.heatmap(100*hp_matrix, ax=ax, annot=True, fmt=\".1f\", vmin=87, vmax=94, square=True, xticklabels=all_params[\"lr\"], yticklabels=all_params[\"batch_size\"], cmap=\"Purples\")\n",
    "plt.ylim(0, 4);\n",
    "plt.xlabel(\"Learning Rate\")\n",
    "plt.ylabel(\"Batch Size\");\n",
    "plt.tight_layout()\n",
    "plt.savefig(\"../figs/CNN_lr_batchsize_heatmap.pdf\", bbox_inches=\"tight\");\n",
    "hp_matrix.max()"
   ]
  },
  {
   "cell_type": "markdown",
   "metadata": {},
   "source": [
    "## Network Size and Depth, and Dropout Rate"
   ]
  },
  {
   "cell_type": "code",
   "execution_count": 71,
   "metadata": {},
   "outputs": [],
   "source": [
    "all_params = {\n",
    "    \"nr_layers\" : [1, 2, 3],\n",
    "    \"nr_neurons\" : [16, 32, 64],\n",
    "    \"dropout\" : [0, 0.2]\n",
    "}\n",
    "nr_runs = len(all_params['nr_layers'])*len(all_params[\"nr_neurons\"])"
   ]
  },
  {
   "cell_type": "code",
   "execution_count": null,
   "metadata": {},
   "outputs": [],
   "source": [
    "hp_dict = {\n",
    "    \"acc_score\" : [],\n",
    "    \"nr_layers\" : [],\n",
    "    \"nr_neurons\" : [],\n",
    "    \"dropout\" : []\n",
    "}\n",
    "\n",
    "k = 0\n",
    "t0 = time.time()\n",
    "for nr_layers in all_params[\"nr_layers\"]:\n",
    "    for nr_neurons in all_params[\"nr_neurons\"]:\n",
    "        for dropout in all_params[\"dropout\"]:\n",
    "            params = {\n",
    "                \"batch_size\" : 256,\n",
    "                \"lr\" : 1e-3,\n",
    "                \"nr_layers\" : nr_layers,\n",
    "                \"nr_neurons\" : nr_neurons,\n",
    "                \"dropout\" : dropout\n",
    "                 }\n",
    "\n",
    "            hp_dict[\"nr_layers\"].append(nr_layers)\n",
    "            hp_dict[\"nr_neurons\"].append(nr_neurons)\n",
    "            hp_dict[\"dropout\"].append(dropout)\n",
    "\n",
    "            callbacks = [EarlyStopping(monitor=\"val_accuracy\", min_delta=0.001, patience=10, verbose=1, restore_best_weights=True)]\n",
    "            model = make_conv_model(params)\n",
    "            clf = KerasClassifier(build_fn=model, batch_size=params[\"batch_size\"], epochs=200, validation_data=(X_test_reshaped, Y_onehot_test), callbacks=callbacks, verbose=1)\n",
    "            history = clf.fit(X_train_reshaped, Y_onehot_train)\n",
    "            Y_pred = clf.predict(X_val_reshaped)\n",
    "            del history, clf, model\n",
    "            gc.collect()\n",
    "            K.clear_session()\n",
    "            hp_dict[\"acc_score\"].append(accuracy_score(Y_val, Y_pred))\n",
    "\n",
    "            k += 1\n",
    "            print(f\"{100*k/nr_runs:.1f} %, {(time.time()-t0)/60:.1f} m\")"
   ]
  },
  {
   "cell_type": "code",
   "execution_count": 72,
   "metadata": {},
   "outputs": [],
   "source": [
    "#hp_df = pd.DataFrame.from_dict(hp_dict)\n",
    "#hp_df.to_pickle(\"../data/hp_df_CNN_network_size.pickle\")\n",
    "hp_df = pd.read_pickle(\"../data/hp_df_CNN_network_size.pickle\")"
   ]
  },
  {
   "cell_type": "code",
   "execution_count": 73,
   "metadata": {},
   "outputs": [
    {
     "data": {
      "text/html": [
       "<div>\n",
       "<style scoped>\n",
       "    .dataframe tbody tr th:only-of-type {\n",
       "        vertical-align: middle;\n",
       "    }\n",
       "\n",
       "    .dataframe tbody tr th {\n",
       "        vertical-align: top;\n",
       "    }\n",
       "\n",
       "    .dataframe thead th {\n",
       "        text-align: right;\n",
       "    }\n",
       "</style>\n",
       "<table border=\"1\" class=\"dataframe\">\n",
       "  <thead>\n",
       "    <tr style=\"text-align: right;\">\n",
       "      <th></th>\n",
       "      <th>acc_score</th>\n",
       "      <th>nr_layers</th>\n",
       "      <th>nr_neurons</th>\n",
       "      <th>dropout</th>\n",
       "    </tr>\n",
       "  </thead>\n",
       "  <tbody>\n",
       "    <tr>\n",
       "      <th>0</th>\n",
       "      <td>0.9196</td>\n",
       "      <td>1</td>\n",
       "      <td>16</td>\n",
       "      <td>0.0</td>\n",
       "    </tr>\n",
       "    <tr>\n",
       "      <th>1</th>\n",
       "      <td>0.9265</td>\n",
       "      <td>1</td>\n",
       "      <td>16</td>\n",
       "      <td>0.2</td>\n",
       "    </tr>\n",
       "    <tr>\n",
       "      <th>2</th>\n",
       "      <td>0.9265</td>\n",
       "      <td>1</td>\n",
       "      <td>32</td>\n",
       "      <td>0.0</td>\n",
       "    </tr>\n",
       "    <tr>\n",
       "      <th>3</th>\n",
       "      <td>0.9325</td>\n",
       "      <td>1</td>\n",
       "      <td>32</td>\n",
       "      <td>0.2</td>\n",
       "    </tr>\n",
       "    <tr>\n",
       "      <th>4</th>\n",
       "      <td>0.9257</td>\n",
       "      <td>1</td>\n",
       "      <td>64</td>\n",
       "      <td>0.0</td>\n",
       "    </tr>\n",
       "    <tr>\n",
       "      <th>5</th>\n",
       "      <td>0.9309</td>\n",
       "      <td>1</td>\n",
       "      <td>64</td>\n",
       "      <td>0.2</td>\n",
       "    </tr>\n",
       "    <tr>\n",
       "      <th>6</th>\n",
       "      <td>0.9187</td>\n",
       "      <td>2</td>\n",
       "      <td>16</td>\n",
       "      <td>0.0</td>\n",
       "    </tr>\n",
       "    <tr>\n",
       "      <th>7</th>\n",
       "      <td>0.9269</td>\n",
       "      <td>2</td>\n",
       "      <td>16</td>\n",
       "      <td>0.2</td>\n",
       "    </tr>\n",
       "    <tr>\n",
       "      <th>8</th>\n",
       "      <td>0.9234</td>\n",
       "      <td>2</td>\n",
       "      <td>32</td>\n",
       "      <td>0.0</td>\n",
       "    </tr>\n",
       "    <tr>\n",
       "      <th>9</th>\n",
       "      <td>0.9324</td>\n",
       "      <td>2</td>\n",
       "      <td>32</td>\n",
       "      <td>0.2</td>\n",
       "    </tr>\n",
       "    <tr>\n",
       "      <th>10</th>\n",
       "      <td>0.9287</td>\n",
       "      <td>2</td>\n",
       "      <td>64</td>\n",
       "      <td>0.0</td>\n",
       "    </tr>\n",
       "    <tr>\n",
       "      <th>11</th>\n",
       "      <td>0.9347</td>\n",
       "      <td>2</td>\n",
       "      <td>64</td>\n",
       "      <td>0.2</td>\n",
       "    </tr>\n",
       "    <tr>\n",
       "      <th>12</th>\n",
       "      <td>0.9222</td>\n",
       "      <td>3</td>\n",
       "      <td>16</td>\n",
       "      <td>0.0</td>\n",
       "    </tr>\n",
       "    <tr>\n",
       "      <th>13</th>\n",
       "      <td>0.9256</td>\n",
       "      <td>3</td>\n",
       "      <td>16</td>\n",
       "      <td>0.2</td>\n",
       "    </tr>\n",
       "    <tr>\n",
       "      <th>14</th>\n",
       "      <td>0.9220</td>\n",
       "      <td>3</td>\n",
       "      <td>32</td>\n",
       "      <td>0.0</td>\n",
       "    </tr>\n",
       "    <tr>\n",
       "      <th>15</th>\n",
       "      <td>0.9327</td>\n",
       "      <td>3</td>\n",
       "      <td>32</td>\n",
       "      <td>0.2</td>\n",
       "    </tr>\n",
       "    <tr>\n",
       "      <th>16</th>\n",
       "      <td>0.9260</td>\n",
       "      <td>3</td>\n",
       "      <td>64</td>\n",
       "      <td>0.0</td>\n",
       "    </tr>\n",
       "    <tr>\n",
       "      <th>17</th>\n",
       "      <td>0.9310</td>\n",
       "      <td>3</td>\n",
       "      <td>64</td>\n",
       "      <td>0.2</td>\n",
       "    </tr>\n",
       "  </tbody>\n",
       "</table>\n",
       "</div>"
      ],
      "text/plain": [
       "    acc_score  nr_layers  nr_neurons  dropout\n",
       "0      0.9196          1          16      0.0\n",
       "1      0.9265          1          16      0.2\n",
       "2      0.9265          1          32      0.0\n",
       "3      0.9325          1          32      0.2\n",
       "4      0.9257          1          64      0.0\n",
       "5      0.9309          1          64      0.2\n",
       "6      0.9187          2          16      0.0\n",
       "7      0.9269          2          16      0.2\n",
       "8      0.9234          2          32      0.0\n",
       "9      0.9324          2          32      0.2\n",
       "10     0.9287          2          64      0.0\n",
       "11     0.9347          2          64      0.2\n",
       "12     0.9222          3          16      0.0\n",
       "13     0.9256          3          16      0.2\n",
       "14     0.9220          3          32      0.0\n",
       "15     0.9327          3          32      0.2\n",
       "16     0.9260          3          64      0.0\n",
       "17     0.9310          3          64      0.2"
      ]
     },
     "execution_count": 73,
     "metadata": {},
     "output_type": "execute_result"
    }
   ],
   "source": [
    "hp_df"
   ]
  },
  {
   "cell_type": "code",
   "execution_count": 87,
   "metadata": {},
   "outputs": [],
   "source": [
    "hp_matrix = np.zeros((3, 3))\n",
    "for i in range(3):\n",
    "    for j in range(3):\n",
    "        hp_matrix[i,j] = hp_df[\"acc_score\"].iloc[(j+i*3)*2]"
   ]
  },
  {
   "cell_type": "code",
   "execution_count": 88,
   "metadata": {},
   "outputs": [
    {
     "data": {
      "text/plain": [
       "0.9287"
      ]
     },
     "execution_count": 88,
     "metadata": {},
     "output_type": "execute_result"
    },
    {
     "data": {
      "image/png": "[encoded data removed]",
      "text/plain": [
       "<Figure size 800x480 with 2 Axes>"
      ]
     },
     "metadata": {},
     "output_type": "display_data"
    }
   ],
   "source": [
    "fig, ax = plt.subplots(1, 1, figsize=(10,6))\n",
    "sns.heatmap(100*hp_matrix, ax=ax, annot=True, fmt=\".1f\", vmin=87, vmax=94, square=True, xticklabels=all_params[\"nr_neurons\"], yticklabels=all_params[\"nr_layers\"], cmap=\"Purples\")\n",
    "plt.ylim(0, 3);\n",
    "plt.xlabel(\"Filter Size\")\n",
    "plt.ylabel(\"Nr. Layers\")\n",
    "plt.title(\"Droput = 0\")\n",
    "plt.tight_layout()\n",
    "plt.savefig(\"../figs/CNN_network_size_0d.pdf\", bbox_inches=\"tight\");\n",
    "hp_matrix.max()"
   ]
  },
  {
   "cell_type": "code",
   "execution_count": 91,
   "metadata": {},
   "outputs": [],
   "source": [
    "hp_matrix = np.zeros((3, 3))\n",
    "for i in range(3):\n",
    "    for j in range(3):\n",
    "        hp_matrix[i,j] = hp_df[\"acc_score\"].iloc[(j+i*3)*2 + 1]"
   ]
  },
  {
   "cell_type": "code",
   "execution_count": 92,
   "metadata": {},
   "outputs": [
    {
     "data": {
      "text/plain": [
       "0.9347"
      ]
     },
     "execution_count": 92,
     "metadata": {},
     "output_type": "execute_result"
    },
    {
     "data": {
      "image/png": "[encoded data removed]",
      "text/plain": [
       "<Figure size 800x480 with 2 Axes>"
      ]
     },
     "metadata": {},
     "output_type": "display_data"
    }
   ],
   "source": [
    "fig, ax = plt.subplots(1, 1, figsize=(10,6))\n",
    "sns.heatmap(100*hp_matrix, ax=ax, annot=True, fmt=\".1f\", vmin=87, vmax=94, square=True, xticklabels=all_params[\"nr_neurons\"], yticklabels=all_params[\"nr_layers\"], cmap=\"Purples\")\n",
    "plt.ylim(0, 3);\n",
    "plt.xlabel(\"Filter Size\")\n",
    "plt.ylabel(\"Nr. Layers\")\n",
    "plt.title(\"Droput = 0.2\")\n",
    "plt.tight_layout()\n",
    "plt.savefig(\"../figs/CNN_network_size_20d.pdf\", bbox_inches=\"tight\");\n",
    "hp_matrix.max()"
   ]
  },
  {
   "cell_type": "code",
   "execution_count": 93,
   "metadata": {},
   "outputs": [
    {
     "data": {
      "image/png": "[encoded data removed]",
      "text/plain": [
       "<Figure size 640x400 with 1 Axes>"
      ]
     },
     "metadata": {},
     "output_type": "display_data"
    }
   ],
   "source": [
    "plt.figure(figsize=(8, 5))\n",
    "asdf = [hp_df[hp_df[\"dropout\"] == i][\"acc_score\"] for i in [0, 0.2]]\n",
    "plt.boxplot(asdf);\n",
    "plt.xlabel(\"Dropout\")\n",
    "plt.ylabel(\"Acc Score\")\n",
    "plt.xticks([1, 2], [\"0\", \"0.2\"]);\n",
    "plt.ylim(0.91, 0.94)\n",
    "plt.tight_layout()\n",
    "plt.savefig(\"../figs/CNN_dropout_boxplot.pdf\")"
   ]
  },
  {
   "cell_type": "code",
   "execution_count": null,
   "metadata": {},
   "outputs": [],
   "source": []
  }
 ],
 "metadata": {
  "kernelspec": {
   "display_name": "Python 3",
   "language": "python",
   "name": "python3"
  },
  "language_info": {
   "codemirror_mode": {
    "name": "ipython",
    "version": 3
   },
   "file_extension": ".py",
   "mimetype": "text/x-python",
   "name": "python",
   "nbconvert_exporter": "python",
   "pygments_lexer": "ipython3",
   "version": "3.7.5rc1"
  }
 },
 "nbformat": 4,
 "nbformat_minor": 4
}
