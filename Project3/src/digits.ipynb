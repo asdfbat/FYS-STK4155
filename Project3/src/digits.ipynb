{
 "cells": [
  {
   "cell_type": "code",
   "execution_count": 1,
   "metadata": {},
   "outputs": [
    {
     "name": "stdout",
     "output_type": "stream",
     "text": [
      "2.0.0\n"
     ]
    },
    {
     "name": "stderr",
     "output_type": "stream",
     "text": [
      "Using TensorFlow backend.\n"
     ]
    }
   ],
   "source": [
    "import time\n",
    "import numpy as np\n",
    "import matplotlib.pyplot as plt\n",
    "import matplotlib as mpl\n",
    "import pandas as pd\n",
    "import seaborn as sns\n",
    "import tensorflow as tf\n",
    "print(tf.__version__)\n",
    "import gc\n",
    "#from talos.model.layers import hidden_layers\n",
    "from keras import optimizers\n",
    "from keras.wrappers.scikit_learn import KerasRegressor, KerasClassifier\n",
    "from tensorflow import keras\n",
    "from keras.models import Sequential\n",
    "from keras.layers import Dense, Activation, LocallyConnected1D, Conv2D, Reshape, Dropout, MaxPool2D, Flatten\n",
    "from keras.callbacks import ModelCheckpoint, History, EarlyStopping\n",
    "from keras.activations import relu, elu, linear\n",
    "from keras import backend as K\n",
    "from keras import regularizers\n",
    "from keras.datasets import mnist\n",
    "from keras.utils import np_utils\n",
    "from sklearn import preprocessing\n",
    "from sklearn.model_selection import cross_val_score, KFold, train_test_split\n",
    "from sklearn.metrics import mean_squared_error as MSE\n",
    "from sklearn.metrics import mean_absolute_error as MAE\n",
    "from sklearn.metrics import r2_score, roc_auc_score\n",
    "from sklearn.model_selection import cross_val_score, KFold, train_test_split\n",
    "\n",
    "from tqdm import trange\n",
    "\n",
    "plt.style.use('seaborn-darkgrid')\n",
    "mpl.rcParams['figure.figsize'] = [10.0, 4.0]\n",
    "mpl.rcParams['figure.dpi'] = 80\n",
    "mpl.rcParams['savefig.dpi'] = 100\n",
    "mpl.rcParams['font.size'] = 18"
   ]
  },
  {
   "cell_type": "code",
   "execution_count": 2,
   "metadata": {},
   "outputs": [],
   "source": [
    "(X_train, y_train), (X_test, y_test) = mnist.load_data()"
   ]
  },
  {
   "cell_type": "code",
   "execution_count": 3,
   "metadata": {},
   "outputs": [],
   "source": [
    "X = np.concatenate((X_test, X_train), axis=0)\n",
    "X = np.array(X/255.0, dtype=np.float32)\n",
    "nr_datapoints = X.shape[0]; nr_pixels = X.shape[1];\n",
    "\n",
    "Y = np.concatenate((y_test, y_train), axis=0)\n",
    "Y_onehot = np_utils.to_categorical(Y)\n",
    "X = np.reshape(X, (nr_datapoints, nr_pixels, nr_pixels, 1))\n",
    "\n",
    "del X_train, y_train, X_test, y_test"
   ]
  },
  {
   "cell_type": "code",
   "execution_count": null,
   "metadata": {},
   "outputs": [],
   "source": []
  },
  {
   "cell_type": "code",
   "execution_count": 4,
   "metadata": {},
   "outputs": [],
   "source": [
    "#opti = optimizers.Adam(amsgrad=True, lr=1e-3)\n",
    "#def nn_clf():\n",
    "#    model = Sequential()\n",
    "#    model.add(Conv2D(filters = 32, kernel_size = (5,5),padding = 'Same', activation ='relu', input_shape = (28,28,1)))\n",
    "#    model.add(Conv2D(filters = 32, kernel_size = (5,5),padding = 'Same', activation ='relu'))\n",
    "#    model.add(MaxPool2D(pool_size=(2,2)))\n",
    "#    model.add(Dropout(0.25))\n",
    "#    model.add(Conv2D(filters = 64, kernel_size = (3,3),padding = 'Same', activation ='relu'))\n",
    "#    model.add(Conv2D(filters = 64, kernel_size = (3,3),padding = 'Same', activation ='relu'))\n",
    "#    model.add(MaxPool2D(pool_size=(2,2), strides=(2,2)))\n",
    "#    model.add(Dropout(0.25))\n",
    "#    model.add(Flatten())\n",
    "#    model.add(Dense(256, activation = \"relu\"))\n",
    "#    model.add(Dropout(0.5))\n",
    "#    model.add(Dense(10, activation = \"softmax\"))\n",
    "#    model.compile(optimizer=opti, loss=\"categorical_crossentropy\",  metrics=[\"accuracy\"])\n",
    "#    return model\n",
    "#nn_clf().summary()"
   ]
  },
  {
   "cell_type": "code",
   "execution_count": 5,
   "metadata": {},
   "outputs": [],
   "source": [
    "#callbacks = [EarlyStopping(monitor=\"val_accuracy\", min_delta=0.001, patience=10, verbose=1, restore_best_weights=True)]"
   ]
  },
  {
   "cell_type": "code",
   "execution_count": 6,
   "metadata": {},
   "outputs": [],
   "source": [
    "#X_train, X_test, Y_train, Y_test = train_test_split(X, Y_onehot, test_size=0.3)\n",
    "\n",
    "#clf = KerasClassifier(build_fn=nn_clf, batch_size=1024, epochs=1, validation_data=(X_test, Y_test), callbacks=callbacks, verbose=1)\n",
    "#history = clf.fit(X_train, Y_train)\n",
    "#Y_pred = clf.predict(X_test)"
   ]
  },
  {
   "cell_type": "code",
   "execution_count": 7,
   "metadata": {},
   "outputs": [],
   "source": [
    "#plt.figure(figsize=(10,4))\n",
    "#plt.plot(history.history[\"val_accuracy\"], c=\"crimson\")\n",
    "#plt.plot(history.history[\"accuracy\"], c=\"navy\")\n",
    "#plt.xlabel(\"Epochs\")\n",
    "#plt.ylabel(\"Accuracy\")"
   ]
  },
  {
   "cell_type": "code",
   "execution_count": null,
   "metadata": {},
   "outputs": [],
   "source": []
  },
  {
   "cell_type": "code",
   "execution_count": null,
   "metadata": {},
   "outputs": [],
   "source": []
  },
  {
   "cell_type": "code",
   "execution_count": null,
   "metadata": {},
   "outputs": [],
   "source": []
  },
  {
   "cell_type": "code",
   "execution_count": 8,
   "metadata": {},
   "outputs": [],
   "source": [
    "def permute_params(params, nr_params=9, prob=0.3):\n",
    "    to_permute_or_not_to_permute = np.random.uniform(0, 1, nr_params) < prob\n",
    "    while(np.sum(to_permute_or_not_to_permute) < 1):\n",
    "        to_permute_or_not_to_permute = np.random.uniform(0, 1, nr_params) < prob\n",
    "    print(np.argwhere(to_permute_or_not_to_permute>0))\n",
    "    \n",
    "    new_params = params.copy()\n",
    "    if to_permute_or_not_to_permute[0]:\n",
    "        new_params[\"lr\"] = new_params[\"lr\"]*2**np.random.normal(0, 2)\n",
    "\n",
    "    if to_permute_or_not_to_permute[1]:\n",
    "        new_params[\"batch_size\"] = max(1, round(new_params[\"batch_size\"]*2**np.random.normal(0, 1)))\n",
    "    \n",
    "    if to_permute_or_not_to_permute[2]:\n",
    "        new_params[\"nr_Conv1\"] = max(1, new_params[\"nr_Conv1\"] + np.random.choice([-1, 1]))\n",
    "    \n",
    "    if to_permute_or_not_to_permute[3]:\n",
    "        new_params[\"nr_Conv2\"] = max(1, new_params[\"nr_Conv2\"] + np.random.choice([-1, 1]))\n",
    "    \n",
    "    if to_permute_or_not_to_permute[4]:\n",
    "        new_params[\"Conv_size\"] = max(1, round(new_params[\"Conv_size\"]*2**np.random.normal(0, 0.5)))\n",
    "\n",
    "    if to_permute_or_not_to_permute[5]:\n",
    "        new_params[\"nr_flat\"] = max(1, new_params[\"nr_flat\"] + np.random.choice([-1, 1]))\n",
    "        \n",
    "    if to_permute_or_not_to_permute[6]:\n",
    "        new_params[\"flat_size\"] = max(1, round(new_params[\"flat_size\"]*2**np.random.normal(0, 0.5)))\n",
    "\n",
    "    if to_permute_or_not_to_permute[7]:\n",
    "        new_params[\"reg\"] = new_params[\"reg\"]*2**np.random.normal(0, 1)\n",
    "    \n",
    "    if to_permute_or_not_to_permute[8]:\n",
    "        new_params[\"dropout\"] = new_params[\"dropout\"]*2**np.random.normal(0, 1)\n",
    "        \n",
    "    return new_params"
   ]
  },
  {
   "cell_type": "code",
   "execution_count": 9,
   "metadata": {},
   "outputs": [],
   "source": [
    "def make_model(params):\n",
    "    opti = optimizers.Adam(amsgrad=True, lr=params[\"lr\"])\n",
    "    def nn_clf():\n",
    "        model = Sequential()\n",
    "        model.add(Conv2D(filters = params[\"Conv_size\"], kernel_size = (5,5), padding = \"same\", activation =\"relu\", kernel_regularizer=regularizers.l2(params[\"reg\"]), input_shape = (28,28,1)))\n",
    "        for i in range(params[\"nr_Conv1\"] - 1):\n",
    "            model.add(Conv2D(filters = params[\"Conv_size\"], kernel_size = (5,5), padding = \"same\", activation =\"relu\", kernel_regularizer=regularizers.l2(params[\"reg\"])))\n",
    "        model.add(MaxPool2D(pool_size=(2,2), padding=\"same\"))\n",
    "        model.add(Dropout(params[\"dropout\"]))\n",
    "\n",
    "        for i in range(params[\"nr_Conv2\"]):\n",
    "            model.add(Conv2D(filters = 2*params[\"Conv_size\"], kernel_size = (3,3), padding = 'same', activation ='relu', kernel_regularizer=regularizers.l2(params[\"reg\"])))\n",
    "        model.add(MaxPool2D(pool_size=(2,2), padding=\"same\"))\n",
    "        model.add(Dropout(params[\"dropout\"]))\n",
    "\n",
    "        model.add(Flatten())\n",
    "        for i in range(params[\"nr_flat\"]):\n",
    "            model.add(Dense(params[\"flat_size\"], activation = \"relu\", kernel_regularizer=regularizers.l2(params[\"reg\"])))\n",
    "            model.add(Dropout(params[\"dropout\"]))\n",
    "\n",
    "        model.add(Dense(10, activation = \"softmax\"))\n",
    "        model.compile(optimizer=opti, loss=\"categorical_crossentropy\",  metrics=[\"accuracy\"])\n",
    "        return model\n",
    "    return nn_clf"
   ]
  },
  {
   "cell_type": "code",
   "execution_count": 10,
   "metadata": {},
   "outputs": [],
   "source": [
    "params = {\n",
    "    \"accepted\" : 1,\n",
    "    \"acc_score\" : 0,\n",
    "    \"lr\" : 1e-3,\n",
    "    \"batch_size\" : 1024,\n",
    "    \"nr_Conv1\" : 2,\n",
    "    \"nr_Conv2\" : 2,\n",
    "    \"Conv_size\" : 32,\n",
    "    \"nr_flat\" : 2,\n",
    "    \"flat_size\" : 256,\n",
    "    \"reg\" : 0.01,\n",
    "    \"dropout\" : 0.25\n",
    "}\n",
    "\n",
    "all_params = {\n",
    "    \"accepted\" : [],\n",
    "    \"acc_score\" : [],\n",
    "    \"lr\" : [],\n",
    "    \"batch_size\" : [],\n",
    "    \"nr_Conv1\" : [],\n",
    "    \"nr_Conv2\" : [],\n",
    "    \"Conv_size\" : [],\n",
    "    \"nr_flat\" : [],\n",
    "    \"flat_size\" : [],\n",
    "    \"reg\" : [],\n",
    "    \"dropout\" : []\n",
    "}\n",
    "for key in all_params:\n",
    "    all_params[key].append(params[key])"
   ]
  },
  {
   "cell_type": "code",
   "execution_count": 11,
   "metadata": {},
   "outputs": [
    {
     "data": {
      "text/html": [
       "<div>\n",
       "<style scoped>\n",
       "    .dataframe tbody tr th:only-of-type {\n",
       "        vertical-align: middle;\n",
       "    }\n",
       "\n",
       "    .dataframe tbody tr th {\n",
       "        vertical-align: top;\n",
       "    }\n",
       "\n",
       "    .dataframe thead th {\n",
       "        text-align: right;\n",
       "    }\n",
       "</style>\n",
       "<table border=\"1\" class=\"dataframe\">\n",
       "  <thead>\n",
       "    <tr style=\"text-align: right;\">\n",
       "      <th></th>\n",
       "      <th>accepted</th>\n",
       "      <th>acc_score</th>\n",
       "      <th>lr</th>\n",
       "      <th>batch_size</th>\n",
       "      <th>nr_Conv1</th>\n",
       "      <th>nr_Conv2</th>\n",
       "      <th>Conv_size</th>\n",
       "      <th>nr_flat</th>\n",
       "      <th>flat_size</th>\n",
       "      <th>reg</th>\n",
       "      <th>dropout</th>\n",
       "    </tr>\n",
       "  </thead>\n",
       "  <tbody>\n",
       "    <tr>\n",
       "      <th>0</th>\n",
       "      <td>1.0</td>\n",
       "      <td>0.0</td>\n",
       "      <td>0.001</td>\n",
       "      <td>1024.0</td>\n",
       "      <td>2.0</td>\n",
       "      <td>2.0</td>\n",
       "      <td>32.0</td>\n",
       "      <td>2.0</td>\n",
       "      <td>256.0</td>\n",
       "      <td>0.01</td>\n",
       "      <td>0.25</td>\n",
       "    </tr>\n",
       "  </tbody>\n",
       "</table>\n",
       "</div>"
      ],
      "text/plain": [
       "   accepted  acc_score     lr  batch_size  nr_Conv1  nr_Conv2  Conv_size  \\\n",
       "0       1.0        0.0  0.001      1024.0       2.0       2.0       32.0   \n",
       "\n",
       "   nr_flat  flat_size   reg  dropout  \n",
       "0      2.0      256.0  0.01     0.25  "
      ]
     },
     "execution_count": 11,
     "metadata": {},
     "output_type": "execute_result"
    }
   ],
   "source": [
    "hp_df = pd.DataFrame(columns = params.keys())\n",
    "hp_df.loc[0] = params\n",
    "hp_df"
   ]
  },
  {
   "cell_type": "code",
   "execution_count": null,
   "metadata": {},
   "outputs": [
    {
     "name": "stdout",
     "output_type": "stream",
     "text": [
      "0\n",
      "[[0]\n",
      " [1]\n",
      " [5]\n",
      " [8]]\n",
      "{'accepted': 1, 'acc_score': 0, 'lr': 0.001, 'batch_size': 1024, 'nr_Conv1': 2, 'nr_Conv2': 2, 'Conv_size': 32, 'nr_flat': 2, 'flat_size': 256, 'reg': 0.01, 'dropout': 0.25}\n",
      "{'accepted': 1, 'acc_score': 0, 'lr': 0.0012740333004635004, 'batch_size': 1974, 'nr_Conv1': 2, 'nr_Conv2': 2, 'Conv_size': 32, 'nr_flat': 1, 'flat_size': 256, 'reg': 0.01, 'dropout': 0.21232732455882472}\n"
     ]
    }
   ],
   "source": [
    "nr_averages = 10\n",
    "random_states = np.random.randint(99, 999999, nr_averages)\n",
    "\n",
    "t0 = time.time()\n",
    "highest_acc = 0\n",
    "for k in range(1000):\n",
    "    print(k)\n",
    "    new_params = permute_params(params)\n",
    "    while new_params == params:\n",
    "        new_params = permute_params(params)\n",
    "\n",
    "    print(params)\n",
    "    print(new_params)\n",
    "        \n",
    "    acc = 0\n",
    "    for j in range(nr_averages):\n",
    "        X_train, X_test, Y_train_onehot, Y_test_onehot = train_test_split(X, Y_onehot, test_size=0.3, random_state=random_states[j])\n",
    "        \n",
    "        model = make_model(new_params)\n",
    "        callbacks = [EarlyStopping(monitor=\"val_accuracy\", min_delta=0.001, patience=10, verbose=1, restore_best_weights=True)]\n",
    "        clf = KerasClassifier(build_fn=model, batch_size=new_params[\"batch_size\"], epochs=100, validation_data=(X_test, Y_test_onehot), callbacks=callbacks, verbose=0)\n",
    "        history = clf.fit(X_train, Y_train_onehot)\n",
    "        Y_pred = clf.predict(X_test)\n",
    "        Y_test = np.argmax(Y_test_onehot, axis=1)\n",
    "        acc += np.sum(Y_pred == Y_test)/len(Y_pred)\n",
    "        print(\"acc = \", acc)\n",
    "        \n",
    "        del history, clf, model, callbacks\n",
    "        gc.collect()\n",
    "        K.clear_session()\n",
    "    \n",
    "    acc /= nr_averages\n",
    "    \n",
    "    new_params[\"acc_score\"] = acc\n",
    "    if acc < highest_acc:\n",
    "        new_params[\"accepted\"] = 0\n",
    "    else:\n",
    "        new_params[\"accepted\"] = 1\n",
    "        params = new_params\n",
    "        highest_acc = acc\n",
    "\n",
    "    for key in new_params:\n",
    "        all_params[key].append(new_params[key])\n",
    "        \n",
    "    print(all_params)\n",
    "    hp_df = pd.DataFrame.from_dict(all_params)\n",
    "    hp_df.to_pickle(\"../data/hp_df.pickle\")\n",
    "    print(\"time [hours] = \", (time.time() - t0)/3600)"
   ]
  }
 ],
 "metadata": {
  "kernelspec": {
   "display_name": "Python 3",
   "language": "python",
   "name": "python3"
  },
  "language_info": {
   "codemirror_mode": {
    "name": "ipython",
    "version": 3
   },
   "file_extension": ".py",
   "mimetype": "text/x-python",
   "name": "python",
   "nbconvert_exporter": "python",
   "pygments_lexer": "ipython3",
   "version": "3.7.5rc1"
  }
 },
 "nbformat": 4,
 "nbformat_minor": 4
}
