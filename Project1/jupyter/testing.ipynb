{
 "cells": [
  {
   "cell_type": "code",
   "execution_count": 1,
   "metadata": {},
   "outputs": [],
   "source": [
    "import numpy as np\n",
    "import matplotlib.pyplot as plt\n",
    "import matplotlib as mpl\n",
    "import seaborn\n",
    "from sklearn.metrics import mean_squared_error as MSE\n",
    "from sklearn.metrics import r2_score\n",
    "from sklearn.model_selection import train_test_split, KFold\n",
    "from sklearn.linear_model import Lasso\n",
    "import scipy.stats\n",
    "import time\n",
    "from imageio import imread\n",
    "\n",
    "mpl.style.use(\"seaborn-darkgrid\")\n",
    "mpl.rcParams[\"image.cmap\"] = \"gnuplot2\"\n",
    "mpl.rcParams['figure.figsize'] = [8.0, 6.0]\n",
    "\n",
    "np.random.seed(1942)"
   ]
  },
  {
   "cell_type": "markdown",
   "metadata": {},
   "source": [
    "# 1. Linear Regression on Generic Data"
   ]
  },
  {
   "cell_type": "markdown",
   "metadata": {},
   "source": [
    "## 1.1 The Franke Funtion, with noise"
   ]
  },
  {
   "cell_type": "code",
   "execution_count": 28,
   "metadata": {},
   "outputs": [],
   "source": [
    "def Franke(x, y):\n",
    "    term1 = 0.75*np.exp(-(0.25*(9*x-2)**2) - 0.25*((9*y-2)**2))\n",
    "    term2 = 0.75*np.exp(-((9*x+1)**2)/49.0 - 0.1*(9*y+1))\n",
    "    term3 = 0.5*np.exp(-(9*x-7)**2/4.0 - 0.25*((9*y-3)**2))\n",
    "    term4 = -0.2*np.exp(-(9*x-4)**2 - (9*y-7)**2)\n",
    "    return term1 + term2 + term3 + term4\n",
    "\n",
    "def FrankeNoise(x, y, sigma=0.1):\n",
    "    return Franke(x, y) + np.random.normal(0, sigma, np.shape(x))"
   ]
  },
  {
   "cell_type": "markdown",
   "metadata": {},
   "source": [
    "# K-fold Class"
   ]
  },
  {
   "cell_type": "code",
   "execution_count": 3,
   "metadata": {},
   "outputs": [],
   "source": [
    "class KFold_iterator:\n",
    "    def __init__(self, input_dim, nr_splits=5):\n",
    "        self.input_dim = input_dim\n",
    "        self.nr_splits = nr_splits\n",
    "        self.nr_iters_done = 0\n",
    "        self.index_data = self.shuffle_split()\n",
    "\n",
    "    def __iter__(self):\n",
    "        return self\n",
    "\n",
    "    def __next__(self):\n",
    "        if self.nr_iters_done < self.nr_splits:\n",
    "            self.iter = (np.concatenate(self.index_data[1:]), self.index_data[0])\n",
    "            self.index_data = self.index_data[1:] + [self.index_data[0]]\n",
    "            self.nr_iters_done += 1\n",
    "            return self.iter\n",
    "        else:\n",
    "            raise StopIteration\n",
    "\n",
    "    def shuffle_split(self):\n",
    "        indexes = np.arange(self.input_dim)\n",
    "        np.random.shuffle(indexes)\n",
    "        return np.array_split(indexes, self.nr_splits)"
   ]
  },
  {
   "cell_type": "markdown",
   "metadata": {},
   "source": [
    "# Regression Class"
   ]
  },
  {
   "cell_type": "code",
   "execution_count": 7,
   "metadata": {},
   "outputs": [],
   "source": [
    "class Regression:\n",
    "    def __init__(self):\n",
    "        pass\n",
    "\n",
    "    def generate_generic_data(self, x, y, func):\n",
    "        self.xshape, self.yshape = len(x), len(y)\n",
    "        print(\"asdf\", x.shape, y.shape)\n",
    "        x_mesh, y_mesh = np.meshgrid(x, y)\n",
    "        print(x_mesh.shape, y_mesh.shape)\n",
    "        self.set_data(x_mesh, y_mesh, func(x_mesh, y_mesh))\n",
    "\n",
    "    def load_matrix_data(self, A):\n",
    "        self.yshape, self.xshape = A.shape\n",
    "        x = np.linspace(0, 1, self.xshape); y = np.linspace(0, 1, self.yshape)\n",
    "        x_mesh, y_mesh = np.meshgrid(x, y)\n",
    "        self.set_data(x_mesh, y_mesh, A)\n",
    "        \n",
    "    def set_data(self, x_mesh, y_mesh, f):\n",
    "        print(\"f:\", f.shape)\n",
    "        self.f = f\n",
    "        self.x_mesh, self.y_mesh = x_mesh, y_mesh\n",
    "        self.x_flat, self.y_flat, self.f_flat = self.x_mesh.flatten(), self.y_mesh.flatten(), self.f.flatten()\n",
    "        self.nr_datapoints = len(self.x_flat)\n",
    "\n",
    "    def get_X(self, x, y, poly_order):\n",
    "        self.poly_order = poly_order\n",
    "        nr_terms = ((poly_order + 1)*(poly_order + 2))//2\n",
    "        X = np.zeros((np.size(x), nr_terms))\n",
    "        X[:,0] = 1\n",
    "\n",
    "        i = 0\n",
    "        for ix in range(poly_order+1):\n",
    "            for iy in range(poly_order+1):\n",
    "                if 0 < ix + iy < poly_order+1:\n",
    "                    i += 1\n",
    "                    X[:,i] = x**ix*y**iy\n",
    "        return X\n",
    "\n",
    "    def apply_model(self, beta, x, y, poly_order):\n",
    "        i = 0\n",
    "        result = beta[0]\n",
    "        for ix in range(poly_order+1):\n",
    "            for iy in range(poly_order+1):\n",
    "                if 0 < ix + iy < poly_order+1:\n",
    "                    i += 1\n",
    "                    result += beta[i]*x**ix*y**iy\n",
    "        return result\n",
    "\n",
    "    def get_beta(self, X, f, solver=\"OLS\", lamda=0):\n",
    "        XT = X.T\n",
    "        if solver==\"OLS\":\n",
    "            beta = np.linalg.inv(XT@X)@XT@f\n",
    "        elif solver==\"Ridge\":\n",
    "            print(lamda)\n",
    "            beta = np.linalg.inv(XT@X + np.identity(X.shape[1])*lamda)@XT@f\n",
    "        elif solver==\"Lasso\":\n",
    "            print(\"TBA\")\n",
    "        else:\n",
    "            print(\"Dust\")\n",
    "            raise NotImplementedError\n",
    "        return beta\n",
    "    \n",
    "    def solveCoefficients(self, poly_order=5, solver=\"OLS\", lamda=1e-4):\n",
    "        X = self.get_X(self.x_flat, self.y_flat, poly_order)\n",
    "        beta = self.get_beta(X, self.f_flat, solver=solver, lamda=lamda)\n",
    "        return beta\n",
    "\n",
    "    def solveTrainTest(self, poly_order=5, test_fraction=0.25, solver=\"OLS\", lamda=1e-4):\n",
    "        x_flat, y_flat, f_flat = self.x_flat, self.y_flat, self.f_flat\n",
    "        x_train, x_test, y_train, y_test, output_train, outut_test = train_test_split(x_flat, y_flat, f_flat, test_size=test_fraction)\n",
    "        X = self.get_X(x_train, y_train, poly_order)\n",
    "        beta = self.get_beta(X, output_train, solver=solver, lamda=lamda)\n",
    "        output_test_pred = self.apply_model(beta, x_test, y_test, poly_order)\n",
    "        return output_test, output_test_pred\n",
    "        \n",
    "    def solveKFold(self, K=5, solver=\"OLS\", poly_order=5, lamda=1e-4):\n",
    "        x_flat, y_flat, f_flat = self.x_flat, self.y_flat, self.f_flat\n",
    "        output_pred = np.zeros(self.nr_datapoints)\n",
    "        kf = KFold_iterator(self.nr_datapoints, K)\n",
    "        for train_index, test_index in kf:\n",
    "            x_train, x_test, y_train, y_test = x_flat[train_index], x_flat[test_index], y_flat[train_index], y_flat[test_index]\n",
    "            output_train, output_test = f_flat[train_index], f_flat[test_index]\n",
    "            X = self.get_X(x_train, y_train, poly_order)\n",
    "            beta = self.get_beta(X, output_train, solver=solver, lamda=lamda)\n",
    "            output_test_pred = self.apply_model(beta, x_test, y_test, poly_order)\n",
    "            output_pred[test_index] = output_test_pred\n",
    "            print(\"yo\")\n",
    "        output_pred_stacked = np.zeros((self.yshape, self.xshape))\n",
    "        for i in range(self.yshape):\n",
    "            output_pred_stacked[i] = output_pred[i*self.xshape : (i+1)*self.xshape]\n",
    "        return output_pred_stacked"
   ]
  },
  {
   "cell_type": "code",
   "execution_count": null,
   "metadata": {},
   "outputs": [],
   "source": [
    "terrain1 = imread(\"../input_data/SRTM_data_Norway_1.tif\")\n",
    "\n",
    "reg = Regression()\n",
    "\n",
    "reg.load_matrix_data(terrain1)\n",
    "data_pred = reg.solveKFold(K=10, poly_order=10, solver=\"Ridge\", lamda=1e-4)\n",
    "\n",
    "print(terrain1.shape)\n",
    "plt.figure(); plt.imshow(terrain1);\n",
    "\n",
    "plt.figure(); plt.imshow(data_pred);"
   ]
  },
  {
   "cell_type": "code",
   "execution_count": null,
   "metadata": {},
   "outputs": [],
   "source": [
    "terrain1 = imread(\"../input_data/SRTM_data_Norway_1.tif\")\n",
    "\n",
    "reg = Regression()\n",
    "\n",
    "reg.load_matrix_data(terrain1)\n",
    "beta = reg.solveCoefficients(poly_order=10, solver=\"Ridge\", lamda=1e-4)\n",
    "data_pred = reg.apply_model(beta, reg.x_mesh, reg.y_mesh, poly_order=10)\n",
    "\n",
    "print(terrain1.shape)\n",
    "plt.figure(); plt.imshow(terrain1);\n",
    "\n",
    "plt.figure(); plt.imshow(data_pred);"
   ]
  },
  {
   "cell_type": "code",
   "execution_count": null,
   "metadata": {},
   "outputs": [],
   "source": [
    "x, y = np.linspace(0, 1, 101), np.linspace(0, 1, 201)\n",
    "x_mesh, y_mesh = np.meshgrid(x, y)\n",
    "input_data = FrankeNoise(x_mesh, y_mesh)\n",
    "reg = Regression()\n",
    "#reg.generate_generic_data(x, y, FrankeNoise)\n",
    "plt.imshow(input_data)\n",
    "reg.load_matrix_data(input_data)\n",
    "data_pred = reg.solveKFold(K=10, poly_order=15, solver=\"Ridge\", lamda=1e-5)\n",
    "plt.figure(); plt.imshow(data_pred)"
   ]
  },
  {
   "cell_type": "code",
   "execution_count": null,
   "metadata": {},
   "outputs": [],
   "source": []
  },
  {
   "cell_type": "code",
   "execution_count": null,
   "metadata": {},
   "outputs": [],
   "source": []
  },
  {
   "cell_type": "code",
   "execution_count": null,
   "metadata": {},
   "outputs": [],
   "source": []
  },
  {
   "cell_type": "code",
   "execution_count": null,
   "metadata": {},
   "outputs": [],
   "source": []
  },
  {
   "cell_type": "code",
   "execution_count": null,
   "metadata": {},
   "outputs": [],
   "source": []
  },
  {
   "cell_type": "code",
   "execution_count": 9,
   "metadata": {},
   "outputs": [
    {
     "name": "stdout",
     "output_type": "stream",
     "text": [
      "f: (3601, 1801)\n",
      "1e-05\n",
      "yo\n",
      "1e-05\n",
      "yo\n",
      "1e-05\n",
      "yo\n",
      "1e-05\n",
      "yo\n",
      "1e-05\n",
      "yo\n",
      "1e-05\n",
      "yo\n",
      "1e-05\n",
      "yo\n",
      "1e-05\n",
      "yo\n",
      "1e-05\n",
      "yo\n",
      "1e-05\n",
      "yo\n",
      "1e-05\n",
      "yo\n",
      "1e-05\n",
      "yo\n",
      "1e-05\n",
      "yo\n",
      "1e-05\n",
      "yo\n",
      "1e-05\n",
      "yo\n",
      "1e-05\n",
      "yo\n",
      "1e-05\n",
      "yo\n",
      "1e-05\n",
      "yo\n",
      "1e-05\n",
      "yo\n",
      "1e-05\n",
      "yo\n"
     ]
    },
    {
     "data": {
      "text/plain": [
       "(3601, 1801)"
      ]
     },
     "execution_count": 9,
     "metadata": {},
     "output_type": "execute_result"
    },
    {
     "data": {
      "image/png": "iVBORw0KGgoAAAANSUhEUgAAAJUAAAD5CAYAAAAulHduAAAABHNCSVQICAgIfAhkiAAAAAlwSFlzAAALEgAACxIB0t1+/AAAADh0RVh0U29mdHdhcmUAbWF0cGxvdGxpYiB2ZXJzaW9uMy4xLjEsIGh0dHA6Ly9tYXRwbG90bGliLm9yZy8QZhcZAAAgAElEQVR4nOy9f3Ak53nn95meRqPRaAxmB7NDABwCIBaLWS5hLr3mL5k8/bJzJ9uK5R/nshOn4lwlqThXyV1i5eJK1VWSiy9VqbIvrpRdd0lFFf/I+Yeii23ppJg+6XSmTNn8IW24FMhdYHdBYDkEsLOD2cag0dPT6OnJH+/7dDeW5K4sy9QqxbdqCsCgZ6an328/7/N8n+/zvIXhcMj74/3x7RzGd/oE3h///xvvg+r98W0f74Pq/fFtH++D6v3xbR/vg+r98W0f74Pq/fFtH+Z78SGNRuOXgI8CNvCfrK2tfe29+Nz3x3dm/LVbqkaj8RHgsbW1taeBnwP+57/uz3x/fGfHe7H8fQT4LMDa2toqMNtoNJz34HPfH9+h8V6Aaga4mfv7JnDfe/C574/v0HgvfKrotr8LwPHc0N7NIeERmDEYCQwNdURiQEEfWhhCbKr/H43AoKieNxIoJlDUrx05Un+jjx8Wso8cFNV7HlkQq9+Hw0J6UhSGDIcFCoWh+rxhQf0NJMhxQwpmDMWBetXAACtS56TPLxmYGMUYzIH6nJEjGBTpHpQYJAUGgyLjcwbeZoHSWA/LjEkS9bkFIBkWGCQGg8QgPBohSoocAT4QsqcvWgKM6J8G4OnnbWASGKMAFIGYm8CB/pYuMImJhQM4wFgxpjTWYzA0MI2BOo8CDAYGQWThR6OMFBKOhgYFwBmJKJ+zCu824e8FqHaAWu7vk8CNY0ccJvBPf1tNeKWjJskJ1MNI1N+70+phxtnr2lUIbai2odSF6V2ww+x1AN0S+K763XchcNT/Xn2EJLQBMATMsUlBPtuKIDEoeGVIDCJ9bFG/70ipqz4zMaBb4sh36UUWO145Pb0oVpfXMmNa3RLL05c4Weqy1a5i/e/fi/ELLzJebyowhjZJYrAfOLS6JQBcO2THK7PVrrJ6Y5oXgGfZAb4KbAKhfsT6kf99GngYWAC+AOyipvsx4MPAY5ynyApQw+TpmQMWqm1myh6uHVI0Emw7JOxU+NSffRAwGEVBc6po8Au5abh9vBeg+mPgfwT+WaPROA9srK2t9Y4dMdpXkyOj1lKTakXqggvYIkv9v9TNrNb2rAJWqatAE5vqODNWry911d+Bo94ncMArgxljGEl2HGSAdQIFzk4FEoMkNlMwAcqKeGWK3RIjVsRh4OCHNq4dcnp6l0Fi4Ic2B6HNqBlzX6VDQ87fSHiw1AV3idITL6lzj03oVDD0e4xZEVFsEsUmtVIX00iwzBjzrTqwwrM8BDwPfAPYQlmpPKBAgWj3tqmI9XMe0MPHZQNlAWdaNRx9HSadgAfnrkPZ4z4zxgT6gDsactC32RvcGTZ/7aBaW1v7eqPRuNhoNC6gvtV/+LaDjiw14a6vJjZwssmWCe9UMoB1S+p5O1Rg61TU5NhhBrzEUOARMMj7Vdvq2MDJwJM/xnfVeySGejgBRuBAbGJokBcTA0N/VhjajLs+45WOeg87xABOxCYnIkudM6j3NePMEpux+nwzVp+jLeVIt8RIbNK8PkcvshizIiwzZsr1mRwNWe7bFCnyBZ4CysDjKDf1GnAVaN5lRjaBIxxcAhRYdoCNgclYq8ae7zKvLZYd2uD6nBz32Tp0afXtb2rO3xOeam1t7ReBX3zXAxIjA4UTqAvv+hnIxNKAmhCxMDIpvqteL9au7KnXemX1iCz1nJHA9Tm1bBqJer28Z2yqhx2qhzyvQWeI9TMSBS4zhrKHLaDRwMNI1CMx1GsDJ7VQ2KE6T/nc0Fb/00trehMFDhN2SC+y8AKHm90SX3hzjudQAFBm3sfhHBYwAA7YQ4HqCrCGAo//Lhf8Ffp8nBl9RBEFyZM9h6KR4FiRssz6e37ozGV+5+uPEQHWHd5VxnsCqruNo94YI52K+hK+C7PbChROoC64XGwBlEyK6yvLY4dqGUwMtdxBBqbAUZasW1JA6FTU/8USCUAECE6gforFEqslVs0Ole8mwJRlVYYVqXM2YwUyJ8huCLFI4uOFdgY2AbWRwOw299VaBKsr7LWrXHxzjpdQk1lDgWCGKVaAPdRitsEUHlPs8yQHDICvAS+j/K/wtiv+dQY0uUmdon6/PaADDA5dFrolHgaS0MZIDMasiIlCgjc0NIDvPO4JUCVJgSOvzEhsZr5TfiIg+1usiB0qQPku1JvKiU+MzLLJBMnvzXoGHBliVQRYvptZOLF8coxYG7GC3VJ2TP49xaLJMhw4JLGJIcfIeQ2K6hixknI+VpSCOYpNvnptieeAUeC/GIkoO0Hqcw0SFZ3t9xweQi18LWCHIj5PssljKEf9s0D7tqv+Imeos4GydD5wEQXacrPOubnrjFkRg8Ahik1cO+Sg5xDx9nD+9nFPgKoXWVy9PkfZCVhaugqbC8ri1JvpcpBarLx1cQIFBJn8xMgmqltSwEuMbCIhe04mWV4jFmd3+vgkyxDfJ7JSR5/EUCALnMyKxWZmFbW1kyjQ7pbUjRA4MCxw4/WzuHaIZcb4oa0AEjhstaschDbP3qyxgSIIfmaiy3y1jWuHjOqAwgscvMBh1IyZjE1qkYU3MGmhvKwzFLnAx2kxBvz6bVf9X9DjJ9HEDAOUtRoAqwOTPd9lyvVZ351meXqXh2a32bm2BMDEXebzngAVwI5XZscr0/t/fpjvWV6Hx76mlqr8xAqgqu00DE8tlyxJrZqydtW2+t131UP8I9fPIi7tHKcWruwpQMjnCFDlIZZKrFfZy/y1/PIl4NPvbTsBt7wyRSOht7HInu9S9V2eX19mq12lNzDxUMtKTz/6KOv0EeAD85sUjSSNQOX3KdenF1lUXD+NFutmjKej0dbAZAr4Mj/ADpvA53NXPOQ5fouP8XNIKN4CAmAfuNaqcRDaRLFJEFkMEoP6uM/Oocvx0P3t454AlWuHTNghB6HNZrvKZrvKqatLnH3sa3D29cwqmPFxnsqKFJC2ZzPAdEvKGRcwCgDy1sr1s2hSQCDggixSlPfL+z3tqgJRqauO6VQyaylOt1hUOe/YZNIJuKn5p7IT4FgRH3vkVbbaVUDRFK4dcmV3mla3RNFIKDsBFddnyvUpGklqzQ60Y2+ZMZa+HqNmnIKuVupimTFb7SpTnQrrQ4Mdlt7hyv8RO/wcj6NI0OfILNarb9X5wdLrRLHJjr4hHqh06By6WHeZz3sCVOZYjw8/8RJfe/UROr5LPza51qqx86Uf5AdiUwErNtVECjEZWQo84hAbCcxdV75TS3OtkZWBQqyN+Dr552TkgSDWLEctHLN04n+1allAIbRBnsrQoDbKHidBcWNWBCNHjFc6nC1102Ovbi5QcX1qEmwAY5byowaJkYKm1S1hmTH72s8UYFkaWL3IohdZFI2EnaHBy/jAv3jHa3+RF3mKJxkDpsgc/4vAI90SHd/lILRTkCuG6y7z+U3M+V//sI5gdpvH9PLz4oXztLolgsji9Vce5WyloyZULIBEZrGZ/W5FajJnt9V7tmqZbwTZMmkkilyFLBKUkV/m8r6YGStwyjIny6lEh9oCpQ66LJ15p9+MMVw/O4dhgW67imXG7PkuppEoxzgx6Gngx/p3AdEgMVjfnebKjWkgWyKtYpxapzHN6+0HDtduVfhtAP4J785f/TodnmQUlcA5QDniByhfd6bspcvgno5avyuiP8wjNWFOAKUuT7o+f/qlH+QgtLnWqlF/5VFKZ19XjrtXziiFSkdZq9BWDnbZO84zSSQGmUUSIIjFa9WOO+3vZL0kyhQLBpkVE6BJ+kfoAjlWKJDIynirwGGgo7c938XRBOe4HfJGq8ZGq0acGKmDD2qCm7cqXEBxSk2UxYiA/sDkoVsV5oFlVAbfKsZ8Adjjs8ArcqFR0PHIhs9n2OenmMTUR0Qov8oPbcpOwI5XZr9vU+TuVko+5Ts/jkYyljsxoFPh/MImz10+A8D67jSPLV1VzrhQB2Jlai31nERlAph8+iXvkEuqxg4zCyNDrBNkYDQS9VmVTkZwilMvS6+khiTvJxkBO1SWMzYz8JsxRzrRHUQWjrZOno769vTyH8WmcrYPSuyRJWPGUMB5CEWEXgD6rHKJF7lElWeZBp5kZmCyw4tkzvn3McE/5IA14B9znML8eb7I7zGDWgIH+tnWQYk3D0o0URYRVEpkwJ3HvQEqI1EWY3Y7DcdLTsCU67Pnu+qOdYIMNMJKi480u61en0/RiP+1O/32z5PIMW+RZEjkJ4llAVeOXT92DqB+tqvguySJofymsnd8qS57sDvNkaYNThgJM2UPwwm4pZ11UH6R+FRFI+GMXgIlAhvoc45ik2anwurQQLHnl1FAaQMmO5hkwKkC/w3/EbBKgy/yDPBs7kuHePyXePwKNYrMoKJADwWgfRStMYFSA+R1TO807g1QDQtqsi6fIfTKyh9o1VJHtCZqAFl6EkOByIyVpcoRjalVyhOQt4NHrFjeGuWPk9dLrk7SKQI2OzxmeVK1gubNksTAkHM1kmwZtCKKsUm11FXSmUoHjIQTC5uc8MoMdqdTukCc74FeBgVQff37ld1pfmdo0OKzwJcQYYwaeQbdBX6GxyniAYsA/BjHQQVoyqHHJ2iisootlIXcQy2p8yhw3UGgoC7vXf7/3oyRI1jYhBee4uL1uVT6ATBhhyzNbqulL68igIwWeCcACeekpSvH6AIZebDJUpb3q1xfTXy3pB6Bk9EYEiiYsQK4XroNIyFJDJLAURYrz8jHppLZ2KEClUSSRsKRBuGU62OZMa4dpklrgBteGS9QubkgsvjcrQoX+TxqefOBnwV+CFhFpWjawP3Aoyyzwjng8XGfDyxdpXPxUT7DzwP/620T8ZsEfAJQQHqBzCmPUOmcUb5bLNXABK/MYeDQEUcXBagPn30dltez5HJsZktTu6pAU/aO80PiG5U9NeF551qAENpvT8UI4GR565Yyx16sjSSpxSLK+cpynBgYOjWTBgpCU8jI82V66ROneMyKGLHDzAJHFvhuKok5CG2eX1/mM+yjmCUf+J/4O8xzCjjgHBHnGKCWrxbKypwfC/jQmcs0ltf5FSfg4C/+Fs/iAb9/fCp4Hotn2GMfl8k0LePrnzX9nnca9waojky4usRqs06sL/6EHbJYa2WTrS9umsTN0wuQ+VdiFSS1A1neUCZT/pYhn5GnLSJLTXjel9K6J1m20oAhz6CbMYl2tO0855WnKESRurkAsZlaKdcOMSQqhSw5jfK1otjkwuYCv3noAv8cpY16ir/HPD8yv5n6W/Jel7Zn2Th0WZ7ocmZ2m8bCJtSbzNkhf1xt8x//y5/mUyyhHHcZ/wt7fACwmUAtg5dQvlUfpVJwufO4N+r+hgXa7eqxZW+x1mKm7Klwfnb7uB8kspi568eJSUnJ+G6mChXrll/CxEeSJVMA5QSKtih7mf8kVkpeI8CT5VWsHKR+k1HqpnRAIscAVNuZBdNLJGbMiBlzotpWgMpnDnJ6sl5k4Yc2v/tWnb/g68CLgMkof5+PPXAd1w6puD4V1+eM5uocK2JmJMK1Q5andzPBoj6fH72/yYf4PpSPJSNGgUyleOrAOf0foRtm7jKd9wSohr0xAplgVBpD8lqpNZLJgIxcLGu+JbJUlCe5P5EeN+vKGnRLHHplEt/NljRx6uX1onUS8MhxpW72vDzEcsr73J7ULnUpVTqEoa38KmHnfRfDijiKLJJEp3JFdyXglKhVbgbXB62t+uyF8/w+fTI/6pP8b5MeD9eb1Cud1JmXiHnSCXhIA+zi9TlubS6k538Y2pybu85H1BW/bUZeAXaYB86gljslt7l7MhnukeUvTopsSGoF5ayCTj+IqnN2O7NKgaMuNqiLv7EIvkuoJzqffDX0T7nTXTtk3A5VhCaghYw83Vw4zkfl9Veg/ie8WJ6xN+NMgaCtQRSbigkPbaVpzx1fYKj08KLlyokA08+XpVjn3/7w0AU+jVr2TvH3WGGxts6oGRNEFrVSFy9wGGgNlGuHKn8Y2gwSI7uedsi4DnZ+9vGX+N2XP8E6Nscd90/j8Uk6KMLTAk6jqIYidx73BqgGRpokBaVYkCTqIDEYF19GZCZeWSWRzVhNcKtGV/tJAiYJw/MA62t+qhdZTDoBhkyy+D2tWmYxbk9I5wWCAhwBgetnyWW9dLU1P5aeh7Ye+4GDZcZMJAamHZJ0S6mFsfVyG+ZyeoPE4LVmnV/6xiM8yzWUFalynn/I+UmPCTskTgwcK2LSCVLlpqR8TmhXYW19WYFKwOr6jANLrs/vBA7/1Wt/i+eOgep5vsIn6aFA5KAcfxNFK9xp3BOgOrpNSB9EFtdaNSbskDOz2xy+9ATj3//nWYGDaJW6JWhXaes84ajOfQmIhKnOO7DCYgMpKBLfVQATSY0ss2Kt8lp2qdQRQlO07qCO8crc2p1OVQL92EwneT9wOAhtZsoeI0cjfO2lJ1JFQq3UZaNVS9n0KDaJBiZ7KO3mX3AN+D0gZIpf5QOoAoWTpS4zZY+b3RK+TvxWXJ+RWisDUNljbHOBQWIwUulk0bLWoK/Umzz92grPsYSSJKtxwG9xgZ/Dw+cD2j2PUWToncY9AaokeXsJ2Z4ueapXOrS6Jep//v2Mz25nOcJmncPd6VQ7dBDaqXUTSYhYqZa2BpBl8tUH5/grSROJQkCiSgkMRPgH2U/xgWRo2sP1yrxwdYmL1+f4at9mEnWhLVTO7hrwGyH8+LUlaqglpXdjmj18VPVaG7XEhcAR8JZ+pUmRX+WjKP9myvW52S2xHzicnt7lyu40U66vllo7zEAfODhWhC2FIqI909/TtkM++uAG/+SNX6bPj+dm4Xk8Pg7EWLgpu/7dkaZ5lxFEFs1OhYrrs9qsswKMtas0OxW22lX80GbMiphyfQaJkUaPAiphpUWrJUtRPzbp6bRH0UgUL2RFJO2q8rNkSGpIJM6JoSYj75QLnVDppBxWq1viC1eW+RSwxxYZOPqoRcQn4vvx+G08YtQ0SN2euAF+7nkXeBL4MZ5AAerkuJ8qB8asiAvaEg0Sg/uW17OleXYbmnV1I0nye31ZAavswfYsb+xOM2ZFPAU8x/cBX9fn0EYRCnu8wCd4GLUU/rUoPxuNxoeBzwCv6ae+AfwS8NuoUKIJ/Oza2lq/0Wj8OPBf66v1a2tra//HX+azxMrMlD0ubc+yrzXTRSMhTowULECqMbLMOM38SxQ06QRpMCDSklHNXI+4PixsYuxOE16fw5ZC1lpLWaL1ZfW7LIPt6vHSqtCGy2do706z2a7y6ddW+BUNoB9hnjqkNcI9VCJ4FCjySQb4wAgOowT0gV1OMc8eKpwvoyA1pa/HIrAw0VUcHqQ1hvkln3ZVgSannggii4P1ZS5vz7JYa1GvdLArHQ59l/3AYc93OQ88x38O/Ae5GfgdYIE+p+iwklbv3Gn8VSzVc2tra39b/mg0Gr8F/Mba2tqnG43GrwA/22g0PgP8MvB9qFv1QqPR+L/W1taOVfkUCu/eITmILNzY5LUcMQoc+72fA1VfZ/cl2hmzomMXXX4XJ3g/cJR2XFMIdtmjvTtNNTEUmGKTtzoV7tdcVrixmC23rRpRbDJmRez5LjtemY7v8mXgGUb58eIUtVKHSSdgVJ/bfuAw5frUR6b5P6e66Y1wenoLL3D40JkrjFmv0eqWGDVjDkKbPd/lZrfEQWhT0xyYZcaUnUA5/XZIX0eIfmjzVrvK/dW2ChycADYXaHYqKXj6Ohl9bu56qufqRRb1YsyHBpM8xydRGizIClLfYpOHKOsc4p3Gt3P5+zDw8/r3zwL/GSpL+bW1tbV9gEaj8VXgb6CqlrOTKCaY2vIAx34HjpGidxujWqMdxabyL6wIK1d5Apn4TSzWQWhTD23lcxgJ/djkjd1p9gOHmbKHY0W8ePkMXD6TAjbQBQ1RbDJfbVOvdLiyO83ztyp8DHjoRId6pcNirZUuS17gsFJv4oc2lnmSlXqTILIoaz6pOr2rLOLsNvdriU41Nnlwe5Y31pfT5XrCDpl0AkakAluLAefMmKuXz7DRqnG/Lm7tasu9UG2n13K1Wcc0Ei5tz7JSb3IQ2niBo1yJnomqwHmUTIfloxaaHXrU7zoHfxVQnW00Gn+MWmL/ETCRK2dvoYr5b+/4Is8fGyPFOM1rQSbsHyTGMXDdbfQiK/WjpNLED20qrk+zU6HsBESxiaejsEFiMGGHuHZIM6cCFevWj03WtfObt34AM2UVzoPSe220aqzvl1kuxizWWkzYISv1JpNaCuyHNkv1Zho5Dq0FFmut1MKt705TLXuK0X/iJeXvtKupZPrB0CbRkexItU3aCsCKVDK+W4LYZMn1Gbz0BDe8cnqututjz10H/Zx8pnw/sdhFI8EFTlHnGiuoSNDXjz8DFu6qT4dvHVRXUFz+76MUEX+Kbpyih3R2uXvHF6BQG+N7/+ABDL0MDhIDe+SIWN/h0pnlmxmFwhCjMCQZFigaD2CZqmfC7KDIcFhIO6qo/yeMFAeMFAccDYoUCsMU0NWjEZJhAaMwZHTkiLO515lF1Rkl0U5/JXA4osDHCgmOFTNiTlI0JhgxFVM9AtiFofLDCqr7TGHaZfyfPcZ4YjCTFBU5W5jHGf0IRvmWAtXIDES7KhI9HMcYFDEGRaVwKAyVfzcsqL+HBQjGoRjz4OE4hQIUCwlHg6KSHevStBPA00cjBJHFUWxSLJ5kbmDwdKJ6xPyEnrQufxP4XiBXzUQJA0jS4OKdx7cEqrW1tbeA39V/vtFoNHbRzczW1tYClDXa5u0dX6aBL7/tDVs93vj33uDNnLUwjezL5JfF/N/vNibsMNUhnSx1Uz9EOKueXrosM2alnmm3vcChXukQ6qVq1IyV9dC8VtFIKGrH9/Xrc1xr1dhqV3Gsg9Rxrlc6qg9BvkeD5AsrnSyp/Av/DvyDPwMdfV55/WxatfLhR1+Bj34ZfuyPYPb3YPtn4flnlI+3sahev7ihlj47VGBt1lPlqWWHdNeXGbMiAu2TLdWbUOoS7k7jhzarzTobugzLP1LAa5EFEl+kAPwGSkojYwn4+8AEw+G7U6DfavT3M8CZtbW1/77RaFRRTcw+BXwCxdD9BKp/zUvAI41GYxIVNDwJ/Ke3v9/IyBGLtRYV1+fi9TlAAcfUVkNAJMzxmF4ahR64fRyEduqXifM6pWvj8lTCIDHYbFcxNWEoqZwgspiwQ8VGS8TnBLA9yw2vTJwYaSS6PL3LfLXNlOunRQeDxKAbOJTyEWNoQ7OuSsklPTN3Pc0UnF26SnFjkUvbs7z4+lmeFHnPD/8UlC0FIiEsJUEuwJUUUWKkhHBJiwtlmW93Kri5FE4Um8SJQdkJ6O1baURXREWaD+FyiQWOg+oqKuCvomKvdx7f6vL3eeCnteNtAH8X+H+B32s0Gr+A6hDx6bW1tbjRaPy3wFdQdvR/eFsbIWAQm5S0v5MfQlTeDpx8naB/G6VQNBK8wDlmzcSxlghQqAbIOKyWZqQHiUHF9ZnM98aKTdqrK1zTlMTl7VkGicHp6V2Wp3e5L9fJ5UZTObJjAgrXB9+lfXUJTzvNrW6J8z0HI3AIWzVsrUyo6d5VO16Zq1eXWCp7ynE/+7rym8QqvfpIloOMTQVOJ4ClqwpUG4vc2ljkRNlLb6TVZl2pPiClZBwNrsmxgIOewyjqzi+i8nyX+DhK8JdvSfQp4Cm+7aDSlMCPv8O/PvwOx34GxWm960iGBRJN5ImFEZ6pp9MqErkJgSmhdP7OkyFAkSFWLa/vlno6UVNKlxWxNlFsYmun+pXVFYCUMqi4Ps8sr6sITPggDaD7AEKbdqeilqNWjRevLtHx3WNA70UWe6sr7AcOi4nBeLXNiUqHx4ELmwtstGrMXF1i/F/9TQVYITTPvp6pMSQq3lhUJOe0nnwdsISBw2KtxWsa6DtemYHm9kY1OSzXzg9tBkN1fqPACrDPfTzHz6PcZ1HMxqjeWJ981/m8Zxj1ZqeSRm+x9nkECPmGYzLkfxN2SKBflwdNHoj92KSvAZsfeeZduKtWt8SEHbLVrlKvdNjfXGBd+yGuHfLI3HVO1VqcWNzIutQYiZpQ6ZWwO41rh7yyvpwWYs6UPU6WuuwHDs1OhUhzbxXX5yuXz/D08jobrRrz1TY/sLLKv3r1Eb66vswHjQS71sqqd8SfyuvCQCXYH3lVAc4JGLdDbvkuvua2PN2eaMyK2PHKKRM/qq9bFJsUfZedgckA1eBspW/zHAsoP+pPOL4Uvvu4J0BlFgcKTDkAxTk6Ic6lTmIdnk/YIVOuz4H2gcR69XLLnJPzHeS1MuQiC/t+rVWj7ASsNus09UXealdT8E46ASv1JvPVtgrPc8I7EkOF/pBKkqVTyiNz17nZLaXcmVjW4VD1K5DQfrNdpVbqchDaPDS7nS7jzU6FpdfPKif/sa9lqRfxryS4sSL4/MfT0rMj/fnC8dUrndS6r2rLZRoJ89U2XuBwUgczX1k7Qwvw+zYngRkm8XmGAx4A/iUqc7l55/n8y0Pg2z8KZsz91XbqKOfJz9GcBZLnAl2y5OplTIRp/m1Lnph34Ylujxol2txqV4n1e8yUvZTllgmZKXtZamNhM2vM5rtZ2ZgoF9pVjmKTUrVNae46BA6WlrLI+c2UPcxiwvL0Luu5ErIdr4yj2fkoNik7AZe2Z5kpe4y/8qj6XEmoz11X2i+xXlIJrXX40jZSljkvcDCNJCV8IZPWjJpxypnVT3TwblU4QLFTDpIimmeVv4GiJae407gnlJ8yZsoeM2Uv9WtALV31Sid1zmUJE6dafKliLiLML4NiGYQIfKeRB5sQmqCc7cVai0fmrjPl+oxLo1o7zLRX+W5+vgtlT6kEJDfoBJyYu87p6d00B9nqljCNAYu1FqdqLSwzTi2J0Ao/9MRLKf1x8foct9aX4Us/qJa33emsgYjrp7r3rtQY2iFhLjUlKZ1Wt3QsOyGuxZgVUfbCeb4AACAASURBVNJarKKRUEQBaoDKOwrNoBihA1Qp67uPe8JSAemyISVKvk4deNpiuNopHyQGcaQ6n2y0aunxkAn0xErJpMjrJP92e0qoaCS4dphyVxJtOlbETNljyvWP+zW+m+mqvHKm1BRdldQIiqbJ9TF891jyV6xrq1ti69Bl49BlqpCkVoXI4vHFDb6s+asoNjkdWdzvBPDM8/Dn368+S5ehJe1q+l0tfe3u19zZjldmvtqm2akck20faMqhVupyVdcc1kpdyp0K0dBQnYhRSe1rgIoCb6DUFneYyr8aEr6No+wRdSpp01RxKsVPkgTrQPNX0mvgQMtfxKzLhOWTxmKxINdyRwNnUrf1EdDK+8h51CsdBSgd9qcVzOIoi95KuiOLDksAJ4pQ1+fB5XVubC7gBQ6FwjCNJNkvqxY+QwP/yGJsc0EFA2dfZ2JjMfUZo9gk3FxQCtF8mVhsYhgZIIUyuOWVOVHqphbqnQKeHa+cypEHiUGt1GWl3uTim3NEqHRJEVVu/yznUMmT5+84lfcGqGJV9ycgEQe6XulQNBL29F2ev8tALVvCOYmJFy6orhOqLd0OBzgm4BN/64FKh1hbsaKRsKPzYxII2OLDiIWS883XGIICji4ovaV1Va4dMiJCOTNWvTwffYX+1x6jUFCAjmKTlak2F/ey0vfLhy6eLo3/yNnX+dLqCs1OhSnX58F6U7HnQFtbHjn3PPfka9m0SIfykXReCRvpIEFuVPEl3dGQyb5NBQWSU8AGsM4CCljvPu4JUMWJwQ2d2ASl+nS1byP9FGSJux1Y+zq7DqSAkiVtwg7xQ5v92+5QAdcDlQ4nS930czv6c3qRhWuHnJSSJgndk1xzDy0dPryNfJUbQOTBUzm9eclUjT3mHn2FZORh1fLQK6chfxSb7B1ZdIDVZp1aqcv40lUqmwupBOYbV5eoVzqp77XVrlI0EiadgLL2i4BUjpP/zpNOkJ5ffuT9UFBtBmbKHvtbC8yf6KSR7N/1ynzy6BMMvhssVTwocrNbSsEhNEFedSAmPU9sOlr1mbdmcsyoGVOqtpnSdytkYAJS/2qQGIzYIbe0hRL/Ku+wp/V9kcWhDuXlQsu57flu2nBMIsnbz9XyyionGFkkwwKXtmfTpble6dCLLBatiC+9VWerXeXC5gK99eWUXti4WWNm0uNaq5ZaJ9cO2fNdmp0KM2WPWqnLmBXhBU7qY4luv6dlNgJgGcL3ye+y40ORzJlfnt5lzIpYfqvOJZ6643zeG6DSkyCTKgAycxEdZF9QiM0gspjUF63sBByEduofuXryghwwQdUUAik/FenwO18wIWrRtEmZhOpWxDgoYEFayCATJwUOsuR4uQofq+zhhza29FwoDFOLIzs7iCRlAOz0bbg+R7NvszzR5QuHruoutV9mfr/M1EiUWjgvcNg5VE5/raSqkSe0nCfvY8q5SPYASNNXrh3iWFFaqPHyxiJjI1HK50lg8zHgEo07zuc9ASpxQiV9IgTm7WY6iKw0+SvJ5B2vzKDUPcZngdIQYSRpKD1qxsyUvWP6Jvnsw06FcTvkMLQ5IXSAXu66nQolUQPo6hrxyaTTnC3NZQEii7m567yu2XT5DNmzRqzluHXEnNZdiR8HsKF9q31gXxOQlw5KaU+DABXunz6ymNIW7tLNmqoeHhpppFzOfc98EYgMWRX6uRWgVuqmqRy5IaZcn35s0vFdHqh0sN6qczeV+j0BKsiiNlEYyEWQJTCN4gxVHZOWWXFcGerquzD0XWwnSB1ZKQsf0eVJtzuuSWKorUAqHZLrcxhOQLtVyxLDRpIWO4zo2r8RUSEIXyVNz7olzp59nRcvnE/PS5YYEQ4+HI1g6KVm0gm4sLnAzW7pWJueIkrh6KI2C9kH1vXfG0DxVoXmrQoTxZieLnOLhtnS2+qW0mU69S8DB9cOmdGWU1YFUIGDpHBkSZaE9KXtWVabdbaAu5Gf9wSonNGIh+tNbnZL7PmucsZza36eEshfhHcaN/XSM6bzcvm0TRSbjADYIcXbHNZeZDEeWaD9nJauQKkubGY6KGkU67sq1ycpGrFks9tZH4dWjSdXVnlRJ6NB6+2179KPTcaMhIvX57iiOaKK6zNfbacT2zuyKBaSFAQd3+WitlouWTP9hxKDyliQ+ku+Vl3USl0u3awRHbppQYhcPzlO3I1rrRpBZKkW3HpprFc6qsOx6xNEFpcPVZnW6F1adNwToBoZ7TNhh2y0aqkvFSdZq0RZz/MmPL8M5gnOODFSXkZ2nyoaCfVKh3ERywHjlQ6W5m4MzT8d6mhJ7tS5ajvrIRXamVXK81Z5wrPWUvKT0IYvfzTtLlM0Ek7VWlxr1Wh1S8qZHxT5xuZCGv3NV9vHfMdAKyZMIwPVlOszpkG1Tla2NDM0mNd6sWZPfaarXy8thYpDg8GR0k0VdcdhSQWJPyWrwc5+mbGRjPs7Pb1LL7IwWzWCgxIn7zKf9wSoGGbLn0RPwNu0VELSiSxGdj6QpVD4JnFQ+7GZJqP3fJclEcuVunDmMiOXz2QWyA7xtHpAyuLTVtZmnFmj2MxyfWasrJIdqv9L6ZaRqOTv6kpapBBEVhpBvXB1KU2ir9SbPFhrcagpg6YmgJ9Y3CDW1ITUN/Yii2dQVSURClQ7qOZkU50KnlYYrAKtQ5cV/d19FHkpPRD2BibFgalSMb5LvdKhVupyUtMg68D8kUVfL50SaT5cbzLWqvFCjlN7p3FvgGpQTENgAVHeKkmKRSpYJMqa1CVKHR3Ox7pJhZREFfXyEmha4a3tWQDuX7qqQPDIq/DSE2p5s0NGdUtIYdOBbFeJfDcWsVq70wpA3ZLKBQrRKRIU/R3k3CUynLBDCpCSuzc055RvfAYqvyl8lESZH2lc5uLaGVZRIJlEVT7/4cBMG5I1UW0Vd44sJvT/i8B8MWZ1YFJH5fMOUD7Yec1hNTsVFTSgG51pMHvaD5uwQ+arbZ66C6juiYTycFg4Jg+RdT7PpeQrjoFjTrY4+HkB2n06MV2vdFie3sU0Ei5sLqj3jE2V4a90MglubFLVLHzqt0mrakOXt89uZ/2rhGYQVj3Ubbc3F+APfgJWV0Df6VKL6Id2yu4XCkOu6DIwIO0bDyqp/aBOQtdKXTq+S0fTDX5o83ceuM4HUeBxUJaoj6ol7qMixEson+siKtXywft2uTgw02YbtULCqD72D99Y5HMXzitF69DAQSWTt/aqacJZ5NKWGd91a7Z7AlSQJTdliL7qnVIQEgZLdJNn2aXQs6sd0TEr4vT0Lj/0zPPp/wltJWrbXIC56xwFDnRLJLn3GSS3lbYLoMVySW8sWRol95fr/EJicP/sdhreX2vVFKfklQmPRujr9JKUjEnUW9Vl9hL19jW5Kvv/jVkRpwoJfVRvzogsSnwNZa0G9GmyzxRQGw35Nzem2dLH9lGs+emRiAiVLH7hyOK5/TKbKLCu6p9RbKZuhoA6X8nyTuOeWP4KqOhL9D6Sy5NCTcjK3yXHJ5asp4sU8oWi0mtBdOSG9o+Wp3fZ8cocdkuMG0naq6loJBzlZCGpirRT4SjUvaW2Z5Ulur2NEKi/t2cVp+Xm7mPfhUqH8ViVcd3slnIFEvelUZg4xCK1EaL1ZqfCIDFSSdBWu5pWBU25Ps5BiXWyJv07iOh3D2mj/zwul/o2A5QPtqd/ToU29UqHeSPh8s4sz+v/WWQbVQ4Abqi9cs4vbPLC1SVqpe53R4MOWbaE3S0aSQqSLb3VhkR4kkLwdCcTccjFkok/JKXiq02V8pgpeykBuee7jMsStrCJ0a5ihDaO5nHSFI32c4rX5yiFdqZhskOV1E2MlFaQjbkH3RInxHrlql+mXD/NLcqyLgpWUVrMlD1GTFVef+iVmdSRGSigL0/vstWucq1VwzJjngYqKCsVkG1W5DDFJHCBPaDNHibQw9PQmmCSYt/GvzHNU6euMjPpUdsvs4+ychEKVKsogK32HL566Sw9oHKrctca5XsCVP3YTJcyAZWkUw5Cm/2eQ22iS+uglEpkB4mR5v5EC1UrdSm5ftrIVVSPrW4pVVhK2Nxu1aiKtTpzGa4uHSP/XDsk1NSCKwnkUlcdH1lZqZVX5lB3eplyfVrdkmLlIyvbrQuwKx0WE9X/PM+0QyZtHrMi1eEvMRT94foZXxebjMxuc9pUVTeb7SqTTsDU9iyXhkYqqqugqMkmMMoUMaryF8CjCeyyziQV4PRYkH6/c0HE1pFFn0zqsqUf0v7oFApoLvDf3WE+7wlQDRKD/Z660GNGxpdIPm5m0qO5X2ZyNDwGPFARVKna5oYmLY8iixEn4LSuLJGaP/FJNttVruxO89TS1axvp57c/K5U8vmA6lkg3JRufGEYieqCpx1wyJj9MNR9GUAx+5rKGJ/dpq7PwSgM08gKSFNOtVKXopaf3O/6qU/X7ZZ44cJ59nw3/S7R0KAInBvJbi5h7a0b0xRRgDiP2vjWoU7AKp5+vtVzqAVO2uhj5606yyhL1UIlY1bJFtNR/fwBF8nay759fFOgajQaKyh65FfX1tZ+vdFo1Pgm2wY1Go0i8E9RVT8Ffewb+ffvHY2oxl/AjI7qDnQvAyHlxopxqrfKJ5UHicGRJjEFjCOJofwoUHITFEVxSVMKYhnHrEgleHWuT95vTFMWthNkmm4zVrV3tZaK7FZXMOyQXrfEfWWPbuCkMhShJQwjycAVONh2SHVhM6VNpNJFlvZWt5T2dJgpe3zj9bMpdyX+pBCWstRfuFWhdqQok4PQZt+KuLBf5hJ5C4XeV7kJDBjojUFeBWq63rG5X+bclPJft/aqKQ0h+zRvAddSxeeb/JVA1Wg0xoFfA/517ulf5ptsGwT8FJCsra093Wg0Po5q5vHv5z/jKCnSkQswMJkyopTfEfmv/K/XMxkrKqBMamXCjldOVQKiqRrRCeUkNjGcgBO1FjOaspAqlTErYmZjUTU900nTILKYMWMFBten2C0pyyMOeqmbbSLpu8rhB8Z0hFbWmqWTpS5hp4Jth9zSFkwUCvcvbBIY51MgyT4z+XSUpG7kb/EVT0/vUjQSXt5YZMcrs4WyJuWBCT2TvZ6TgkDaUz8E9CnyGvP0sYFd9phUm2z3HM71HNXbc6/Kw/c3qYz7uLFJ1Nc93PXcFBllj1W+HXLiPvDDwC/mnvsw33zboI+Q9V34E5TVOjaO0KkE/Rg9spiZ6KZaof3AwdOFjn0gHpgMdAm3lBmVnYAT1TZvbc/Siyy1ybfk9kK1W4O0epR8oESI0p9TtklLWXy9/PqhjS1M+uUzaa/MlF6w1C4Ng8tncHXNYLp0awsp+bP7ay2VjC4OmHSCVEWQBxRkevuikaQ6/KL+rht6+7aXhwabKF9KHGwZLioBvYOyTxXUZkVNPeX7+iF7zyyg/KgLb9WV9AbFf7VQzddEJbHHA/yVS7TW1tZiIG40jmlo/jJtg9Ln19bWjhqNRrHRaBTX1tbSyLQyD//oZdUOxkR1SbGMcQoFhyQxGAwNEtAdR9QwMDAKNqYxi1m8D3e0DyNH3J8YHMUmcWGIaSRpm5mCkTCSGJyLR9Tu8oOi6uBizBEnRU4PDJaGBUZHjigaMySjEYbVZ/xoBCs2wX5YAUh3bUl9seIg5bGe3J/EKExzclBkpKgCg4IZ8z0axEMK9I2B4qPmHc793/PEA4NkaJAkBYYoEBUAwxhiGgOGFBgk44CyVt1ojvEji58E/m393YZkhGOS+xkDMYn+y8DCIKKM8o5CTOy0F6lx23uMoHwVaRJZ1O93QAn44B0x86066vmb4m5tg25//m2jtQWffJx0i8MZoFYcUit1ad6q4AFTOlvfiyxaA5MyYBVVlDhfbXNmdpv7FzbBjIm0tZJihnFpDNYtYRsJbzTr7AdO2lEu32dKNUvr8ZGzrzOnq5Bb68vUSl1GzlxWflWpC688yq1XH0l15nbZ4zW9Xe9BaDNfbafErSxzouWasENO/+5pLv30G+n2vpIhEJmOcHGimx+zIibskN//xiNafpIRmdIteEw/JvT/DoA9DPYx2AL6NFFrggc8wDLznNavHSXby28CpX7YRPm56mgFvs9RIOBVhsNn3nU+v1VG/aDRaMgGL3dqG3Ts+UajYQFHeSuVHzHqjrCA3kDv3ImKBoT07OlUg2zxKimEmbJHqPfcG9eFEzIp7XaVGxuL4PqEmiuSZhVlXYsnE3kwMNncL/OVy2c46lRSVUMUm9nu8RuL3Hr1ES5en+NLqytc2Fxg7erSMS5sxysrjTuk/Ro6mqLY030V5O88PSK90IX0lJL5WqnL8+vLqZ80j1qWiqgbcVJf5FOo5hqn9THnULs2nAceos4oKyjYvEmgX/OQfk9H/7RQS2JT/9xBAWsdCNhH9V959/GtWqpn+ebbBk2gNj/5Y+DjwBfv9MY91JcDuLhfVluC6Xq4WqnL1l62O7rsoN6PTQxxqnVyWXwSu9pOm94nnQpfXV9OE9O1Uje1DqAc/7Lv4h9ZrN9SydW56V0F5shiPLTpfvmjjFkRq816qtgMdGW1aMEm9fGvNespcSu9C/qaP8tLdeRcJaKVbVQmnYD7qm0OfZeXNxbZ69tYQE2L8jxUdOZzfCeGDpmPKlSAi7ppF4FLnAO+ThOfL+IygwLjpD6+hXL+xUpNkCWqVUe99h3B8c1Ef9+H6iq6ABw1Go2/jdpc7ne+mbZBjUbjj4AfbTQaX9Pf/d+90+dJLkq0hTFwMDSwdNQmx4AS5EkIn/iualuone9xW/WUOtIyGEOngKSgQpYkUTxIuT2AVUhgqCzJXE7n/frGIqAYeTkXUaZO6Sb3n7v4KHhlHprd5lqrllpEIWGlX0IyPL4bhbyvpHGCyOJkqcv13Wlea9a5+OYcTiGhppdqr2eyMqqbu4lOiuO7XQ3IJC+yNCqnt4+CzGs0eRgHV22jW1SrweZBiSJqK90Bvl4wR1Ah1WmyXqDvPL4ZR/3rvEOLoHd67p3aBuml7ufu9jkyLLJcVoS6MB2grEEg6QjLjNP0xo5X5qbmi0YqHUYiS23iaMZpTwHhsMRqyJIDMKati2ifvrJ2BqugUkFHGjQ7XpmH602anUqqmpTlVZa0MSvCKiTs9W222lVGtSxH+oPueOXUhxsMjDQ5bGrpiUh8BagvbyzS7FTYaNXS5X7SCbiyO83MWMB+z2EAnJ9qp1Xd1/bLKbsu0hjpOxXra1tnlGd5hgOeB64RcI4ZSHuV1isdys06/sCkhavbch8BhyjILNxxDu8ZlQJkuyKAApTcbQfAxYHJaz2HDf1370gdKamRS9uzHHUqvHF1CUKbm92SCvl1V5ONVo2L1+fSZLFk/4XclLB9vtqmWEgYDFWXuTzLLn2jaqVuGgTIUiobBPyDH/0cJqSAEVWCpzsdC7GbDAupHAaUxRP9uBc4vLyxyMXrc2zpnRlEyy6lbGUnoFhIqE96rNSbqnpmv5zuxu4Ci6MhE8WY2kQXq5CwMOkxMxLx9EiEUs9/D7BLk710d/dWt8Rmu8qG1l0tAxO4OLjUuA8FqDtvznZPpGlkxCggzZBtKW1BSozK5jsRas23jiz2bkxzatLjc9eWUh9HlJ+S7xMgSfvpTm75kuKKPd9l1IxTp32n57DZrqYqiflqm9VmPa3PO7+wSdkJ+MIrj6alVWUnoOu7nD7Z4srNmgLNkYW/b6U+oKSMBkMjzQ6IdHqzXU0bdsyUPXb0Lg6SQchvl+IFTmrdJHUzVoyZcYK03ZJlxmz01Y7xFkpGLAHJv3WzxhST/AFVoMkfMMXOrQriEIs/dUwxCqiY8NE7zuM9BSpQX6hcjGFgal3Q2/8vd2OE2uO8FtrMj0Q8t1dluaiWgaeWrjJT9mh2KtQrHTZ001dxjnsDkzEyfdYV3aisphvPNntOql86Mb3LeGSxUG2nu0xIs3upoZMI74WrS0y5Ppdu1njzIKvyaR2UiBMj28eQTIvu6tIvP7S5pnX6+0G2UZMEA0LUCjVhmTGVXDvuxVqLKDZZrLV44eoSlw9dAkhTYPsDk7FDl96hyyXgi1xDyfkeZYc+zzHKIrIbhSR10OqGmIy1WgU+9K5zeM+Bag9YH5jMkEkwLJTjPob6kqIdkvHVvs2i/t/GwCTaL3Npe5YxK0r7aIokVoo3+2TSk3xNXkcna3eAc3lH2gmouD77gcNjS1fpauvg2iFv6tycAFSiSRkmMDkWsHXosnXoMjMaMkTtpiW9Riu6cOHK7jSTTpBmCsTKihWWnu6glmwpuK1XOhyEamPItJ9EHLOjo8SavpYb+tq9DKh+ngP9CBljNL2JD1Cg6nMDBSZpc93m+G7ybx/3HKhARSjiU4ECVK2QpGF2s1NhUvtUl1GX5Mpt79HfmeVUrZVm4MWfudktsadFa8Ewkx9Limam7KVL4ws3a2kL6xEnYKTapqpTPiWd5pFCVelbIInqqVHV4GN9r5rW8s2P+1w+dLmic2ri3B+Edtq74aWDEhy6nNI0inRLlj4JklQvO0EaSUoU+dDsdtqc44FKR4n5dHXMAQooFmpZU0SoJMguAwfs8Ey6q7uDivNa3EeL+1DW6SYZefru455y1GXEKIt1k+w+EqJTMvvnZ7b5wAPXOYfKa02inNMiilPZRzVkvbC5AJBOQr3SoTamFAxyRwWRxWCY9Yta36tyCq0l0lboKHDobs9CaHOoFaGyN584/uLs9yIrlaLIEGHe/EhEHxXUt/p2apF2vDIX3srkb1tDg9VbFXYOSmkxhLw3cKwXuvh0QkVMar9KPr9YSNJcXxPhm66R7erlATcYcJEWfab0NZWh6pHH9HGv8V3RnlG2+xpAyvJOkZUWyQ6/0rlkodpON0/8yNnXubw9S5wYvLyxyH7PoYlOUehwXnojCEHpWBH0HMaKWYeXsSRKG33so0BdBL5ws0b00hPUSl0+eOYyh1oVMVP2Ul5r0gnYOSixcbNGZVz11pJ6uuWpNut7SgbcO7JwR0MWUDmsJnBKk69lJ2C/n2n0YzJ7cE1XIddKXSquT1mLCS/sVVWl8r66qQY5IEmwIkx9S3NPmY86jZKw2Kj+6EeoBbLNKvcBD/EhimmyWt2yY6ge6neGzT0BqiGZr2SiN4AuJBSHBhPA2Ijik6TFTWN2W+nDKx1s3+UMCkDn5q7zwtUl4oHJKKTE47VWLZUhC5UgozcwmTJVWyEB7USrxvpelSsoAnDqVoXTGpCurVpEih8mGnOR4zw0u31Mc35+YZP1vSrB0MApJFzp26lvuA/s7JfTY2WZLJMBytPXZXSQ7VjqBQ6X9qocoFIxF9HFDnvVdPPsyrifcmk7fTtNtxwgNmcJBahNFJl5DeUruSjgHPIcT1JHor4QBfU22Z6E7zzuCVDJSci9UBtVAJjKEZyLtRYr9SYnFjazrThcXwFrexZH0wKWGVPW28QWjYTzC5schDaXt2d5ZO46k07AA5UOO4cuTZ1HnNc+iTjCrW4prexdQeWkdnoOtZ7D4yc6ae+nKDbZ7zkcoHyQk+NZq0gp/jSNhA/Mb3KtVaPZcwhQE2uipmgTKHZLbGlpz0MjymIOxO9D1+0VlFW8eLOW+j2nCgnB0KCOsupXUNZvCjh96DIzFrDVc/BQS7lsE+IAdYr0mGePOop7ukpWQ5O1tm7yqD7baTKo/xXTNO/FSFBgilB3mTjXZSfgWqvGA5VOunu59NvsNuuqcmVxA7QT64c2G/qunCDb2w+U7FhoAC9w0g4qE2T9pWSpNI2EqZGIfd2AbIpMsxTk6IA4MZifarPnu2zpDi2ynZtsd1Y0knTZWoksXt5Y5DldSTyDBsLQ4BwKPJYZs9VzGENN/g4KQN7QwNN8U1kDbL7aZsIO+Zjr8+lLZ6nAsaV7oAV7O8gSljHsfSSNU6TDPH3mGbCE2g/0RbT0D6hS5hQ9ijlp3p0d9XsCVEeoO60CLGoxvlgOKRU/1lhf/+8wcGB1hXHNZtcrHV7eq6Z+w5il+qNLGZfsEHEQ2jioC78PPHdQYqWgiiY3WjW1ve6RpSp4UZZlHWW1rhy6nLfbqRgvik32+3Za0Stac1FJCJc1X20TaD7ruZxDLvrxDVS0td9zmCooy+lpaiW47XrJtRF3AOBHHtxQjdI0N7al33cGtQIsQ1rUIEukFDTITTNgnh7zbOJBWgH4F3gpgXNDz9Z3gU+VoLB/GjUx9UqHhWo7TYeM2yHX9d7JD+pEsb28Dp0KL144z0K1zZgVMV9tM3llmT0UEFa1ouHc3PW0Cb3oyMeKMcHATCPG9aHBhZ1ZpT49KOEDz6AmoonyrZoomUi+NtGxIlrawZYlT3RUksM7CG3Wd6c5pVtcn3qrToKyRBfJ+k41gfOjIY8vbnBld5oxKa7tOVT0nslyox3oHKFEnfII1pfZ0+fTAtbpAyYLFJlEAUj4PwmKBiiVgoda6tW6YaN8rSVUzs9G+VofAP7ojvN5T4CqQPblikbCA5UO33PmctY62oqY07Vw3W6JsdBmZGU1bey6qtv+rNSblEcipo4stWsBpM1UpbGs8EkHup+TA5ya6KYqAsiiqIVqm0kn4OWNRTb0e/4G0D8oUUOB0dc+1QRwpeekDcNquiuwNBRzdcFrEFk8PtXGospFMgWBiQLBhb6Nf+kslXGfBW3dVupNLulNlkwti97TpfDSSUYAPuX61Ps2AUrmssEoHj6b/AnwJFPUKaOA5ejP/or+vQjaMb8PtfS9grJYpyjyjC6Tv4iQEu827glQDVFfzgdmtGkncJS/pOvscALGdYVMt1lnpFWDapsngT9dXUmZ8j29bEn4HGgH/tL2LI4mGnd6DmWtSaqMBZwsdVOhn0SHojyYKXuUnYAf2be4CHyZAZ+iyI+i7lmQ6Ej5Kzt9G/rK4jYHJuVI9XzP9y6dcn3Gi2WexuRL+rUzKEuxj3bOdYACcPH6nGL+D9206cipWistuhUOTDoLT+n3OZHXAwAAIABJREFUG6Bu1g1c1nkG+OfsUeUPeIo6DcrAKn3gT7nGK8BTlPkQ2eJYR7W39hgwIMBFdSb+LvCphmRbVkhCeL7aVjJgJ4BuifDqErau1SvpzRDtskeil4QpvaVtC+WIiuZKtibZ0HvPSIrjYGBSHonStoQzZS9VJOSdcbE25yY9JvfLRBR5Hp8v4aZ3elZkrtNJxZgLA5OHgPWDUirik4KLiutjGEN8sq54wnaL9Kc4MFN1QxSbXNS91gd9G7xyet61UjfViF1r1bh4ZBGh/Kl1LqIcb1BJYNFK/mOauLoIQrazbQOfx+MxMmnLZu5/r+izvTOdAPcIqApk2qlWz6Eem0pkl6vO7UUWdqcCpS7dbklVIuslIJ/BN8nuo0mUwG8stFnWpU2TTkB06CqnVUt1JQUiOnApvxftlOTfnnjgOv6bcwS4XEbdw8uQtuYp5r7TAcofWwWivvITv/zGIh99cCNNFJ8Z99nRyd0ZlNM8iorWxoAp38Xv26yTAbeGYuKntMJ1sdYi1pXPrb4KQJ4FdlgDfgWVggEFBgFFm2zqhfWXnN6m/tvUD9mUW3iqmO8Knkr4mjFgvqAY5rc6Fe7vVNI97LzAYaxTYWdjMRXbyfOgWO1aqUtvr5qCSoRq+32VP1uotrnWqqXhdL4NkReoXUbFHxrXu43mZS07XjnlerLSTFLeSJoWHgxMHBRdIJW+V7QM57k3Flk52eKsMWCm7PF0bDLZt/kqSuLTQYHqEeDf9G1iFNA6+r2+ivKVRveq1DsVLm3PsqF9qA2UhVJW8/P6DAU0Iep2y+9/LPxTvt2ibBh5e8Mgj4xNf/d9fuRdv+PDIFMjREO1Be35hU3CzQUGG4tpzduFzQX2tY6o1S0xU/Y4Pb3Lq9fn6Pgujy9u4AUOp3tOSgSCurtlA8jOoZsqS4tHVqorF7bd0cqGt67PpfV1V44s3jxUy90HxwKinkMNeI4tFphPm4Tto5dwMtAJO741NDgzGnK5b3PpZo0PHw3SdE+xW+I3e45WBGyyyTSb1JmhyD7ZEjsFBPxrVnHZ4kmmhgab/T6kznOsf5ooBYKJAoKPWv6eQu1MPIKyoV+CY8vd1/TzPgqEoX4PeU8B3HdBz0/I0hZ7QP9QCf3PzG6rbTNcn1Fd/j1mRVzZnU73PAbS7Wql2ld8FfFzPODlnoNDVltbRKVG2asyo5uwys6kz68vs9G3mSkkeEODa6hlzgM2NKCe1e/zF+zjMMnDqGLNA+D8SMTTlQ6/dmOaJsqCPARs9W0mURxSkBR59dAlPnS5AvTpo/wWDzWxJjvUAZdAS0728FCLbsgBf8RBajVC/dq8FbJRYLGBD/M4P5m6Bpfw9W8/g2LS5XVnUMCRZdIms3YL+rgypOHFO497AlQilRDBfgSpBHjCDqnq7Ht+42wpYbp4fS7tK5DfImOg30uoihYZgy6y/1g/v2DGqT/17BuLrOvzaQ7/P+reP7rN87rz/BAAARB8CcAEBZIyJKAiRUg2E+rIZq0cq7EbO4279ibpJhlnm+6m23Qm2dPOTs9JZtLu9kfayU472+y2szvdac8m2x9ppvU0mWZbe8apHcfyKmM5dHTEhDYFSlRBCRYoiKBBAgQBEC+wf9znvg8oS7KP091ln3MoUuSL98fz3uc+98f3fq8FcVQR20kN6Q8DZ0izCNQ5zRyHmWaUBYQvM9kO8NkDl/nnVw4ygPByzprzJMwzD5hzzwAVQpzlfmSDu4DEhi6Ct0RGgdew2khtJR0nwBPZI8immeE4j/GA+YuLlsM7LPM4NmqugjWI0O+fN78fw3p7D/Yce+Y2b3OPCFUHeVm9/JRKF9RqB5hFvMLjmTz5tRGvYFPtKe29rIK2ZKLqKqCO+TluvqpIquNs18d1YL4aZTbQ5nxxP0vIpBwCxo0Xp/d29I51T5CDboBHEEE5y0nmOcV5RrmAaMD18gj+srxeP3CaDQaIMY7YRy3kBSumEmAchyI1ZHtS4VGbaBW7/fS+tiPAzxLhPuosI1vYMY6S9bT1oVCDYjNMCXEIHjafOsM0LaZNjvGU+SxIKNTFaq37zQz4Eev37yCifhPWlz9CiDg0RPPbuVzuqbfL+tIxD6t1akmTMtE6ubP5jMf5qZ0byoWU525XdoLE+1ts70gEO4P1pMb9bS6ZQKdirpP9LS7sBKmbCcgDFVMJrVBagEU34JU2VRDhTUY3OTy2ytnXUl4CPAhc4AFe5DRTnOQUYGn5FdoT4zmWmWDC056KZFKysQoLiBdWQ+C6L2E1RAqLKlg1x5xkilGC5q9PkwHWeIAsHw4JzLna9VFuhvEDU30dL1+4XEoSaYY5i6Jo49h6G8yrDSM4iCYiVENI6eYPKFS3YH0B+KVcLvdkz3FDvE3WF92pW+BBX0Mmd3bINEJUip1iJS5EG4blZMhMw/ZOUIi61kYImsBmC6F3BhHaKgb4txMkiBjVsZ77qCAv+/5+EeiCMerVnW8ZCiIvjoWN8sSAOhmWWAD2UWOUFCLc28iWVyXAMi+xzCRVErwANNlALLQG8CApPsm7zOcyPOZVC18w8zTNDHFmqCMLIGauXwUewc8G9zEDHu/6pVLS84wTTo0jBh067NTYPn/E6/C+zAwi0AtmJtSmUitUQwpjiC126/F2WV9uNmZ5m6wvIJOzgamW6do6Oi0q0Oy/BkfL2CIIP7aStmDc+SRiQ2kjRK3I0ci9H9nitL5wAHlJA0BlJ0jNIBS+Y66TwcKPE06Ns1sOB8w5CygKYJ/5+iO+wye5G1HPINpgmDQXSFPlm8C9NDkP3Mk0jwOWXSVmJlPj2gPmbzHzPYL1v5T7QBPHfiARaniku7OHLpEeWSN616vS39lQaE+bGsbla2PeXIljcBERJo1HZRDt2DBPMcSbYdT7ut3ubQ/Qkc1mPwes9Wx/4+aqq8DPAe8DTuRyuX9sjv9NJLn/k8AvmqJUstnsa8DBXj6F9et011esbdWPNd6V1USHD+ijyw59Xhyqi7VLND2jLCa9/Az9/rbHItNHly59+Po6+Pq6+PrkKnU3QNfcQwfRAGqfhc05A30dGl0fO+bcQjndRnb3OqKofYBDggA+c49bWMaS7NEOFxaFCU+fdcD87Ddn0q9eVhe/z8Xf14W+Ln1IrK3P3Kuvr0u/37Ul//07dLp9NHf6GQw18fllymvbA7RdP812gK2uj21zx23aPXfZ7rm6voE+7/u99yb0P28Yb9dQ/zKwkcvlXs5ms58BfgP41g3HvGXWl8sr8I9mTYEDIq2Kr4r3dTx8ktvxsdEMMzywzXmTyNWRwhZBNJFzqaeWQlhjEo7UyWl9HViIMkjurN4K8sRrKS9hLN045Z5SiAnrR8IMr5hjzgL3EzBErkOG2OJLQIWTfJom1vT9C1M/PDfXZXa2QJxpEohmimETu9sIFCgCOCFpI6JervaMUe4qLbZQDH4w0KY/UmfLcNNre5bZQ5eoNcKcXprilddSLCPOwgUgL/VF5iuO7BsaeVfPENR3vh3ry9sSqlwu12tfPQX8PrLF3cj68hxvgfWlD6sNFGCX9Le9zLsSfZU2owz4xVjXYgetDVQQWhC77WEu3EK2rrQhUVNe82FDT91qBzysVSjQ9iC6CQTFrdpPg5lFLNZ7GbgbcehLyJb6E8DnzJZ2mieB9zLHHFIR/OfmTP8QeIVt430FkZehzoMfgVRrBZEmvJWeMTW15DEs/8333kmlHmE6VWBwZM0m4EfWGFwfJuDrsFxKcubipJSfVeIsY8u1msA4IbYJMUCCJOJYNJnYBZPZAKo02U1D9sbxtoTKGOCfz+Vy30NgRwv8AKwvO7QpEfAM5zIw7lrC2N4Gj35fh30miQpQa4Y9AxvkxWoIIYH15LbBg4goVqvew8FebwW9gOp0Yo2JVpCnq1GGkInXfNycOX/N3GcKsZsUU7+NaC45uo3Elj5n7mIZeSHnkVd5hiZxSryPFXOvWt84Dp4HnB5Z495j5yRldXESjp8VQluTH/2xYIu/efleTi9N8a6Oj5F7X4alKblkdJN9pvR+8ep+ipU4S27A40pX73UDC96bBWb3yTK9cD3p4dMuAGcImcj/rYmv3y7ry68CX8xmswq5/plcLtd6+6wvAa8cawoRjCTy8npZWrQEXXmd4pE6GHfZj/VTlIg+5W9TMl5gqr/lVbgoYK+3Q7ySbWgSORRo81/dWeBSKckfmsz/tvlSuO795n6DpujBdX0kTXV1BD+n8OPySUq47E7uPoJYBkIgXSfAKU4yTYggsu1pYPRQsiQCNb0gXKN3vSo4st7uXifOMFNK8uLFSU6dP8KHDl6WxPvV/UTjFS6sjjF/+SCLG5K7VCrHNNbjDmIdFT+WDiB9xzqpjo8FU6Ah3uoPGFK4DevLD9/k2LfJ+tLET4gQeFioPDC8EyTSDgjriYG3DARb0pNuJ8j2RtDkw2SF6SvT5j5VI1AxpBJn5uBlD4+ukXetStbaOyX9r5o+Mq12gBPm3FrZAj3VMIhWTQ5tkjBYMHd9mKPRTT4cbjB3bYwX8FPisywDYsV8H6vJTpvvWYoGQHcdmA41mE4VuG9qSRiRtZllzZGij1LStopr20aRK2sj/N9nTvAjx85xNp+hsD7M4uvDZutS8n7REKrRdcEoudkFYOXamFdzWTKfE9MkRpUjt32beyKiDn34EeFwsHbQCuB2fUwbQ1QFy+34GB6ssWKSvDohavvUkNCClkKBxG2U3lEj8YtX93sB1eVSklY7wOGxVa8o9FIpScU0ADpszquVKSAsBFW971aQiWTJo2vUwo1HJi6SKqQ4Y0qzgqRZIY2QDKoRfAZoU+YEy3yI48DxTJ7jmbzt3NXxSZcJBTBq2zjDwjw4vcBD4Qb/7swJSYT/zY+xYCqTa1hoUdJ8HRqskYxuej2nE06NhUKKOZOvVIEaQDSnesFVNswspG/5NveIUPm8WInGkIxFgIvgx4eaYfybUq17KFli/vJBbzsC4aTU+n+NW2nRQqqvw2HTl0bL35W0v7QZ5brBV7mAY3oIJ0yXUN0iyzWHFSOoCaydVUCM85VmmBlj7D967Bz1VtDr3ZcaXme6uJ8kIpBJYJD9wE8hhnsDSZFUKNLmGR7n3ZU44WCLnUpc2upeOiRdv9ZGRMAideEfDTfEvtqMQnSTeKTOwvUkBSzPF9iCBwdID0ifnpmDl7lD6bsN18T5awLRqZvnVI88Yd7JPDGWd4WM3zj2hFD1EfDyPSEsXES9qSSQ8IsnWK45HorSQSYtgfX+lGqoiM33aZWM2lFKHdTbEBvMlmaCrGqzjccrNA2VY2IzSnEjzhK74yTfQ+yrMxcnmTl4mWojzA9NXvTIQeKROkfGrzJejxDbiBPvbxEnyHv4OM8xBvwuspxkk13kBPPX0hzXhLrBYhFoS+Ml3QpBDPKOj9fPnOC5V+9i3mgaDSRbDnQRqvsnLnrPV6zEqbeCJEwp2UY9wvBAne3tiNek8j0HLnuQ7MKW4xGp3W7sCaHq0mKGIBXsFiNpDWsYu24Ax2wrzXaAohvg6NCmh9F2TWGoxq50lU6Y/5/NZxgItthQeG41ShUY3wkyHmp4pBmlro+UIcDw+zq8+8h5CuvDFNaHccINgrU246ZuT2NpFcQ9d7s+pg22PVlKMpjJk+0h/XilkOLw2KpQQvYf4WNDDU5U38cf8j6K/DpiX60Cn+IP+I9MLU0xe+gS89/5YY5n8hQNX+m9J0+LhqrE4ep+vvYf/jPOXBvzDHAX0UgpZDE64QaFLUdSYNFNb2vX5gatdsArN0s4NVLbEZaQ7b1+5SAHgOGBOjOjq2TqEZweiqSbjT0hVLBNiyBJxD3X/buXNmgdKG85xLccb+LqhgijsD7MMDDkb7NsUAX6+QWkGCGBGP61Lbs1KjBQwxKarilW4jjhBoeSJa/MShsABANtDgOvvJbyBArkBSwD7pWDPJrOS5rp6n58Y6tER9aIXpz0KmuikTruQJqHp1/hw5E6s6/exWeKv2YM+R8FGpT4En/x+idwL0rL22cWpimsD/Oeu16lU0jha4S5vDTFC+ePcMoY4nVEuxwBPjb7HSZTBXYaYV4ppLj+/XdSAp7+3jspmzkKmXuPDVgsmfbzK2MXSxGIb0c4bmJkU33Kan/zsUeEamdXOmUavHauqnkULa2CFgTONMMkjIZxEE8u5MqEJJHJUAFUIIl0ZbHw3yI22KjFlpfcAKlWkOubUe5OFYhF6rxSSOGEG0wkS7a49cpB8tgK4BbwIuBfyXgUilGfaYd76BJ3tgNiWCdL+COzHPyxv4FGmA/uv0rm3DF+7/vv5It8GfgvgT/nr8iQ2XiIxY0408DxO9Z57tW7eO7Vu9g2saY8Nsb0flPW1TQvf9N0t6i3ggT7OgS6PlbcgIetUkbjFdPMu7UtdZC9MT8VVheY3wnyno2gt6XeauwRofIzB7wX66moB6i1aCF2c4C62C1SW11EdoKmuY9V/xpxL2JhLepWu1ieUdVcQ+bvSs0TM+T/h8dW+fbSFIcM59XsoUucvXLQc8/HkQBdDVkQhwspZg9dkuIN0/l0qx5h8OBlCRH4XdnCWtLC7dhdr/Kbw+sUTz3IU3wY+CrwNP8rKd5LltNA9fVhL2i5jY3LpYDZvg7vuetVJsdW5bzKwtcTLqlfG/OqlkCITxSqDXB9y/HCB2ngfoOIXSqP8BQSavgL825+6zZvc48IVZTj4CEPlBtJc3fq4WkMC6xm6c3R6WS5yHY5hBj6cSx+SQV22fxe+QfqPZ9tAeWdIEnTVBLwVjxIEndpVVqfjRuSjAASiZ5DBPiF7QgnV8d4R7AFvg5rxqscLCXlhXf7JCQwvA4HL8P5I7hX9/P+wRrf2von1CkgHmGYZzhG0sCB1c5UVOs4ghz98A9/hx/SmFa4IV5iI0y442OoHWBqbFUafW/EJTcaanB0/1XqRiP7fR3Sd6zTfH2Yuwdr/PChS6SG16UJp+Hr2kDyoAUvlX/zsSeEKojfK4BUIdIY0xCikWLYPnRgH0lbZmwj7vo4PQQVyAMmTcR7wA1QQCZGI8dKXaThhxayVSqkOW8Stxp1Vyx8PFIX6JqvQ9wnManDwRb+60nOILnD35k/xn9nOB6ahldh8eV7Obr/KqPbA9I+1/QCJFJnNFliPF7h0JbDglcGdQ6oUeJ9gCM0QYiJ8ECswqFkidlDlwhHN23D8ZE1aIRZy2e8imxNdwX9bVxX+B/KNcej+dbQSQg8WiUQyoDU8Do/WnM4m8/w1HaEudsIFOwRodKsvHot2r1J9/beBLFqnRIiGPNYm6aEIC5TiOaaQVazenL+eoSNnSB+JGodwgLz/D3flSV5uxXkUinplWiVaw4L18ZIGKojsO1NlNL6vYk1guURXjD39vvffych4JApXF2sRvnC8iS//Tr82R98io/MnCNlXmJpM8rcaykWWMHS9UyjND4uDo75TRoYdmr8yJHz0oUevK7zDcMeqPWKmupKj6wxnSp4pCW94RRl6RsekEqltgk5aKR+Illi5uBlZgspvvXqXex5Q11f5jgCJXbCDS4YtzaOvUm/+b/T36K6E2QD2QIV8LqB2DNDPed2jN3gdnyUd4KeFtMvFSo16Cv0UG6bMEV52/JQFYALzbAXIws1xSXfdoWy+sDwOhPrgn+vIcnlCPD0ThBnJ0gGsU26wL8Anp0/xs8OSQ+bgWCLS4AI1EXztPcjG2uNFJK9Hwdm03kGgi1eWx8m3ggLOsHXoWEYmP2+DtFInfGOz2ueqdHzqbHVXfwLeu3SZtQrgTsxedHjbI9GNyUdFGwxZZyAm2TpvLEnhCqE2D4gEBUHa/9o4UIvVqbVDpAwn7tijlEEUK/tVAQGdoKUXx8m0nM+LY13EY2m2656RRoqiGEnSLdGsCy/bXONlBuQ+rwthykTD3oASb7o+aYRO24Jaxe5lHmRPC9Wt4lwkll0e/8qEq86AcQ5zighRgGYjVU4sv8qNcO1oJwPSkEZ1ubh7QAN07lr5uBlL7qvfKSHkiXWaw6jBy/zuiH/UMLdhGFK1u4SafC2/JF4xXZrvcXYE0KlnJ8gghEwLq4yohwarDGRLFGsxMWLMbjqIFJPB9pHxbYrA3l5K4hNdgERzjzWE1QBVEdAp6pkrp1E7LGWoXtU/LxikPRYdTBANNzdQKK/xaOmuGLIaN/jRttpFuCjJFggwQIr1PkSpziJbMxaHTwJHCaBFcr0yJqniQCv1dsdTk1QDB2fGP/G4/SZ41QAnXCDkeF1CLYYaAUh0OaOQ5egEqfTCHNhdQy34xPhjG6S7umaOhRusGXSObcbe0KoOojdpARfwb4OG12fZ6gr+bxyhPvbATbcAHWsUQ7WgwuZn+cRd7+EaBbVhglEs81jS8Ly9NQcYpGeR50a+Y0464jgqq2nAq098noRFi2E+3PYqVE0ZBqLV/czPrTJPuPqhxlkmj6mgd8jTZFJBGrWRNI1SoZ/nhqjHDaV0StrI8wcvAyIQG2YxtoE2mLwB9qCYAi2CMcrbBpH4+DBy+yY7Y1IHaKbRBthMe7HVqEdwBds4ZiF22oHGDACpOw3+6KbuB3f3w9NFUTKh/y+DnU3QL3r89qI+cFDJij9dNENMIcNYirPQAoRGPUE68jqVvtJW7v2pliq6LbZBEK7jj0OLG/EGerr8GzXx4uAa1o2HiXGFWQCB7Al9iuYoGolzonJi8wcvMy3Xr2L6VSBSj3CuinoCPcH8RPkRbQJ5Kr5dB5ZCgVkG8zzIqvEth/nkf4WyxtxuIwHJW62A7aReLhhtVUlzk494sGwAQYzeUbWh2V7NF3rc+ePkB1Zg+gmnUuHuDNV4M5GmO/nM6RH1jibzzBz8DL/+zcf5ng6T3pkjcL6MA/d5n3uCaHygQdLOZpY40x5RGr2EIGJReosXt1PPFLnwk6Qs8jUxxFIimDDLd1izPxe4TOKAq0i24gGUIewJU5L7BAziQsHgykyx501LMkieFcAKBAjbc6hIDf1WheA7Y04zsI006kCh5Il0VTxCtc3o6ysjVDd8bGIxLWkCFS7KmiZlHpmZ4AzPM2zPL3zW8RJ8MmNOOP9lld98ep+qg3pIHFnoC1CE92kP9Bm3ODFipU4kyZ0QUPoiDB9djYXpgkG2mzUIwwYLi2/r8MzC9NeK5YmwpOlcOzbjT0hVABnDddBytfhyECd/HaERKjBelO4pUpugLlq1PMUNdCpUBKwqQcNQaiRD7bfXRwRgCLWMP82AP1cQLSTRuwVOlw29TLgEGKaJjWq5FghyxF2e5tVYI4m64QYMDASv6/DK8X9Hm9pwVTiPAWUySF0hwvItqf21I3sKs8Dn2GbP2QOmN0JEm8FyW/EqW3EObwZ5YEj5/nbQor0yBq+6CYEW/hSBUY6PtzzR8i9epdncL/DtAZOj6yxeHU/mZE1SptRhp2a1wYlNbzOHy7exUcnLgIw3/VRKY+wUYYfv8273BNCpXbIeWDgetLGopqS3Nw2BaEaCYfdsao4NjwAInBlTE8Y87sqgrnSGFQKm3QWqE2FOKNeaOH9WMovPw4JHJJI4ngDhyZxqtQo4Hhb7mHUkG+QJ0Qaif8EfB32Ddb44pWDpJCNTezBBUS0nsVqqhFzd3nzREqWsQqcpsnneY5fooqf4Eac8YE67naE7205jK+OeXixZDtAOFJna3UMv08chWHj9Z3NZ7hcShIxreNqjTBn8xma7YCH+iisD7NSHqEF/M7ypAfN623vcquxJ4SqhpTdRBBlH8PwHvjbFEw3rd7qmAlkazyF3cq04lj/r8a7Nq1WToMBbIB1AC03lxHDenglJHiqJGS9Aizn3AHyFDnAOjEvtfRfAKeJMU+ZSyQ481qKhL/NkhvgNLYYtEEbqa1VOHHK3GXcXPVupPrwIpbjAPOZ9zJHhiFGmd6OmBIKcF5LMfBaikys4iW01ePTZpu1RpinyiPcb1qpeK3pdoJsA+n1Yfl/V/pXK4Gu6OoNCoYP4nZjTwjVNng0NxpWqyCNIweAdxvGOcxxTSyZmGLFMZ+JIKFCsOkb/Vk9PeV8UmGpUMbPKEPgAfC0n7DCQxQ2rOcIkQJSNFmmSZs4CaaxMSmXhNcxQkvw4+b/sl0qKK+NFBkdw3ZbCDFEiirXgP8Dy/4CorE+A0zzHB/jOd7BLDHKiM6bAlZMkcIE4kn7fR223QBtINLXIQh8y3C1azhHEbOlZtiruFZHRqAwslzLrFJmkj2f+9PksL7sK9hi0ANAwNdhyG9alHV9XtcEtYt0S0kg0fUpLOwliQjbOlaLKclqGu1tkCdJwotZqSCuYCmHkshr3UC8UkkL5VAuGQ1HaJeqRcClxtM4xHueBzaosorqK/H0suYp7jRbrdYvjuLyT83d/mnPjK0iW+K/Ah5gjgHgpyiaJaC5zCIQ7/oIuj6vds/f9bFu5jyNrWesYBdUb4ZBnyuEnyYphDTkSaQv+83HW2V9+RcIeqwf+JfIzvMnZkYLCJNL8+2yvviBokE9xQiRwQYf9w3WWDLNetRbU9aUppnAA4i3ljQ3pOGCIHjAfy15GsJ4lMhrDQEh7qHIPEUmAIcUsMQyRSaoItvgRM+5ddsVrZJnyGi5AqJrpHBAScwOUMEhSIIEkCJGgS8j2mkSmMbPY4ybl6FOQgSJgy0SwuWD5g6+iWyXYLk5zyPkQM/jMskCNbaZ8XhIFYMGVuC3gSVW+KgpXlhAuRRkKBxIzYC6d5YKb4We8U1bs2Wz2XcDx3K53LuAHwN+B2F3+cNcLnfCPN3HelhfHkESVv8sm806CMNLJ5fL3Y+ku379xmvU6SLwth2vwli3qe9tOR5rb9FMUmyg7gUhFf+kBreuPs3N6WqDG9Ce5nOzqMA1kFX4DQq8BJyjypeAP2Cea8ybc7goTZAWaMU9p2EZa4P4vaDIOeAcJWqUUaIQJU7KAA+SMT/djbxI3ZauXP6WAAAgAElEQVQqyIJJMoOfnwJ+GanL7R1K/vosos2qLHPaK7dSYbmCaN7zwBI54DynEI26hEuBFVw2cCnTNJ/L41L3ZjNGkjQh7mGcD934CneNt6Kp/hPwD8zPG8g7eQ/wKfO7/wv4efNkb5P15TzwK8AIBT5OgS1sZ7p7eJSfYgqrludM+zWoUcFhng1SxDjFNcqM8gi7ORWUXEwrig8jyZAF5AW+H/gK9+GawvYQDg73UeYJ5KV9gWV+mTwxXBPUyBAjTxV4jToOZUaZMuesGjYF0TsNcxcvUfI4oOLIel4F8hRI7MKJgY3qK15sHVhmghK/hazbr2JpEhcQu0vJYh9kiScI8bi3SF2eRNgfznmzXuQMRU4iGlfbTGYYQhZnEr+XYThk5ky839uPt1JMqvkCgE8A/wF4fy6XU9OjhGAzxtldZP+G3+dyuZ1sNuvPZrP+3XwK21jOyqfZPb7IU3ybef4NHzG/iaNEFg7zuECMAssIbViFEllOYAxP7FaosSqNZ6mLXEK2mhQpLmExW0kep8R3zZl+EZdHEaqgMHkSiNgOAhcoc5oXPZjKAPKCryGWwCvmjDvmMyFER94Jpox8idFd9p7mB5UqKWj+FsdPiYcM3/kvYLfDhrnW0yiVW5OnTY6yggRV2+Zn5RQUrJaQyT4MhIjjeODIOCJMQWwSXugoldb25uMtG+rZbPYDCKvEe5GlouNW7C5vmfUlnc4wN/fNG37rwwKId4AcQmAYJYqlT3Xx0w80mKBBHUzfTx8hj5pHz9ZBpl0nTWv9fFiSHFBaHTleNqU7EaXbRXRHBFknMXNkBiswXSBqPneXOUsHO9VdoI+jRyPMzT2GTSJtA/34CBAAWnQI4PPMee2JqM/hI0abL2Cod294yhtHb2Sp1XOcwhQDgI8+HEJYnivV9j6s1/3PqN7iGna8VUP9fQh/wo/lcrlKNputZrPZSC6XqyNL8yo97C5mvGXWl5WVILOzryN8AxkkXjOGTOcV4I+xfJcAn2GIX6OOeHo/gXgNBf6NOe4DxDnJe9gdk1ICMc36+/s6FLo+ltidD1R7S/KHG0gFdRqXf4Vogp9GPCApp7JkryCr/z7EGpogQYwy30WJXUV8t5ibG2B2Volc1QiOm+dWGkZBf8bJMoBNCYn2dJBI/LNYuuu3MgLYykplJdZmRj8PfIAZxDlJmKvMIXGwCi8hxa8X6Xb/+rZXuO0wLC7/C/CeXC6nNZ9PIz7lnyHxvqf4AVhfZCU9xDQPea64kKo2Edv/w2YSziGT/QWqfAGYZJEPssgjRLgPebnPAwFanPTiWcoqnETUucao6qakXRmL1xFhUo6BuwEMOWyFmjlTAPjXyIupIYwuKcQ3uYZsM5PALHEcYzdMEifm5SlbOIjuUeuuiu1jdQ4RLNCwbIUnqTBLkVGTnkphO1kdwXZxULQo5imUUrF3TILXGFJTQ5jP/j4wRpn7OGOu4kc5Fr5k7u1l3kjcv3u8KZNeNpv9R8jMLfX8+uOI+hhE9qWfzuVy7Ww2+xHERekA/1Mul/szE1L4P5F3VAd+MpfLFXrOxcsvu93Z2RpHieEi03QUecFq4yx4ArMPK2S9I4NM1kVkslLAL+Dnk0xjA6LHB6Q/TaXr21XCpQT4EWzcRnmodP+uk0OEoIxQmz6PxIo0nTJm7uFB4BgRRqlzjSFGvRTOLLLR/cM5+M9n1RNrmPtVp17jX9PIS1dK6gCC/ZTu7HZohaPaUzqUZvEYtoHRESy52fPm2r1C8iDwaZJMM4Gt/yvxK4ggy7x3u1duyaT3lukZ/98c33+Z7jtna8RxmAEe7ZM2tcFAm4VCig2TivgWcAoXefDeTP7thoJwP8VJ7uGE+a1WPtexwc441s5KIV6OarkgeEHDMvKK5oEyXwN+EZu3m0S01jsQQW8wZBLPCvBLAP9yDo7PzmPbyA6aK6vBHUdeehWhTBzELqQDPc+XN8ffjU1tfxWb7qlgGWYGEbEeQwTwaexWqPMZMM/wPzDOSYqUkQ3pCWxsbIxud+7vnJ7x73T0AQmzVWiTosWr+5lIlhgK2yKDd285VPAzzy8gE76GvPbfv83ZC4gd8DynuZfTPAp8kGkcj6dBg41p0+FByS0OI1pSo/H7kDWttXcysogmeBnLez5mjpZYepUyBRJEsN6da7RThgQlRk08qE3IYLpEuD+AxM6UyGgcu82Nmuur5tkHTJrI95j5zBXgx0kwYbgqNhAao+cR5+MYNveoQc2G+ewvUWQMqyV7bbDebfaNY88IVQuZlhaGBtG0jR0Itri+5UgOC4mfXOBD1BnFQvA+h33YJ5GJuHGsmr89CXyJBT7BAj+OruBZHPxdHzNDm8RrDotdnwdRBsvxoH5UExGZMnFEE64iL2MVGwsaREs3irgUaSNe4gD/nDBDCGHbMJDGz4qJUinflmxwxxDz9LuIMMSRrfYU4oRPYrewGm1iiMBdMJ+tETd3U6aBJEUSiP3nmPMtmCN6hSuP1Uw3jtvvEHtCqHqrjiVGLcT4mWqU8aFNgn0dygZeDOKZLHCSICcp0yRCyBRf5rHGaf42V3zZfKnqjzPHJHP8NJHqxzmOvOjeIgivSZK5xyouErW5Zs7zmLnueUSotFvCOCHSnAAK+AkSUquEIH1eWkcj/aIBy1S9IKkGNLPI9vpFrEZ8GtHtTfP3UVxPqzTNHPSzzAxHgXFGgVEWKCAaMAD8rDmXNuRWgWn0XAdz7MOIQ7F1m7ndI0LVMuGsOiEvqRxHyqvKNYcl46UlkRveh2wEBWCGkHhyvISs1jRic+mLXb3xcj2j0vNdBK3O5znNx4EfIckDQmqLrdy5jlIUrmK9vVWsk6BmfgFx97M0yTKH44UsJN7U53G/HzZ3YRdXQqqke3rtJXBo4VDlk4jWehK7cBxEmF9ChES3p9fM99Mscg14jCQh4qSoMGTuW0tCfsTMvAZJFY6jsJs4ItQZdtt0bxx7wlB/+WW6s7MCBI4jmugwNpocx2qyFWy8aQGXGfzMs4BErQcRcVONUcV2KI4jYrGFbeKjav9W4xHgC4yTNrnGL2HR6GewJIdqb4BNLxXMNSVpLFvSg0Q4yTDw9Tm4X11Sc5ZpRO8o4Zt4XRaBMW7ueB3Is4IsnCvIVqjjYcSmU5cCrJAAfJQUMW87x7S7lRFHBPWMOd5BhEwFSvEDGbrdT+xtQ92Wk0oubxF5rCPIZCrWZ6Dn+wUggt+IhaZD+rHu893ISt0BjjKD30tSL/MZ4vip8OvISmxj0x29Qzyk4k3+IkM/o3QgDyNa8o8QLaAaS0Vmn8fzgLmqpp17y/hdpElRquOjtBMkhFiPJUQPl4AEaWMjVRDtdB1Jwz6LbWk0hOUXbZirfJECH8TSnuwgQnjOHKP/H8H2ybkXMeyvmWceueWMwJ4RKrAm8QYlwvgJcQk84nr1DDUUIAY7LFHGei1hREgyxHE4TNZDKdbA+3kGPyngRX6NFTDsweeQCctjjfrbDZ10EG20igZexb6qYMF1ukUu0CTDFCEv4SM5R0OdnRAq7rm/PUS5GfZosPPmWTXar0lysaNq2KDwSfMMBUQw1hBjAWx4AfNsKUTzaGd3P6L1cuZ5Kuw2HTQWF6Y3KX2zsSeEyuexRSnj5w5xQoxjC0HBYqz8WC7KJRaxRrHmseJe0mQGC60og+cJHRmskW6EOeUGuI6fNPdQ4B5ThuUiE69bJsg2oamUFDK53wdvS9SA4pNIovcTCPKihqIRNJJdQTxeJXUdAI6PrnJi8iIrayPcf3iJuUuH8BsotbK7/BVN6oRYNo0r5Z6mEWFeRYQojGz9ATNLAXO/Gex2r2GCbcRsWEUWpdpTq1j7UF2JE4gWSyMJlFuPPSFUAs8VNskmNeA1ymSoEWLBAC3GiTGFJUPdQK2bfViEg+1FWmPUe81go+WKQEg1wlTcAAewUfTjiFZs4WeYD3iVNpri2cZuVbIlP8AiP29SS19DuDtV4/088GkE07iGRKMziBBM0KXDBj5Bqg5tMpEsEfB1mBpbZWl1jOOZPPFSkmojzBlT6XyUEIs0gTXqfN881SqibS4ignvCPHUeG35QUHTG3P0qYmCEwYMGq7cXMH9Xh0N/v4CN0E/f9n3uCaHqgtfGTPbtHWCHJqsoALjICkVjtscN5FY2zDE0YmTZDTI4jHpmpRYblLC4hzk3wBEkJpRChKVo/j6FeJ7j8QoTphNqyTD2+YHxwRrJLYc8thPXEu9DXtDPIsFWsG644p6+DuQNrupz5InxHFCpRsEUb47HK6RH1rxeznOXDvHuVpsXtiMcBoKEmGfU3G0YcU6WsVQmL2O3vgUzf6OIoGmy+n7EBnsN60GqtkqZz6phrrsAPefQz9x87AmhCmBI7oEio8i+nsNm0NW7CgPXqODiEqPqEd0rOrEN9DPEBAfMp/ahvfN2M/UuIVN+AtuWrY4Y0QtAaifIgCGdbbVlmiKYiuZ6xKvYGUI0XAKHF8kjk65R/Ax2ZWtwNI+8vP8W+D7nOSll89UoC4agdXpIGlVWTIXxhuEkfdqL5Gl0PYAY0erJ3okIyhnzpA3E280hgqWIrSYSFthCBEjtJWWbyKBenthpWuSawdpbtx57Qqj8iO0jYDAHl0nkIYqojQVxIqR6KIAU7tFvzqIxnUFiyNQo6mkACVNq3Z7aVQXEv/sIQqgR2Ql6/Oh1YGXL8TDxcROADSKd2xWurARtUqL1GCI8bWQbVBulN3+uwcQq8HvEOMk4NnxQA4rVKKeqUU/TVtB+N+qHHmUCv3cPl0iY1nBr2IWoixBE6+wD7iREymD3M8CHECHUlM53e2YmgzgCIEKYwXZJvZmnbMeeEKoQojEc4N1AiRhfJkbdg9LVgCHpa2z+9yIDyApUq0lTIN+g4KUwHqSJnwLz5uwZFPsUMiGGAi/xFe5jeifIOCKIAQQdoRBmF4HJKGp0GFupo9SQRWAWP3N8EjHIfwtrNGt4AWyQFODrFPgVCvwyKUJeLGoJ6+0p/A7TZGiG3Ryoau+dIozV1g3s0gmYa4+hkfAqLikSJlalhvwqNh6leC5dsFvYjqX3cbtmR3rF/9+HTsdETPjG/TtBfhL4NtMmEiwd6S6ZIKSY42pDbGNabZuf1Yv8OnCOAvme340iYdUCzZ4EaYmneY6HgGOMm0pk3SKPI+57CtFIEWB4sMb6lrOL4S9tPvNeYIH7KPJFRC8+gaxsrTK+0R3/AnCeAhkKPMY8J8EIfMhcr06TcUY9Z0E3twpqV5YRQV3FVjq3e45qmLlq0DSwGpdRQ8M0QR4oenbTKrZb/POIdhoxn9fF4CDQn5uPPSFUQZ9LanCbeisobUKcEjMdH0PF/SwSQFR0gDrfoM79iEu703OGDGIjhJEVqfaLutY6rpmvm40ngBxFHqZlcnUg8Jaj2GRyFUgFW2y3WgwHWyRaQeKGNESZkos08ZMwoYkU8mLyWPzSjUNjYn+KtBZ5AJdZ/IzyOJAgxLexHFxNytjtvoINGwSwKZs8duHp4tNWtQ3WsfpG2qJMmuOeN+dVOzWP1XwNrCNw67EnhKqD8HJut4Iko5s02wGvTUiSBCV2sJn4p7DRYReZgANEmPE6rNeJsU6WPMcAPylSFPgado3ruPEFnwOKlPkRzvAAj2KLLQ9jaYISTo2EU6NiuKGmnRqVvz3EX6INga7gsoXdduLItncPEqS4Udh1VBBU6Z8Cn+fTfIKZ8auEAm2CVw5yCIH2VklQMGECP6O4pguZyyC2WkfznmPYEIOmrE4Sw3LIO971Cz2fVy+wgvUEJ5AF3msjvnHsCaHq97sko5vMXz5IaTNKq+vb5V2VyCAP0+CNgiCbZwqLLBhGvLhx0hxHpuA6H6LJfdjo8zJ2Snu9mWvAVymT4NtMe02x/wprQ33vykHvE2lg+nqSGX+b59wAVe/+GtgI9N0kSZkY2R9jQXmaUlKNoKMC/C6f4xg/V7yHHx1dJRlqkAQKpnvFFNKJXkiIQobwbQAbq9P856p5zp9ChCuD2ltx7KIZwg88QJUq4lHvQ4RJbVZNNV3s+d3Nx54QKtf1c6mU9Mi5envSCMj2JHVOYwULbL5QYldK5q8l32rE+rFd1F1SLAlRNaJ7VhGvJ8wbhfVLLHMP8BEuEKLJdymTIWEM3BRiKeldbLsBk6dsmPvU6HuGIVJMIa7DPB9nnjISnTsGfAyJaj/PbsG6CHyeU/wlw4ZUv4IlGFHPMI6mmYrmuk1sdkG3xgXEvhtCahb9jGPjdjLnTTMf+xAvUBELNSxWLYSEFF5840vsGXtCqPr6uqRH1hhWMvzNKAXjtquBvMBJ48X1GrqaL3S8CIwivbXMCGxRpmCuJ1hggiTwFc9h/yY2+KcGbhuBkizTZALRYKuUeZgyJygTA15iiRpLHhdCDRHSGhLMEHjxNGLwL6G88Alz/l9ELJo8FuLb+3xPs8ATVHicaWSRhZBFdwlbv7gbEB3GVtBpOKOBmA0ngIfI06RJyCvVl1lUxKcK0POIVtMtPGOOPM3fC+QnSPOi1PA6qeF1xmsO9ZWMR/a6jAjEKWZY8B5eh4QuE4ju0fRNBNkGM+aocaRtRipSx92Q3OB/Q4oXSLFMBvgDdidQVbjUrtD/PwucoUoFa3csIFrniDkmjzIZRPBzGOmU2jT9ZKaBIAHGSeMCCaZZYhqXMG/cXp6lwJ0UiANbRLjPKy4dohfWvGzufxARrGPYdEtv/vHbwAkTjxNcvZ9Yz3PugBcnzGOhxDUEfYH5+X/jVmNPCFV/wGVqbBW342M8XmFlbYSTPySM4pV6hPF6hHLN4UTXx4Ln3fXaQRskiXlpzjgiRDFsmxDtFFXciHPCoAEK68PM1CMs7Dh8i0+zTA5ZodrRWVdkL3y2165TYVMY8xks8FhGnUc4Q4iyG/ByjLs3btFi7wF+j48hAqqpkafN+f5H87uPUucIIWKGNO2audZ1RENeQ4RSoSnHsIFKRR0ouO9OpHLORXhMR8zx55H41CPm55cRIdVnu5n3unu8JaG6CevLo4groyiw387lck+9XdYX5fCuNcIsrY5R2oxSrjkc3X/V4/YOBtrMvy5obgsr0bhUhbPEqCABS90Kj/rb0sjx9WFK2xHi/S0Oj6wyNbZK0/Qd3qhHcAspNtwAA2RN+45zZkLjvDEl4SDaoIndLnWi1SsKmN9fA55hiaMsMyH0k+aILrKVadzpOPBJUvwBv4nYWJ8xR34dG2f718DnafK8OZN6xNeweTwVoji7t6kKokkfwsJh8mamXjQ/KzMyZp4bWENfo/VtRJPderypUPWyvmSz2WGkEeezwC/lcrkne45T1pd7EB16NpvN/jskC9LJ5XL3Z7PZxxDWl/+69xqNnX6PGvqVQoridoS4v82Zi5OkR9ZotQNUG+GeT+i2oyCzMEs0SRDyEsgO0HKlCXcs1PDIT4/uvyrdsUyvmaFwg9JmlBObUZpuAJc0i17WvoZlXE8gEfxj5h4WkSBD733dOLVql7m4jBgO9RhHsI4EiMY6i7zGGVLMM4TAZ0ZI8gFKlBFs+p8jwvEpxJubRhbAV7EEHbcabUTzjSFCcRoRsG8iAvguREsrYFEXU+85J7H21a3HW9FUN2N9uRkF0Sxvk/XFBeYuHSIYaNNqGyJ8N8BQX4dL15NeoqboHX0O5R5QsomEsav8iPF6yXwmuRMk1SeQEu3FUmuEvabU2n30bD6Df22Ek+0Af9JNscAjSEQoRZkmE4So8xhxNKU7Cfw1Fh2h8JL2Dd8r2C3kXq8VyQDWeI+YSVUmZeGwOkmCrOHcSlDis1Q4hgjTRew29izWyXizUUCEcxoRjP8Z2fYaSGxMUbC9I46U+cextl7+tld5U6G6BesLwD/OZrP/FHmin+MHYH1RuodaI0zRdHNwgZbJt20jK3kOsFsewCQR0kLYai40hO3YoN0VnK7P4xt3jGZywg0GI3XWKnGvrnAg2KLVDvDZO9aZe32YBUND2yJEDEvqvwy0SLPIz1Mgh419aWhC0yS6bSkqVTyuIKJf7x+o4xhapGkswe0TAMQpcxo/J0kAFZqIptBz1xBBuFGYVEPeLEwCb14MosNBKsE1H6hkHhVul6LRO3hL4wbWl3uAjVwu93I2m/0M8BtIAXHveMusL0Np+Af/KeglXhT/2W9usAN8FGizbU6puamg4SuxbC69TJRd89kQEAqM4uvrEu6/k9G+Ln7fQbZdP04fhF0fJ1tBOt0+3K6PPu7gYbr4fB18fV2abkAYY3wu3W4f26ZcTKypLC3SWOG5GSNKn/ny02fuZ/9R+MALET7U16FhzqfG+y8DW4yyxSgdNrFAuyGkyKFzk+v0mRkIg9eJp2m+dnjzoRuyA948q+Wn/DnKXrN52zO9VUN9F+sLshHreAopEf63vG3WF/i1WTGytxH4fgApXRhHtoVnDPubNRQnGCJMDMn6aUT9AHD8wGWvw3uxGqUNjA82cTs+Es4WR/df9Wy0iaTEufNrIwLh9XVY346wDBzt62M8vkGxEqfa9TF1xwbVRpjCdoQLyOsqACuEKXMRMbCvYxM6N8ZzJoFPMUGIr8/Bz8xCHJ/XPCCNMDLHI3VOV6PMATWipnLmCvA1RMu8zG5tM42AAX+WBGmTaHaxIeRziI2m96Ph04ex290kgkCImL8/g2Q+A9hkvGImanS7v8Otxlsx1N/A+mIM8M/ncrnvISiuBX4A1pcAtsOCRIptamADOO2xF1TRcvIMjhc2SJqLpIDxmBiYJyYv8uCxc7y+PsyZi5PSR9h0NcivjZA0fVZKm1FSpvOBNs6+tB2RGryuj1hPc8XC66bzAZaZ7zwizEmmKTGEhZysId5ar42SAnYoEKKNiN86EpIMmifEDbBSjXr8peJeK9ryGNbGeR7xG0cQw/1BMvg5jtiUNfxUDfBOturHEPvrnPmeQgRFSNzkGv2IJ1lAvMmYuYNRbKC5wq2dE/s+32w8DtwBPJHNKmiLXwW+mM1mlSj4Z3K5XCubzf4q0kq4A/xGLpfbzmazXwfen81mXzbP+5M3XqCNbY8me+UycIU8cfLEsWkPveUwaSTYGUJe6lBfh+lUgX3RTcbjFcKm/90d0U2cQorxeIXvXDrkGehDphNUMrrJHfEKs6Yn4Nl8xmtoeR5ome7yYMvFXjEPXTb4+QFihnRVI9Ef5SgTLPII1pNygCzjOMwi+uB+RET+PaLOP4nF0BeR1y4+a4giJxCN1EaW4IOIUXAOCJDEz7vBK6MvYFPuFaSCqMz7KHAEQYu+iHh8WumjwdyMedKHzVz/KbYETm3E2+f+9kgxaaP738+GDfhOA3rnsbEREHtlEFlZ9zJBgruxFILH7ywwkSxxVyYPwRY7m1HWaw7NdoD1msP85YM02wFCgTaHjSeYjG6SGl7H59S4dnU/lXqEs/kMz5RHiGCpt9PmLsqIllpB8fQrQJsIE4Zm6C+w0JovIAL1dfP/MPAAQzzGh4FfnYN/f6JNanid+etJ/gTRXD+BpZLUEq1tJIChBRe7A7MBRIvdQwYRKKVWVPZmF9snOmh+XgGaPIGEHLfM/F5E0J4VbBXyGmLdaDJaEA/d7pf3ejFpgGe8mE+v19JbIWOPBWN/IJNfAy6sjjE1tsrmZpToiEx4u+MjHqkTCUpzoKXVMdZrDrVG2GuwtN0KMmhakCmUZahs25WUgeOmve07h9dZeS3lIcSLpjKlTh553b0Uq5/hjSNHlXEucI9Ev0wCfQh5XdeBP2eFKdI8gmzrC4hWm0G0mLRI8VNh1NhNbSLc08PxYGuTE8j2ug9LfrKBaPg0MMfjhr3ZMZzEYQOl6UcEy48t6wqYZ7wPyzhz87EnhCpMgARpj5rUzwyLpJBYzA42sQEG0eQZtwDjJnJebYTJRupQj7DdChLwdbzWZLFIndTwOqXNKPm1EeKROumRNSr1iNefJRhocyhZ4sjaCMHtCIvIi9pohhkf2iTg63gOwTqwSIpF+hGxVlvq5Zs8oU5zAVjkNCmqjFLu+kgYh+FuRCDmgSXmqTLDSSzDqFKcxbDJ8m38Hq+xLj8XSxMANv4Vx4ZZtOWJdhYTGHMIl1EWKSN2WgHRdQ+ZoxVZquTftx57QqjuwGoepQta3LVvq0DtA455UBZdS0f3XyU9ska1Eeavzx7n6P6rXhdzQPrgASFjqK+sjVDajPLtpSmGwg0OJUsko5te8PXo/qv4V8c4DDy75XAKmK1Ks+qH7yyQjG7yxcW72AYmGMXPqGlHMoIteugdAlsWQ3sLuECNUV5AihzUKH8vGv+KUyTHi2S9uFYKETAlX5vCstzVsFh6BzXUbTlazMzXMLY5gVIIBM2122D6N9fwk+AAafIUEOP9McRWrGHTY7cee0KoBgI7ROinjEyWGMYXsX0/QbyTB5kh5FHu1JDJeebKQWJXDno4qlojzId/+Ducv7qf1PC6V2I17NR46MQZXv7eOzlzcZJaI0zCqREMtCnXHIKBNqFAm79cnvSIqZU2+wLwzJbDZ50akWCLDSBv/pUxjYW93Di0wiWFZv07VHmRDSqkvMCn2lJybIACLzHNfV5MRglK1PhOmZ8VpQ9lU4zrECHBFNYmG8biOc9juVAL2HpH6UGTwOUafkZNNqFAiBRNjpkZ+XtCJeR2fAwjK2wJTcccw0IvQkCGCUJMYfmiekk7tFzKBVbKI3z59En8vg6F9WHuThUYNw2ly/mM13e4Uo8w97eHaLUDXFkfprjlUMD2CgQbUD1rvn/22hjBa2PGF1WM+EVzrylsCuTZnieMI6tdhQtztnMs0qRqks2qkd5DiEUmcJlggZeAY5wh5PXZEaGqUcMx3qEC7GwCPG1QWxrO1N46mDtcwJaX6baYAVI4FHiNMqMkkEZHTYMNhQEiTFM3TA63GntCqHY6/l2kYjYEP4oy3YW4z0M9LiKTX8HSMvfqh3mAapRxIG1spmR0k9+k+X4AACAASURBVEPJEpdKSZweysegv82pHngwyKsZNuesYreaGto9QUaIEE3vRRaQhVBht0CB0vEMMWE+r31U34FU/CwC7yBO2quFWUcTzhKjqjLJOH6vTKyFYygdt/Hj4HpRfdGELVN5lEKM8yGESabVDlB0A15H1jSi/fT5DwAtspS4xmFG8ZNmyXi5oNo0/caX2DP2hFCF/G0GCOxiApbxIAIMk/ZBZSTPHkH2f2WB6UVm944iML8TJFUeYaYSp94KMpEssbQ6RrnmsLgT9DqcJpCJd0INpsZWmb98ELo+We2mX59qwgXs1qjrWwz03+Xm1IVia1VxmcKPnwRhYII0kDY4rgQValR4jRRZmtQMxEUhipMe/FcJ4PLmjkRItVRdNjilHdIk9Tiw0gx7aNEIIri2MlyuFPGe6wLXPS8vjO4fcRJe86hbjT0hVDuuYKYvYBFJERLU+Ro2f/USRY4wTmxXhkrVegzLzasI7RKWNKzlBrj0Woq714fJjKxR3Anu2uaSwJHxq0yNrXLq/BGCgTbuTpAK0vE9tBH3jN80EgCVvi9hJPGqOKabDaX7yXAEPwnEOXk/slDeT5avgIG4nDMoT2UrbiNbawWHhAcT2QCSOCZYuoEhtUR0zpYXDGhhO4hpkUNvRzGFXu8zz6RZQz8nyaMEbIOIJTZE0Hjetxtv2kXr/4vRoI8A+pI2TJcF2A0Muw7kvcpctRdkckVfHEYCoRN9HdJ9HU9Ja1nAIvDt7QhPXTm4S7Np5HlqbJWEU2Pm4GUAkkObDADzG3EGsGx+6m1Jmjdkzny7MQYcIUWICeRFBfo6TA9ter1fPgK8nwQZHkfso2+YpzyJbk4FNqgiGkZrDCPeEwwiFYqyHVc4RYmyV/jhmnnSTl1lbE1REdtvepllD88PKyxRQzzANrzJtqdjT2iqGrKqxFa5CBSpM8Tu7PoyMEQdS0U9jRUuJdloIjk7zO/fjfV2wFbqqHvtmOsG+zrUW0HczSitdsBrE3sAWK9GvVVfw6ZrqoiGLN3WG0oBjzNFynslTaDT9ZGvRr0XWgMvbSxXSCAJ5JPmU4rJSlH3QHI1XGJomEKW1lEwWYkQCYYQwVNodQDRSjNI5nAdOMs1Jkz/aBjhEopQfRl4HwI6anu9qXtRAzcbe0KoGmxyitexqQKlHYxj0x6CEVKomKp1tatcpNdMoOsjgAXrJfpb3A+cMdudjhBw92CNA8PrlGsOhdeHWa85xCJ1SptRKm6A4GaUQjPs9RPEfF/CojZFU9x5m6f7aR5g1MN8qVbUUICGAzLIS58ASqSMq/9PaPJNtJLHZhy02lhxA0oVpCmuELDsRfdK5hoRM2frwKH+Fs5OkHcC/5ZRlikQIQU8S5M4y0wiS90x157wMAq3j1LtEaGSXfg8tpT7UdOb5gls2XYVuO651SCTo7EqF4h0fYJcCDU8Uv9qI+xVOytnSgRZrZpUBhEUdyVDKlahtBkVBpZmmCODNba3HONe4znTqmHEJU95Qrd7xImYwKiLJJC1FZx+T2GDlK75+RC2na+tbj6DvOBzyHZ6Avv6FMqizXmFebjOadPPT4xxNfmDwNxO0DMjfgEokGIeOMuDSIeHCiLq58x1HmIK0dAakb/V2CNCpVDcAHCPcZFBMuV5xAgeACpe+qGXKw5k0saBI6OrRIKik66sDxMJtggF2oybrQZMN3lDaqbBz9rrwywDsUaYE5MXcS9MyZZnOqMeCjUYb4Y9hBLYEMgj3IywMACEqHOKKg8wjWxQVeSldrFdu3RoAliDu+JpZpAX6yDencbFKogBEEA0yXXzu2Vsn5zv0mQcvwllKIHtDNY+VC86gIjQEAlOcQyx6bRS6DESpEhhc4u3G3tCqPrpR9Ccq8TNzaeBdRIskaDskeC7HkzvADLxB7DR6DoSSFXs1JBJGrc7Pu/lxZHVORBssd0K0mwHSDg1j1vghWaYCxemvE5b2t+q1Q6QHNrkSDVKGdEyTeSlKCfpzZ4MpokgQBOFv4WwgOAQlpdKA5Eq/JKaSbDAJyixYOagjRQ6nEf0xsNYq3QBm4yfRonMps0zNLFGuw0dyKcVCSGL9DAinE+igqzPDNbLvtXYE0LlN/+GuM8jiL2ErLsy30AmMwA4NE0KAcSLmkVq+lYMsK60GSUZ3aTWCNNqBxiPy3a2iH2pqVCDlS1BK9QNOO9dQ5s8V416YQiNXJfNlQfcAAlfh6N3rFN+fdjgqVzqrCGa5Bi7c35thEoyYTplxQkx6lX6dM1zL2JTJBvYzg+HzbW/h3Zbn+Yw0yywgiAgVhHh+nrPNY8hmuUilqNhkAiWl163rhp4cfLziMBZgdbKbU0GiQYsMeHZgrcbe0KoJD2RYhstUxIf5vf4Y8QfUnaXInAelxGGTeVvbKCO39chYZjuas2wB6FOODXaHR+u0VTqCfl9HRFAN8D2tTGcftFjmsxWbfYVc+US8noiG3HSd6xztL9FYifIOn7yHvfTzUYAabwoNXdNRPM1EUGZN88eQoQqha2+mzNn8CMCsW7ua4g0VU6bM2XN1zUEeNdA9KbapzVEGGZYRLa3onk2hQ0WzLU1OyE9ce5hfldlTRz4jxR5L36PXe/WY88IlRqB2jlUehhcQbYQLYEQkvkZ/ExgYi/RTVbWRlgxTDEt4GwzTAo40wxzItTg2z220DbAdoQT+0qcvZ6UdtQ7QUNdYXgXQrKF+Hsi0IoIGDCeoXbEyuNHtoibBT91izoGJJhA7JcIskQUurONOACKfsX8TfsoK4ozbz5f9fKih8286MY1i6VLOoWmjJZxaDLh2Wna0Vkj9ApEBMsQKIS4X8fCmF3geVzCBP8+pGm2sa0yWohl8Awb7AZ0qBUy6H2uCvzltTFaYIqpZCUOIBM2D2wbVuEyNp3jAJeuJ5ka2mTJkLdWsbSHIML66PUwf4UNnvqBuCt1ieNDm1SrUSzLSoI3FjpoiXyFcRzuRrTwJcTfVShLC4UNW/iPPnWh52xKHRvH4QLT3lWrTFCkzAQhXB4gTwoRhF8CzuNnwoPYOdjg6ZCZlwWaPGAS1kXvXhbBCyvoc50G4hS8jOvNx54QKlWyijqQzgy9L0iLtizttBqzdfCKSONAqq9DtevzsEJnkPXaYjcmaRHBMqX6Ovh9HcpGWAb8cjelzSiz41dxi/t5Acu04iWuq1EWPN03gGiN3C2esEGRBV4xRnsKEapeVhp9Lo1baWxJUytNLJG/H9FJc+b4FJLWctAmBBNU+SpKqejyDYK8b1fOTtPgZXN/p/6f9s49OK67uuMf7a725VW09cqyRNZIY9m+9qDi1A9iiFsCKROmM6Xl0eE5kw6l7bSFgfIo7V+F0qHDoy0Mj5YZUloGChQ6hZQMzoTQEEyTjGJPAqLOjZEq4QU5stdZReuV9nF3+8f5nXvu6mG7wYzljM6MRtLu3t27957fOed3zvd8D2fZ43ooRZG1nqjpiqL7tEkkL3eU9WRDKBWYTZJwHLpXgnYByu8fYaPtlWtzB7B723yIAM0mG5z+352UIZzMpR03+3obnG4mBTLciVFs67wX6E+0WGokySQbBO0YR4Z/RuHsEMc6sTCIVzyTXHStz21BkpBR+kdlCW4Cw9SwEbq6gBqYddASFFgnTQ51s4TTH3KIxcshkBzZpU4Cw7yMArcAx3ivO+oR4BxPMEnKkbjl3ec10Ab2fqZY5Ak37FLO4ccYolV/jyKphiimY7VsiNqfitapCr1auFDRNVYHzlGnTgY326WnzdH+Cv2pZeYqecrVXFhmuSVTC2+5qmgKQtiLrrtjnRiziPU6WU8z25HgPh5rh+QhqpQaUIt1UVecRyzVSj5R7VbeQZEC+9x5aLlkDGsgVbSEFsu1UIP7LOHllI3+gvu76p7bCexnHKjwAFbnM24qsf91qiFM0KhN9NpkgBlqnKDCN7D0xHlkcUxE7oNGZWvLlfT9ZRH8yXbkKv4V4lU+jxG6vdH3/fozZX3Rtox+YHdqmbfVe+nGJKn7GwJ+mSIpx9oLJzsxDjuGmEotSzzWZqmRDLHpe5DVrAFwEsmUP39Llb2tBHe7mEvRDrPu71wzSeOsEKZmkg0ayM0YRKzjHHAyLFxsYf0LLfU6VYwRbObfFBY/6fePFqxBOeOtxKOcEhmkOHwPoqTCZjxGnROc4qAryY+6o/85/LvEbcSxmqfuEccoUKJAnRPutS9HFEu5rYYwFIQ2Q6wtV+L+XoEQb3zY87wRpBn0QeBzvu9/xfO8jwJv9DzvqzxD1hcwMP9/1NMIm8BKExsAQ6QYcRV0K9OUggTxs0MhbFgtUdCW7t8WRn6vbMMj6WWCdoxXOne3c3Ce2fMDPFBPh7uiuJsIP11PcxwbsqRQZvkrjRGF6IZCf8BYVrpLMb0Q7mCVgEQb1fU1mqTU//WzT2JxoioiSJz1IAcpcSdiT3ch6/880jJ2CxW+TopPUOZJhtkelq8kOD+BuL0tWHmmhTVzKCL+0nJZ9+f7/pd93/+w+1dhzbci3KogXeq3E2F98X2/hlC2KevLN9xr73HHrhJdgd+hjORaVpJLSMCoxPgab+BOqNpM0p+tsfc5P2P/c3/CcL5CJtkIVTMgYA4j78hnayQTLXZsvcDhndNkkw3y2VoYc0xjuSJlbph3BJHzKMOTMhALnZFxVUXX6gDD9IfYpcfchakhXYLHkMRDDXODGnBn3M8eDI1RQGqIg+78Jt37ptyZiNtLIYBBJdLQhgWZmFXnPUA35EXc7UHEQvW6T96L8q+bQinZyPpyxYG653kPI8vuN4Dv+b6vHmUVu8t6j6/H+rJMgynOUGEMq3qtlBSwixcjuyIF8O50z27bUmXwBsl6Bu0YjVaCknNtCXSUbMBjxJkHJs48N+RFP42lG7RIrM0IOjXrecAEFUqUuZf9jmd9CFnRirjMsZpBOc0cJ5hjgDwj4edoaWQflp+qY3tJhdjUI+ehbjOONUJMUWeeBFmE0F+U9/WIwv8RZj3BEhQzSOfxTSxyFJ1hJiWkfuocQqzVjzFr1Yr8HaXHXC1XrFS+79/sed4BhHkripldj93lillfxkaSTEzsxEjgf3+NV6XocWD+pvtpI19dSh45kuRIxAJa7TijwIuANyMX/2JolDtd7yhde/ZYkp6QT0XXawoh6FoOO0nKwBbexwBCrKhA6LfQvSCE6aW7STYGJNm9D/5tQixTL8bj0nL/NyNH6zvFEKXTdEQLLR7E6XXnWUXmJ7b5A6QueNEdrXYvgdhFZXC56P7OOJVpIWf1K1j3j55VnctNeocrC9QPAfO+7//E9/2TnufFgIue52WdmxsCfkaE3cXJFbO+LM7CZw/38CPSnARqPEo3sQzAGHHexH5sPp8GzjJ92e0ciTOHBNxLyArfDby4b5F3Ld5AJXLTZeStKFcOUQ9tLT/uuDv3UGQQOE4doebST15CeEd0YNB51uZ5zyOxzSg6H6ePAv/tWF8UXaHtZTL4WxREW6f0uZ3u+6r7FMxpikoY2rcYo8AUkwhu4msYocYuFHEgMoO5stdgpPwVNMnZPbDpkHvuGACdjgYHq+VKLNWL3BV5p+d52xEL+w3gtxDgzavcN3jGrC9JOvTRw05kJ/M4R3mCR7Eef5GAgHnioRtQ+6Dwl9OIgsn8PXl+hoAHgc8vKubbRLPoF7CA+WWpZe6tp8mSo8YUUxRdC/yMO6qIzWj5CkbfuN4K1haJ88g6S5FB1v1RzJ3pQtHMus4hVKyY1iBPYjVCK+4+iU63muIoQgl5FrMy57EA+xg2aFJd9zexDUUCax497953L9aCluBqUF5/Bvic53nfc1foj5Ftwpc8z3snkkb+iu/7rWfO+tIT7kKm0bnIGQy5BBIat0gQF1ofDKOuQbDCN9aOyURSSJOFQmqLyIY77t7rgXo6Au2Iu06VGeTmHGWM7UyFuyQNgKOicYfKk+4MDwJDFMnRh7m2vVuqLDm6ooYDzum3jjZzBIhFG0MCdEmiKsJcR6flEcq0s3QTeOQwvL8y6ZXoHlKXQPZQo+4T0ojy3Y9YqBkscL8OWF/+5xE6nz4Mn2IK2c/80D2zUjkOIm3vRUpujQ9HntVdW90dVyAejrnNITdoBAnCNRiew9pV49hObwZZTeoKsoyHKM1ZNIOdQZRKC8ewNiXiOEIleVs4SOnTE/CBw3I+OuE96ZAW2ofXh0FVAvd/A6Uxkp2kfOqTiOM84T5/EiOIU0LcFkaUdhQLtnOI8jyKYEAPIctTZ/89jhW7tMOyRKdzbmOzviwDnwonrV/Epj2tVKoTwAwlDgNpUuwHDIGpl2fQNV0+hGXA97h33wOM9DaYaybZCmFYmsEGRRZSyxxItPjTizk+z1Gq6BxCERm5cRGxEIeQsHqRtSd05ZGAWazCNBIbdTDI8DyukB2pWYKhRDVQrbjvVMRqnRKDbXfP3oY4jknEnWnMpPxTAxgf1VsQt1dB8lBVxDXeiNjEcWSHqCjS8+4KDnFdzFBucwGLWZ4HIRDlPlYnQTVYHKJOhTkXAA9TYBh4aW+DJTcqTQPgEeRG7Iy3iMfaDOcrDLZjzJYHwkx6Fsmcx+sC7ksmWhz4pQucfGprmDmLoxRDUaqj+y/z7Ypk3dgSbcaYQ9yfUvuA7fLqmFMCc4V5rB3/IWx2cwaoM4Uo9gmsjSKF5KVuRJT6DLIQvoBYV01uquJpQP4wRnhWpNv9pTHg8fqyIZRKbukOlNRmnILDHtaR+D5qsfRv7S6R1J3elOlmkgP9FV7ejnFy8QZquB2WG1DZl14mmWhRurCVkcJ5She2knUtXQv1NIO9DcrNJCyn+cHFXAhgqxBFPC5iFSqNWfa551ZaqyG2Ym5TJ321MQuliU4t2aiSa9CuiqXpyBnEFo2C2/kVXQt+gHEqDGOtGhng9UghJI8o0jHEDY5jE78exTLoezGXp65S1f0qJT9/kbLFscxpbUxXdYUWcumm1jlyERgg5aaJgty0WiMpRGeIdRrOV0I+BZ0m0XAoUbWDg/EWmWSDuaWs8EEFiXAsG4jtNGYmIauwvFoK8Ojj1SzyGbprYz+mxCR5xkNoi5ZeojU4TVyqgilvg0oFa1EvYI0fY66uIInc/ZTCZOcushykxsexKVoZxAUqUutxRAV+HVHGUSw+nMHgLbqAK5j7XF82BEohBbwY2Y0pV5Psem7G5viuJdImXmeBYT0u3qKQqxKPSQdw0I5RruaIx9rMOc704XyFAzt+wnB/hX39FQH1BQlml7Khi8K9n+ZHFGYjG4M4CpcTOO8OBim64H1ltnkGuJMKs6HyaMyktQP90Ux5FlGcIqZogxgK9LC7VnlkEWnqQfodx0jhkSXOXuCFvN294j728Wpkctco5vJ0Xo32W6ax3V0aq/vlsIrBdaBUvUiAraswQ5QTPcGlze2jxOlnFNjviDSmz4ndqrvGh+LWCyRibSqBlG6eeGorrXaMTLLB4nKaQmo5jOK0+QAEsDeNAQfV8WbD4ZAFUu5iz4cUImvlq+QxtUZ5JKZSJ6WuW3d180ieTfeTCiyMIiRqyKZDeSTUuifc/2rxBRH7VqDKKXykTPsOhNEYJDdVwWAu4k5FcY4jaQbl1hrAkrnry4ZQqhiwp+9pdmOrOECpTHchJdSDSJamsOr4gG9yBkEnNJDB2f1ZaYh46KmtPDT3HE4u3iD1tJ42WWD2/ADV5TTxWJuFepoZzC01cAyXQSI8n1msPV0AL5L0lHREnD2ksBhvLfloGBM9zz3STzebHVjPH4gCKoJBc3CPYUCgM1jtUvL/VsNcQmzmErAn5GRQHL0iKoYQ5Rmge0KW9hSexQYuaWQ5eonvKLIhYqoWML94Q4SexzDaY+xnCssjGezum1jscoK7uImJZpHDQMK5ukYrEcJelJKw0IlJfFJP019PM5haJo6Nckxh7k/blhTQpjj4ODji1RYBC2TpZwR4gpuxrfnqfFWZh5nkZgKkZqmR2RjWCvY4trDqiKJrzkpx8g13nnrzlrB0iV4RDe5rqJLuRcq238VmFOaQRXsWm0CqGXjNc6kI7YDhq9aXDaFU2rGiKMiSe0zpBQ9AaEni7lXfwcP60wDuZA64i3cwuNjPnp42QScWlj/KkfdXBKfCczO9DWgmKfS0me/EQmIzLb1uc6+bdT/C75SiRgpYYJEqs25YgGDn+zGl0twQwCRL3MwSsvtT5c1E3lfjq53uMVWqKEhPj1MotZaklNI6QBbJFCUW6cPqkgVkh6d9geryzrpvO+DeuUp3KUbrh2rRLr372xDuT+tbYKjHre5nL3KBX4C5CcEYjbM2+P5j3AXMdmKUIfyZwxKNw0CutyFKUE9TaSapA1OdGEtYI0UOLVI72ul4i5cglPYH3G+Z6lknjraVD2CbiwTdTeJzIVRHv6/u9JJ0d/5qMbmCUVjr4ggQN1gDvkPVNdjDY27DIgqlPc8z7t0eQSLGxxGlOo8VjIvuyo5jQ47y7rvsxfbAihO9tC3aEJYK5MKdQ0y78l/2YUTzeQjHmmnD5xPrvNc87+eL/CUvw6yRWj8tzQw7RQLD5uTd5+mN1NxRn7N6ILvLI+0Yc86iHQA+RY5TzAJF8uyn0oVaiOatLkYaO+TmLyCLpx9RSp3WoIRuUey6JkuT7vUTTAKPMsMossDOMsky4+Ecmaq7ajPYZNIZpH1L8VEDmDv7bSzOOo5l4zV1AkZFu75sCEu1jF0sxQlpTU9vbKa3wXhPmxwGa+m7xIiwCu/nqwh9/QTWW7cY+QE3KDveIt/TDi+bBusVRIlqToEaQSKcGTiIbCS2AQdIkXITUys8hiwPjcC6v+mDPMkShstXeup45IjoLlj4rwxJoSkOs3/bkDzeCSRkn3RuUzc0fVhGXHduy1im/Vb3cyOwy5W+3o0NF1CLpe5cgXvry4ZQKpCdzRTmasBV6XvasllvJql1YoxiNNS7AXjXJd71r8kgl32GeygxRQmzWvneBmVEWeKxtsRW2E3LA+UgEe6+6giqtOK6oRVP/grk9oxSIM9+ZMXvZvUuSbYNCpFTmI7u+BqI8ijngbpI3ZpoDGXNEqMYOruCuN0lFnnMbWgWkRiqjFgnjYXS7tghd8UPAb8ZnqFsI+YwqIvGU0Pu+EujFDaEUjWxuOoxrGC6BJQ7MfriLcb6K+F8mD5sVb+UHDZlfbXcy/v5ASAVs68zz4mQ1vp0M2nNCIkW0+5/pdNWN6Q3vs9l3cf6nqaYqVHobZCPt1hw57zT/RbemtcgqZCVkg5jNt1baUvVMNbvrACTC+677sE2GNYe34u5Jsmiy99nkJrdRazB/jzdAbdGcNoNmXPnUnWPvR5RtiGMLFcxVzete71hA8VUynWg/W0aQ2UQS5JpJMn1Nsg0k2EmWi9uitdS5+Os1+RY5/3urypwnFMclI6ayBGtejrchSlFUBmJ2/LutfEgActpilsvSHmlHWO6PNDFT6C7THjfGudTJMsIg4g6KJQljmzwlcNTw/ud7h2iO0BFmQUo5XYKUSzNWOHe/UasPqlkaJqfGsPQoFpUziOubTuixl/DUg5g/PCw9qgUkw2hVAGGaFSl0q6XPuSyzC9l2Qcc3lINmxqSyM3MAXWOIKDS9QF6IhXgHu7ldg5jCKEyjpwDKbvqJkH66az4WwoSlM8NCkart8HubfO0zg2SA45RRwLcb7J2Zv0m9mIh7yLWEKqswJqf0wRoFGqs2XN9TuKtb2C2XjP6dSSG2kY3D0UeUaa6O0bbbM8hVk0rihcRBWohSlZGlKqJKOzPj/z8hYtS68jASPlqB5CVmsDIxx4Dgou5cCRbDYk9xOLcTMAWJAN8OcU6G8JzlXYRxErtj3ymusYKhgnfjfXoxZtJTp8bJN/bYLCZRNT/EVYrVA64lRS3h1l7MEtVwhjtBiOPa0qhjKEZNFEgSFlVlAKmBAmsneohLLulOagt7uhe98lNRPkyiKXzEUU65I5Xp6zohjNcKtyADaJUCUSBTmM37SFsrMYZbLuvpBsBGqhLvmgPMME4AePMcB+WFV4pUkrRXZe6FUWIPuhepcGwlj3yiKLNuOe1ETQH1JqaA59h7VX8OvLsl/wYcot6sOKHOq3orlP/ryKLTYP0Mla2kXTFGDI7RhWMyNlq4WaU7jLMMtayvw1JGzyOcrCbYjYxcg51k4p2XV82jFIdRS7UNNKfB3DM3dpBF6UYlY68bhqxaJq3UUV5HrfxbaDOh1hdLrkFW/+FMPk4jATFKeSmK3mGusAkgpjS3rzvAzMsMEg/R1CC2eiNUxkA7qdCnN0O/pJyzwRYKiVwZ6QJ3gpWMlL6SbWQooxlYDvD5FyOL0eL2wm4L3KVFOOly0cLx+oiRxFlEmpMy0ktIwvkp+59tmCWbijy99qyIZQqA4z0tHllJ8Yp4B7iDnAmyrWA5W7mMRohTS0o2/AY4ib3p5bZX0/zQd4I3Lni0+5Dt8bKpa70PgESmGtso7tNMHaWfuQy3w4k6OeLwF08jMQl96/4rDTaRTPKeBjmKpHsjzDHU8ZQoRoz6U40WmTWhQct8g7tqvh1QThow5Mi7zXFm3ZXTKkudWukCnQj1ralZRpVxG2Yv1Ba7fVlQyhVig47B+cZacfg3CATQECceadUdVxrO7ZSdyJKpsVeLTgPAmXHfT5M0cGNZ9b41DmWnKUqAoXUcgjaW6A7QRqP/F2DkL1lGhxtz80E/Aui1lGOKkVUDoUd1TmM8loTmEl35AJyu/SmaB6sD6vvSY68ziDbw7TLCNbZ3GDc3fIFjIIJREl2YLZWg3k9iyri7s4i7i2NBemj7iy2uWOugzxVT0+HcjVHJtlgGnFD8yuCba17gayXPfEWY31PM9wj/cQa7INVqA4ARe5gdYK0iQJr4oh1KNXTnMICc4tbzHIp/eMU4u7KiBuU2tsdsGpkWREJeM9T4eGuqRN1jCNKd7s5jKxHcVULSGt7iWqojKOkuoj+0I8tAQAACI1JREFUVX3m9doABfpJkaNAClGOUSz7F6U/C5AE6Qw2A0Mt1RTW6JBGEh+76a5nrpbLWqp1qIRehQCc9D5/xPf9u58plVCrE6N0MccDF3Phji5qqXRHpDybg0iyUlGc8advYClIMIjtu5Q7NAAOkOOurn1emSz9Yb47wArOQDj/RR3wNgyNqnzkysw3HHn98TXTCJMo85bmowaR1axt6oo0UOu1hCIWSq7QJBhUHXuriI4UFtgr3aL2Q+omowhUyTknqMAY3SUqmUgzcibjSHLz6+75cxgt5k2YS1xfrsRSKZXQi4FXI5w0AH/h+/6t7uduz/P6ECqhlyNe4c88z8shtEFt3/dvAT4IYSYyFG0C0H0KyGpLuRWxgKzsEcT6jPS0KdfTTC0IZmoxSLBtSzUsocaBF/Y9HeLWBT0QxQBAje/yA2TnlcISiopV0vatCnJZTyO5tMcxhLdath3gmsWO0C1RaM4unmAhdNma0tDUxQXUOlXJo42i0ZgncBuYqkNdBCECVIP8U5FIVC2Z5vuyIc3iNixHhfu22xA7sC/y3FH3euWpUWt2HNsArC2XtVS+73858m+Rbm7TqIRUQgCe50WphP7VveYexGp1STbR5AV9S8ws3sAsajXM/dUJWCLOLG6GXScWzlEuV3MSdjaS4cUcc6NAtK1diMzuYJ5/x1br/dQZZ5FCGDXMYMGxRg1aTlHIjTIJ70aUSROVi8BhXsvEKpbiFrJN/zZwC2X6mcf2XwkkNpPlMwXMMMUA1rGjaMsSgiYrOutl0ZEolcRyNRLUwtb0CnATfRRYDK9sgMRZW9x5Be79T0euTbSI/JD7OYIkXJSQbv1i/hV3KK+gEnoPYvkVG/EnyIboiO/7b3Ov/xvEqr8B+HPf90+4x38KPDdK0lEvB52lUkCtmeQCsMzqc0pExrcp60mP+78JZGIB1bY0kWZ6ha+zFiToYPnkHqBOC3gKm9A1TJ9ru28jN6njnm24Y3owJhbNBCWw3r0OxiXzFBVCIvdQlHUl5X73sG9fjOlTwjAjLVsdxF51MH6GNFbe1jOJ0UOCHne+MaAdfpflFWejv7O42V2Yc9Kdob6/No61sSTGvPtfzynrfp/n0KEdP3+H8goqoXcAC77vP+J53ruROOu/VhxyxVRCtVKbY7c9zXR5gGPA8ZDMR0Xa2w8gX3MfVh/UHNIe4kwCR3obwq1eHuhKVp4ESpxAbMu9iMNIU+C97Ecsj1qpe+nOC6koT9QtmIvRWEzHcgTk+S5fQKyOupgEstKPILZzkomJXRw+rM8vutc/4p7XLPcQolg3Ilal6a5GMRyfIufX65omalhGX1uqVGHS7vgAsTKaVp5z10KL0jOI4vwq8I9Y90wRIe7IA/fT6byd9eSyMZXneYc8z3sugO/7J90xP/R9X6uKdyNY/jlWUwl1UQytRyVUbyaYf/oGkg4vFZUi8bADJXBfdxZChhjtItEA9oFmktKFrSTjrZCHYBDd+xxE6nKau3l5iEIouROdQOKaEvXwluxGFEnzRXobpKnAJihoTmkfb0X5E0S0QfNjwD8gQXAPcsM+huTSouUd/cYFDElqNABqCRTWo5l5a/7UNvxRDDijLRtDCJgQZO/V6z5Hi8r67t/DQHsD7gp9FsHfKxJ0bbmSQP1FiGUiQiX0Sc/znu+eP4o445BKyAXoN7sz+5Y7O1iHSmiZHjLJBsWtF8J5BSpLGDKpgATEv4btArUGX+hpU0Au372dGHcFCX6AJQsl9zWLJRxkZdZ4kuMEzBMdNlkHlim6z1a42xGEmuhuFriLWT5PuWu3pUoou8jXAm/CbpQqzE/dK7XnbhmL3KLYb1Uige9mwykL+fDVp9FFoFl6LQ6rnMG6XxR0nAb8CHRGOUuXMcXudVf4JuTWvQVRrAQSsK+MG7vlStzfWlRCTwOf9TxPwZRv9n2/8UyphOLA3MUc37+Yi6w6Ed3NjAMHehs0WglqnVgXtrIEnOrEQvCsllYUaDdFgCT0mu7R1yOcAoom2MUEr8MyVKOkiJPFoM24L7+HuIMxy9jrL5NgnP5wW6FZoAw5DpPjLt6EMXPOYmWSKvCf7hb0Yq5uANu2n0G2AyVqYf92nRpWVJYdXp1smKDYgZVaNEDQ92y599xGnYA4KYLwXTS9m0CC+ENo57XY5SKWv7p08vNKdn911lAEpBdh5Wu/ivCjRh8LgDsu9RmKUGhgM2pUNJmXByabyXA3V4VworkWW0vIxf4+Vu6QzNQpxEKcRlb6GAFFLDPVcqe9D2WQK7KdYbpn8mnb+Rz9LIbUGhWW6A/9/nexEuxDwD48ToVlkZ9iFqnjvrW6Fx03FM11Vdw5VTGWmVzYwawpA5ihFsJSxtxvLQgTnrXVPEtIxKLBxpPuvbegLa4p+sNCj0wKuxFJLyS4HEhvQ/BTbcqzSzZEmWZTnl2yqVSbctVlU6k25arLNYe+eJ73AYRtOg38YST/dV2K53njCHvz3/u+/0nP8wa5inN8rge5ppbK87yXAIdcsfkO4O+u5fn8vOJ53hbgE3STwH8EmeMjaS6Z4/OMi+/Xg1xr9xfOrfF9fxJ4joPaXK9SR2qjP4s8ditXeY7PRpdrrVQr59mcAzfK/ToU3/dbkZk9Kn3PdI4PEHcu8bqSa61U682zeTZJ9Dv+3HN8rge51kq1sgi9jbXJyK9nWYy49EvN8bmi4vv1INdaqb6FzLjBwWqm13Af17scw31H1pjj8/8tvl8Pcs3LNJ7nfQh4GVL0+j3f9394mUM2rHiedxD4WwQa0ESKfW8EvogU1nzgd90cn99BBsm0gQ/7vv8lFz/9E1KYqwFv8H1/PaTthpVrrlSb8uyTa+3+NuVZKJtKtSlXXTaValOuumwq1aZcddlUqk256rKpVJty1WVTqTblqsumUm3KVZf/A/L9DpxLlPipAAAAAElFTkSuQmCC\n",
      "text/plain": [
       "<Figure size 432x288 with 1 Axes>"
      ]
     },
     "metadata": {
      "needs_background": "light"
     },
     "output_type": "display_data"
    },
    {
     "data": {
      "image/png": "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\n",
      "text/plain": [
       "<Figure size 432x288 with 1 Axes>"
      ]
     },
     "metadata": {
      "needs_background": "light"
     },
     "output_type": "display_data"
    }
   ],
   "source": [
    "terrain1 = imread(\"../input_data/SRTM_data_Norway_1.tif\")\n",
    "#x, y = np.linspace(0, 1, 101), np.linspace(0, 1, 201)\n",
    "#x_mesh, y_mesh = np.meshgrid(x, y)\n",
    "plt.imshow(terrain1)\n",
    "reg = Regression()\n",
    "reg.load_matrix_data(terrain1)\n",
    "data_pred = reg.solveKFold(K=20, poly_order=5, solver=\"Ridge\", lamda=1e-5)\n",
    "plt.figure()\n",
    "plt.imshow(data_pred)\n",
    "#beta = reg.solveCoefficients(poly_order=5)\n",
    "#data_pred = reg.apply_model(beta, reg.x_mesh, reg.y_mesh, poly_order=5)\n",
    "terrain1.shape"
   ]
  },
  {
   "cell_type": "code",
   "execution_count": null,
   "metadata": {},
   "outputs": [],
   "source": []
  },
  {
   "cell_type": "code",
   "execution_count": null,
   "metadata": {},
   "outputs": [],
   "source": [
    "plt.plot(data_pred[3200])"
   ]
  },
  {
   "cell_type": "code",
   "execution_count": null,
   "metadata": {},
   "outputs": [],
   "source": [
    "xshape, yshape = 101, 201\n",
    "nr_datapoints = xshape*yshape\n",
    "reg = Regression()\n",
    "reg.generate_generic_data(np.linspace(0, 1, xshape), np.linspace(0, 1, yshape), FrankeNoise)\n",
    "#beta = reg.solveCoefficients()\n",
    "#data_pred = reg.apply_model(beta, reg.x_mesh, reg.y_mesh, poly_order=5)\n",
    "data_pred = reg.solveKFold(K=5, poly_order=5, solver=\"Ridge\", lamda=1e-4)\n",
    "plt.pcolormesh(reg.x_mesh, reg.y_mesh, data_pred);\n",
    "plt.figure();\n",
    "plt.pcolormesh(reg.x_mesh, reg.y_mesh, reg.f);\n",
    "reg.x_mesh.shape, reg.y_mesh.shape, data_pred.shape"
   ]
  },
  {
   "cell_type": "code",
   "execution_count": null,
   "metadata": {},
   "outputs": [],
   "source": [
    "nr_points_per_dim = 201\n",
    "nr_datapoints = nr_points_per_dim**2"
   ]
  },
  {
   "cell_type": "markdown",
   "metadata": {},
   "source": [
    "### 1.1.1 Plotting the Franke Function, with and without noise"
   ]
  },
  {
   "cell_type": "code",
   "execution_count": null,
   "metadata": {},
   "outputs": [],
   "source": [
    "x = np.linspace(0, 1, nr_points_per_dim)\n",
    "y = np.linspace(0, 1, nr_points_per_dim)\n",
    "#x = np.random.uniform(0, 1, nr_points_per_dim)\n",
    "#y = np.random.uniform(0, 1, nr_points_per_dim)\n",
    "x_, y_ = np.meshgrid(x, y)\n",
    "\n",
    "x_flat = x_.flatten()\n",
    "y_flat = y_.flatten()\n",
    "\n",
    "data = FrankeNoise(x_, y_,sigma=1)\n",
    "f = data.flatten()\n",
    "\n",
    "fig, (ax1, ax2) = plt.subplots(1, 2, figsize=(18,6))\n",
    "plt1 = ax1.pcolormesh(x_, y_, FrankeNoise(x_,y_));\n",
    "fig.colorbar(plt1, ax=ax1);\n",
    "\n",
    "plt2 = ax2.pcolormesh(x_, y_, Franke(x_, y_))\n",
    "fig.colorbar(plt2, ax=ax2);"
   ]
  },
  {
   "cell_type": "markdown",
   "metadata": {},
   "source": [
    "## 1.2 Setting up the design matrix and model"
   ]
  },
  {
   "cell_type": "code",
   "execution_count": null,
   "metadata": {},
   "outputs": [],
   "source": [
    "poly_order = 5"
   ]
  },
  {
   "cell_type": "markdown",
   "metadata": {},
   "source": [
    "### 1.2.1 The design matrix, X"
   ]
  },
  {
   "cell_type": "code",
   "execution_count": null,
   "metadata": {},
   "outputs": [],
   "source": [
    "def make_X(x_flat, y_flat, poly_order):\n",
    "    nr_terms = ((poly_order + 1)*(poly_order + 2))//2\n",
    "    X = np.zeros((np.size(x_flat), nr_terms))\n",
    "    X[:,0] = 1\n",
    "\n",
    "    i = 0\n",
    "    for ix in range(poly_order+1):\n",
    "        for iy in range(poly_order+1):\n",
    "            if 0 < ix + iy < poly_order+1:\n",
    "                i += 1\n",
    "                X[:,i] = x_flat**ix*y_flat**iy\n",
    "    return X"
   ]
  },
  {
   "cell_type": "markdown",
   "metadata": {},
   "source": [
    "### 1.2.2 The Model"
   ]
  },
  {
   "cell_type": "code",
   "execution_count": null,
   "metadata": {},
   "outputs": [],
   "source": [
    "def Model(beta, x, y, poly_order):\n",
    "    i = 0\n",
    "    result = beta[0]\n",
    "    for ix in range(poly_order+1):\n",
    "        for iy in range(poly_order+1):\n",
    "            if 0 < ix + iy < poly_order+1:\n",
    "                i += 1\n",
    "                result += beta[i]*x**ix*y**iy\n",
    "    return result"
   ]
  },
  {
   "cell_type": "markdown",
   "metadata": {},
   "source": [
    "## 1.3 Predicting model from noisy data with Linear Regression using OLS"
   ]
  },
  {
   "cell_type": "code",
   "execution_count": null,
   "metadata": {},
   "outputs": [],
   "source": [
    "X = make_X(x_flat, y_flat, poly_order)\n",
    "beta = np.linalg.inv(X.T@X)@X.T@f\n",
    "data_pred = Model(beta, x_, y_, poly_order)"
   ]
  },
  {
   "cell_type": "markdown",
   "metadata": {},
   "source": [
    "## 1.4 Results"
   ]
  },
  {
   "cell_type": "code",
   "execution_count": null,
   "metadata": {},
   "outputs": [],
   "source": [
    "plt.figure(figsize=(8,6))\n",
    "plt.pcolormesh(x_, y_, data_pred)\n",
    "plt.colorbar();"
   ]
  },
  {
   "cell_type": "markdown",
   "metadata": {},
   "source": [
    "## 1.4.1 Score values"
   ]
  },
  {
   "cell_type": "code",
   "execution_count": null,
   "metadata": {},
   "outputs": [],
   "source": [
    "print(\"MSE Score = \", MSE(data, data_pred))\n",
    "print(\"RRMSE Score = \", np.sqrt(MSE(data, data_pred))/np.mean(data))\n",
    "print(\"MSE Score (vs true model) =\", MSE(Franke(x_, y_), data_pred))"
   ]
  },
  {
   "cell_type": "code",
   "execution_count": null,
   "metadata": {},
   "outputs": [],
   "source": [
    "print(\"R2 Score = \", r2_score(data, data_pred))"
   ]
  },
  {
   "cell_type": "markdown",
   "metadata": {},
   "source": [
    "## 1.4.2 Analysing the noise"
   ]
  },
  {
   "cell_type": "code",
   "execution_count": null,
   "metadata": {},
   "outputs": [],
   "source": [
    "noise_pred = data - data_pred"
   ]
  },
  {
   "cell_type": "code",
   "execution_count": null,
   "metadata": {},
   "outputs": [],
   "source": [
    "plt.figure(figsize = (8, 6))\n",
    "plt.pcolormesh(noise_pred)\n",
    "plt.colorbar();"
   ]
  },
  {
   "cell_type": "code",
   "execution_count": null,
   "metadata": {},
   "outputs": [],
   "source": [
    "plt.hist(noise_pred.flatten(), bins=40, color=\"navy\");"
   ]
  },
  {
   "cell_type": "markdown",
   "metadata": {},
   "source": [
    "### 1.4.3 Probability Plot - Confirming normal distribution of noise"
   ]
  },
  {
   "cell_type": "code",
   "execution_count": null,
   "metadata": {},
   "outputs": [],
   "source": [
    "(x, y), (slope, intercept, r) = scipy.stats.probplot(noise_pred.flatten());\n",
    "\n",
    "plt.figure(figsize = (8,6))\n",
    "plt.plot(x, y, color=\"navy\");\n",
    "plt.plot(x, intercept + x*slope, ls=\"--\", c=\"crimson\")\n",
    "r"
   ]
  },
  {
   "cell_type": "markdown",
   "metadata": {},
   "source": [
    "## 1.5 Round 2 - Running the model for different polynomial degrees"
   ]
  },
  {
   "cell_type": "code",
   "execution_count": null,
   "metadata": {},
   "outputs": [],
   "source": [
    "err_list = []\n",
    "err_list_truemodel = []\n",
    "nr_poly_orders = 16\n",
    "poly_orders = np.arange(1, nr_poly_orders + 1)\n",
    "\n",
    "fig, ax = plt.subplots(nr_poly_orders//4, 4, figsize=(16, 4*nr_poly_orders//4))\n",
    "\n",
    "for i, poly_order in enumerate(poly_orders):\n",
    "    t0 = time.time()\n",
    "    X = make_X(x_flat, y_flat, poly_order)\n",
    "    beta = np.linalg.inv(X.T@X)@X.T@f\n",
    "    #print(i, beta)\n",
    "    data_pred = Model(beta, x_, y_, poly_order)\n",
    "    print(time.time() - t0)\n",
    "    #plt.figure(figsize=(8,8))\n",
    "    ax[i//4, i%4].pcolormesh(data_pred)\n",
    "    ax[i//4, i%4].set_title(MSE(data_pred, data))\n",
    "    err_list.append(np.sum(np.abs(data - data_pred)))\n",
    "    err_list_truemodel.append(np.sum(np.abs(Franke(x_, y_) - data_pred)))    "
   ]
  },
  {
   "cell_type": "code",
   "execution_count": null,
   "metadata": {},
   "outputs": [],
   "source": [
    "plt.plot(np.log(err_list[:9]));"
   ]
  },
  {
   "cell_type": "code",
   "execution_count": null,
   "metadata": {},
   "outputs": [],
   "source": [
    "plt.plot(np.log(err_list_truemodel[:9]));"
   ]
  },
  {
   "cell_type": "markdown",
   "metadata": {},
   "source": [
    "# 2 Ridge Regression"
   ]
  },
  {
   "cell_type": "code",
   "execution_count": null,
   "metadata": {},
   "outputs": [],
   "source": [
    "lamda = 1e-8\n",
    "\n",
    "err_list = []\n",
    "err_list_truemodel = []\n",
    "nr_poly_orders = 4*2\n",
    "poly_orders = np.arange(1, nr_poly_orders + 1)\n",
    "\n",
    "fig, ax = plt.subplots(nr_poly_orders//4, 4, figsize=(16, 4*nr_poly_orders//4))\n",
    "\n",
    "for i, poly_order in enumerate(poly_orders):\n",
    "    t0 = time.time()\n",
    "    X = make_X(x_flat, y_flat, poly_order)\n",
    "    beta = np.linalg.inv(X.T@X + np.identity(X.shape[1])*lamda)@X.T@f\n",
    "    #print(i, beta)\n",
    "    data_pred = Model(beta, x_, y_, poly_order)\n",
    "    print(time.time() - t0)\n",
    "    #plt.figure(figsize=(8,8))\n",
    "    ax[i//4, i%4].pcolormesh(data_pred)\n",
    "    ax[i//4, i%4].set_title(MSE(data_pred, data))\n",
    "    err_list.append(np.sum(np.abs(data - data_pred)))\n",
    "    err_list_truemodel.append(np.sum(np.abs(Franke(x_, y_) - data_pred)))"
   ]
  },
  {
   "cell_type": "code",
   "execution_count": null,
   "metadata": {},
   "outputs": [],
   "source": [
    "plt.plot(np.log(err_list));"
   ]
  },
  {
   "cell_type": "code",
   "execution_count": null,
   "metadata": {},
   "outputs": [],
   "source": [
    "plt.plot(np.log(err_list_truemodel));"
   ]
  },
  {
   "cell_type": "markdown",
   "metadata": {},
   "source": [
    "# Lasso regression"
   ]
  },
  {
   "cell_type": "code",
   "execution_count": 33,
   "metadata": {},
   "outputs": [
    {
     "name": "stdout",
     "output_type": "stream",
     "text": [
      "i 0\n",
      "beta shape (3,)\n",
      "0.006464719772338867\n"
     ]
    },
    {
     "ename": "IndexError",
     "evalue": "too many indices for array",
     "output_type": "error",
     "traceback": [
      "\u001b[0;31m---------------------------------------------------------------------------\u001b[0m",
      "\u001b[0;31mIndexError\u001b[0m                                Traceback (most recent call last)",
      "\u001b[0;32m<ipython-input-33-4d2cc816df53>\u001b[0m in \u001b[0;36m<module>\u001b[0;34m\u001b[0m\n\u001b[1;32m     23\u001b[0m     \u001b[0mprint\u001b[0m\u001b[0;34m(\u001b[0m\u001b[0mtime\u001b[0m\u001b[0;34m.\u001b[0m\u001b[0mtime\u001b[0m\u001b[0;34m(\u001b[0m\u001b[0;34m)\u001b[0m \u001b[0;34m-\u001b[0m \u001b[0mt0\u001b[0m\u001b[0;34m)\u001b[0m\u001b[0;34m\u001b[0m\u001b[0;34m\u001b[0m\u001b[0m\n\u001b[1;32m     24\u001b[0m \u001b[0;34m\u001b[0m\u001b[0m\n\u001b[0;32m---> 25\u001b[0;31m     \u001b[0max\u001b[0m\u001b[0;34m[\u001b[0m\u001b[0mi\u001b[0m\u001b[0;34m//\u001b[0m\u001b[0;36m4\u001b[0m\u001b[0;34m,\u001b[0m \u001b[0mi\u001b[0m\u001b[0;34m%\u001b[0m\u001b[0;36m4\u001b[0m\u001b[0;34m]\u001b[0m\u001b[0;34m.\u001b[0m\u001b[0mpcolormesh\u001b[0m\u001b[0;34m(\u001b[0m\u001b[0mdata_pred\u001b[0m\u001b[0;34m)\u001b[0m\u001b[0;34m\u001b[0m\u001b[0;34m\u001b[0m\u001b[0m\n\u001b[0m\u001b[1;32m     26\u001b[0m     \u001b[0max\u001b[0m\u001b[0;34m[\u001b[0m\u001b[0mi\u001b[0m\u001b[0;34m//\u001b[0m\u001b[0;36m4\u001b[0m\u001b[0;34m,\u001b[0m \u001b[0mi\u001b[0m\u001b[0;34m%\u001b[0m\u001b[0;36m4\u001b[0m\u001b[0;34m]\u001b[0m\u001b[0;34m.\u001b[0m\u001b[0mset_title\u001b[0m\u001b[0;34m(\u001b[0m\u001b[0mMSE\u001b[0m\u001b[0;34m(\u001b[0m\u001b[0mdata_pred\u001b[0m\u001b[0;34m,\u001b[0m \u001b[0mdata\u001b[0m\u001b[0;34m)\u001b[0m\u001b[0;34m)\u001b[0m\u001b[0;34m\u001b[0m\u001b[0;34m\u001b[0m\u001b[0m\n\u001b[1;32m     27\u001b[0m \u001b[0;34m\u001b[0m\u001b[0m\n",
      "\u001b[0;31mIndexError\u001b[0m: too many indices for array"
     ]
    },
    {
     "data": {
      "image/png": "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\n",
      "text/plain": [
       "<Figure size 1152x288 with 4 Axes>"
      ]
     },
     "metadata": {
      "needs_background": "light"
     },
     "output_type": "display_data"
    }
   ],
   "outputs": [],
   "source": [
    "lamda = 1e-5\n",
    "\n",
    "err_list = []\n",
    "err_list_truemodel = []\n",
    "lower_poly_order = 1\n",
    "nr_poly_orders = 4\n",
    "poly_orders = np.arange(lower_poly_order, lower_poly_order+nr_poly_orders)\n",
    "\n",
    "fig, ax = plt.subplots(nr_poly_orders//4, 4, figsize=(16, 4*nr_poly_orders//4))\n",
    "\n",
    "for i, poly_order in enumerate(poly_orders):\n",
    "    print('i',i)\n",
    "    t0 = time.time()\n",
    "    X = make_X(x_flat, y_flat, poly_order)\n",
    "    \n",
    "    _lasso = Lasso(alpha=lamda,max_iter=1e3,tol=0.001)\n",
    "    clf = _lasso.fit(X,f)\n",
    "    data_pred = Model(clf.coef_,x_,y_,poly_order)\n",
    "    print('beta shape',clf.coef_.shape)\n",
    " #   data_pred = X*clf.coef_\n",
    "#    print(data_pred.shape)\n",
    "\n",
    "    print(time.time() - t0)\n",
    "\n",
    "    ax[i//4, i%4].pcolormesh(data_pred)\n",
    "    ax[i//4, i%4].set_title(MSE(data_pred, data))\n",
    "    \n",
    "    err_list.append(np.sum(np.abs(data - data_pred)))\n",
    "    err_list_truemodel.append(np.sum(np.abs(Franke(x_, y_) - data_pred)))"
   ]
  },
  {
   "cell_type": "markdown",
   "metadata": {},
   "source": [
    "# 3. Train-test split"
   ]
  },
  {
   "cell_type": "code",
   "execution_count": null,
   "metadata": {},
   "outputs": [],
   "source": [
    "poly_order = 5\n",
    "\n",
    "input_ = np.zeros((nr_datapoints, 2))\n",
    "input_[:,0] = x_flat\n",
    "input_[:,1] = y_flat"
   ]
  },
  {
   "cell_type": "code",
   "execution_count": null,
   "metadata": {},
   "outputs": [],
   "source": [
    "input_train, input_test, output_train, output_test = train_test_split(input_, f, test_size = 0.3)"
   ]
  },
  {
   "cell_type": "code",
   "execution_count": null,
   "metadata": {},
   "outputs": [],
   "source": [
    "X = make_X(input_train[:,0], input_train[:,1], poly_order)\n",
    "beta = np.linalg.inv(X.T@X)@X.T@output_train\n",
    "\n",
    "output_test_pred = Model(beta, input_test[:,0], input_test[:,1], poly_order)"
   ]
  },
  {
   "cell_type": "code",
   "execution_count": null,
   "metadata": {},
   "outputs": [],
   "source": [
    "MSE(output_test, output_test_pred)"
   ]
  },
  {
   "cell_type": "markdown",
   "metadata": {},
   "source": [
    "# 4. K-fold validation"
   ]
  },
  {
   "cell_type": "code",
   "execution_count": null,
   "metadata": {},
   "outputs": [],
   "source": [
    "def K_fold_validation(input_, output, K=5):\n",
    "    output_pred = np.zeros(nr_datapoints)\n",
    "    #kf = KFold(n_splits = K, shuffle=True)\n",
    "    kf = KFold_iterator(nr_datapoints, K)\n",
    "    for train_index, test_index in kf:\n",
    "        input_train, input_test = input_[train_index], input_[test_index]\n",
    "        output_train, output_test = output[train_index], output[test_index]\n",
    "        X = make_X(input_train[:,0], input_train[:,1], poly_order)\n",
    "        beta = np.linalg.inv(X.T@X)@X.T@output_train\n",
    "\n",
    "        output_test_pred = Model(beta, input_test[:,0], input_test[:,1], poly_order)\n",
    "        output_pred[test_index] = output_test_pred\n",
    "    return output_pred"
   ]
  },
  {
   "cell_type": "code",
   "execution_count": null,
   "metadata": {},
   "outputs": [],
   "source": [
    "output_pred = K_fold_validation(input_, f)"
   ]
  },
  {
   "cell_type": "code",
   "execution_count": null,
   "metadata": {},
   "outputs": [],
   "source": [
    "MSE(output_pred, f)"
   ]
  },
  {
   "cell_type": "code",
   "execution_count": null,
   "metadata": {},
   "outputs": [],
   "source": []
  },
  {
   "cell_type": "code",
   "execution_count": null,
   "metadata": {},
   "outputs": [],
   "source": []
  },
  {
   "cell_type": "code",
   "execution_count": null,
   "metadata": {},
   "outputs": [],
   "source": []
  },
  {
   "cell_type": "code",
   "execution_count": null,
   "metadata": {},
   "outputs": [],
   "source": []
  },
  {
   "cell_type": "code",
   "execution_count": null,
   "metadata": {},
   "outputs": [],
   "source": []
  },
  {
   "cell_type": "code",
   "execution_count": null,
   "metadata": {},
   "outputs": [],
   "source": []
  }
 ],
 "metadata": {
  "kernelspec": {
   "display_name": "Python 3",
   "language": "python",
   "name": "python3"
  },
  "language_info": {
   "codemirror_mode": {
    "name": "ipython",
    "version": 3
   },
   "file_extension": ".py",
   "mimetype": "text/x-python",
   "name": "python",
   "nbconvert_exporter": "python",
   "pygments_lexer": "ipython3",
   "version": "3.7.1"
  }
 },
 "nbformat": 4,
 "nbformat_minor": 4
}
