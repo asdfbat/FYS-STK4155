{
 "cells": [
  {
   "cell_type": "code",
   "execution_count": 1,
   "metadata": {},
   "outputs": [],
   "source": [
    "import numpy as np\n",
    "import matplotlib.pyplot as plt\n",
    "import matplotlib as mpl\n",
    "import seaborn\n",
    "from sklearn.metrics import mean_squared_error as MSE\n",
    "from sklearn.metrics import r2_score\n",
    "from sklearn.model_selection import train_test_split, KFold\n",
    "import scipy.stats\n",
    "import time\n",
    "from imageio import imread\n",
    "\n",
    "mpl.style.use(\"seaborn-darkgrid\")\n",
    "mpl.rcParams[\"image.cmap\"] = \"gnuplot2\"\n",
    "mpl.rcParams['figure.figsize'] = [8.0, 6.0]\n",
    "\n",
    "np.random.seed(1942)"
   ]
  },
  {
   "cell_type": "markdown",
   "metadata": {},
   "source": [
    "# 1. Linear Regression on Generic Data"
   ]
  },
  {
   "cell_type": "markdown",
   "metadata": {},
   "source": [
    "## 1.1 The Franke Funtion, with noise"
   ]
  },
  {
   "cell_type": "code",
   "execution_count": 2,
   "metadata": {},
   "outputs": [],
   "source": [
    "def Franke(x, y):\n",
    "    term1 = 0.75*np.exp(-(0.25*(9*x-2)**2) - 0.25*((9*y-2)**2))\n",
    "    term2 = 0.75*np.exp(-((9*x+1)**2)/49.0 - 0.1*(9*y+1))\n",
    "    term3 = 0.5*np.exp(-(9*x-7)**2/4.0 - 0.25*((9*y-3)**2))\n",
    "    term4 = -0.2*np.exp(-(9*x-4)**2 - (9*y-7)**2)\n",
    "    return term1 + term2 + term3 + term4\n",
    "\n",
    "def FrankeNoise(x, y, sigma=1):\n",
    "    return Franke(x, y) + np.random.normal(0, sigma, np.shape(x))"
   ]
  },
  {
   "cell_type": "markdown",
   "metadata": {},
   "source": [
    "# K-fold Class"
   ]
  },
  {
   "cell_type": "code",
   "execution_count": 3,
   "metadata": {},
   "outputs": [],
   "source": [
    "class KFold_iterator:\n",
    "    def __init__(self, input_dim, nr_splits=5):\n",
    "        self.input_dim = input_dim\n",
    "        self.nr_splits = nr_splits\n",
    "        self.nr_iters_done = 0\n",
    "        self.index_data = self.shuffle_split()\n",
    "\n",
    "    def __iter__(self):\n",
    "        return self\n",
    "\n",
    "    def __next__(self):\n",
    "        if self.nr_iters_done < self.nr_splits:\n",
    "            self.iter = (np.concatenate(self.index_data[1:]), self.index_data[0])\n",
    "            self.index_data = self.index_data[1:] + [self.index_data[0]]\n",
    "            self.nr_iters_done += 1\n",
    "            return self.iter\n",
    "        else:\n",
    "            raise StopIteration\n",
    "\n",
    "    def shuffle_split(self):\n",
    "        indexes = np.arange(self.input_dim)\n",
    "        np.random.shuffle(indexes)\n",
    "        return np.array_split(indexes, self.nr_splits)"
   ]
  },
  {
   "cell_type": "markdown",
   "metadata": {},
   "source": [
    "# Regression Class"
   ]
  },
  {
   "cell_type": "code",
   "execution_count": 16,
   "metadata": {},
   "outputs": [],
   "source": [
    "class Regression:\n",
    "    def __init__(self):\n",
    "        pass\n",
    "\n",
    "    def generate_generic_data(self, x, y, func):\n",
    "        self.xshape, self.yshape = len(x), len(y)\n",
    "        x_mesh, y_mesh = np.meshgrid(x, y)\n",
    "        self.set_data(x_mesh, y_mesh, func(x_mesh, y_mesh))\n",
    "\n",
    "    def load_matrix_data(self, A):\n",
    "        self.xshape, self.yshape = A.shape\n",
    "        x = np.arange(self.xshape); y = np.arange(self.yshape)\n",
    "        x_mesh, y_mesh = np.meshgrid(x, y)\n",
    "        self.set_data(x_mesh, y_mesh, A)\n",
    "        \n",
    "    def set_data(self, x_mesh, y_mesh, f):\n",
    "        self.f = f\n",
    "        self.x_mesh, self.y_mesh = x_mesh, y_mesh\n",
    "        self.x_flat, self.y_flat, self.f_flat = self.x_mesh.flatten(), self.y_mesh.flatten(), self.f.flatten()\n",
    "        self.nr_datapoints = len(self.x_flat)\n",
    "\n",
    "    def get_X(self, x, y, poly_order):\n",
    "        self.poly_order = poly_order\n",
    "        nr_terms = ((poly_order + 1)*(poly_order + 2))//2\n",
    "        X = np.zeros((np.size(x), nr_terms))\n",
    "        X[:,0] = 1\n",
    "\n",
    "        i = 0\n",
    "        for ix in range(poly_order+1):\n",
    "            for iy in range(poly_order+1):\n",
    "                if 0 < ix + iy < poly_order+1:\n",
    "                    i += 1\n",
    "                    X[:,i] = x**ix*y**iy\n",
    "        return X\n",
    "\n",
    "    def apply_model(self, beta, x, y, poly_order):\n",
    "        i = 0\n",
    "        result = beta[0]\n",
    "        for ix in range(poly_order+1):\n",
    "            for iy in range(poly_order+1):\n",
    "                if 0 < ix + iy < poly_order+1:\n",
    "                    i += 1\n",
    "                    result += beta[i]*x**ix*y**iy\n",
    "        return result\n",
    "\n",
    "    def get_beta(self, X, f, lamda=0, solver=\"OLS\"):\n",
    "        XT = X.T\n",
    "        if solver==\"OLS\":\n",
    "            beta = np.linalg.inv(XT@X)@XT@f\n",
    "        elif solver==\"Ridge\":\n",
    "            beta = np.linalg.inv(XT@X + np.identity(X.shape[1])*lamda)@XT@f\n",
    "        elif solver==\"Lasso\":\n",
    "            print(\"TBA\")\n",
    "        else:\n",
    "            print(\"Dust\")\n",
    "            raise NotImplementedError\n",
    "        return beta\n",
    "    \n",
    "    def solveCoefficients(self, solver=\"OLS\", poly_order=5):\n",
    "        X = self.get_X(self.x_flat, self.y_flat, poly_order)\n",
    "        beta = self.get_beta(X, self.f_flat)\n",
    "        return beta\n",
    "\n",
    "    def solveTrainTest(self, test_fraction=0.25, solver=\"OLS\", poly_order=5):\n",
    "        x_flat, y_flat, f_flat = self.x_flat, self.y_flat, self.f_flat\n",
    "        x_train, x_test, y_train, y_test, output_train, output_test = train_test_split(x_flat, y_flat, f_flat, test_size=test_fraction)\n",
    "        X = self.get_X(x_train, y_train, poly_order)\n",
    "        beta = self.get_beta(X, output_train)\n",
    "        output_test_pred = self.apply_model(beta, x_test, y_test, poly_order)\n",
    "        return output_test, output_test_pred\n",
    "        \n",
    "    def solveKFold(self, K=5, solver=\"OLS\", poly_order=5):\n",
    "        x_flat, y_flat, f_flat = self.x_flat, self.y_flat, self.f_flat\n",
    "        output_pred = np.zeros(self.nr_datapoints)\n",
    "        kf = KFold_iterator(self.nr_datapoints, K)\n",
    "        for train_index, test_index in kf:\n",
    "            x_train, x_test, y_train, y_test = x_flat[train_index], x_flat[test_index], y_flat[train_index], y_flat[test_index]\n",
    "            output_train, output_test = f_flat[train_index], f_flat[test_index]\n",
    "            X = self.get_X(x_train, y_train, poly_order)\n",
    "            beta = self.get_beta(X, output_train)\n",
    "            output_test_pred = self.apply_model(beta, x_test, y_test, poly_order)\n",
    "            output_pred[test_index] = output_test_pred\n",
    "        output_pred_stacked = np.zeros((self.xshape, self.yshape))\n",
    "        print(self.xshape, self.yshape)\n",
    "        for i in range(self.yshape):\n",
    "            output_pred_stacked[:,i] = output_pred[i*self.xshape : (i+1)*self.xshape]\n",
    "        return output_pred_stacked"
   ]
  },
  {
   "cell_type": "code",
   "execution_count": 22,
   "metadata": {},
   "outputs": [
    {
     "ename": "MemoryError",
     "evalue": "Unable to allocate array with shape (66, 6485401) and data type float64",
     "output_type": "error",
     "traceback": [
      "\u001b[0;31m---------------------------------------------------------------------------\u001b[0m",
      "\u001b[0;31mMemoryError\u001b[0m                               Traceback (most recent call last)",
      "\u001b[0;32m<ipython-input-22-a6e26a5407d3>\u001b[0m in \u001b[0;36m<module>\u001b[0;34m\u001b[0m\n\u001b[1;32m      4\u001b[0m \u001b[0mreg\u001b[0m\u001b[0;34m.\u001b[0m\u001b[0mload_matrix_data\u001b[0m\u001b[0;34m(\u001b[0m\u001b[0mterrain1\u001b[0m\u001b[0;34m)\u001b[0m\u001b[0;34m\u001b[0m\u001b[0;34m\u001b[0m\u001b[0m\n\u001b[1;32m      5\u001b[0m \u001b[0;31m#data_pred = reg.solveKFold(K=5, poly_order=5)\u001b[0m\u001b[0;34m\u001b[0m\u001b[0;34m\u001b[0m\u001b[0;34m\u001b[0m\u001b[0m\n\u001b[0;32m----> 6\u001b[0;31m \u001b[0mbeta\u001b[0m \u001b[0;34m=\u001b[0m \u001b[0mreg\u001b[0m\u001b[0;34m.\u001b[0m\u001b[0msolveCoefficients\u001b[0m\u001b[0;34m(\u001b[0m\u001b[0mpoly_order\u001b[0m\u001b[0;34m=\u001b[0m\u001b[0;36m10\u001b[0m\u001b[0;34m)\u001b[0m\u001b[0;34m\u001b[0m\u001b[0;34m\u001b[0m\u001b[0m\n\u001b[0m\u001b[1;32m      7\u001b[0m \u001b[0mdata_pred\u001b[0m \u001b[0;34m=\u001b[0m \u001b[0mreg\u001b[0m\u001b[0;34m.\u001b[0m\u001b[0mapply_model\u001b[0m\u001b[0;34m(\u001b[0m\u001b[0mbeta\u001b[0m\u001b[0;34m,\u001b[0m \u001b[0mreg\u001b[0m\u001b[0;34m.\u001b[0m\u001b[0mx_mesh\u001b[0m\u001b[0;34m,\u001b[0m \u001b[0mreg\u001b[0m\u001b[0;34m.\u001b[0m\u001b[0my_mesh\u001b[0m\u001b[0;34m,\u001b[0m \u001b[0mpoly_order\u001b[0m\u001b[0;34m=\u001b[0m\u001b[0;36m10\u001b[0m\u001b[0;34m)\u001b[0m\u001b[0;34m\u001b[0m\u001b[0;34m\u001b[0m\u001b[0m\n",
      "\u001b[0;32m<ipython-input-16-6d030a248d38>\u001b[0m in \u001b[0;36msolveCoefficients\u001b[0;34m(self, solver, poly_order)\u001b[0m\n\u001b[1;32m     59\u001b[0m     \u001b[0;32mdef\u001b[0m \u001b[0msolveCoefficients\u001b[0m\u001b[0;34m(\u001b[0m\u001b[0mself\u001b[0m\u001b[0;34m,\u001b[0m \u001b[0msolver\u001b[0m\u001b[0;34m=\u001b[0m\u001b[0;34m\"OLS\"\u001b[0m\u001b[0;34m,\u001b[0m \u001b[0mpoly_order\u001b[0m\u001b[0;34m=\u001b[0m\u001b[0;36m5\u001b[0m\u001b[0;34m)\u001b[0m\u001b[0;34m:\u001b[0m\u001b[0;34m\u001b[0m\u001b[0;34m\u001b[0m\u001b[0m\n\u001b[1;32m     60\u001b[0m         \u001b[0mX\u001b[0m \u001b[0;34m=\u001b[0m \u001b[0mself\u001b[0m\u001b[0;34m.\u001b[0m\u001b[0mget_X\u001b[0m\u001b[0;34m(\u001b[0m\u001b[0mself\u001b[0m\u001b[0;34m.\u001b[0m\u001b[0mx_flat\u001b[0m\u001b[0;34m,\u001b[0m \u001b[0mself\u001b[0m\u001b[0;34m.\u001b[0m\u001b[0my_flat\u001b[0m\u001b[0;34m,\u001b[0m \u001b[0mpoly_order\u001b[0m\u001b[0;34m)\u001b[0m\u001b[0;34m\u001b[0m\u001b[0;34m\u001b[0m\u001b[0m\n\u001b[0;32m---> 61\u001b[0;31m         \u001b[0mbeta\u001b[0m \u001b[0;34m=\u001b[0m \u001b[0mself\u001b[0m\u001b[0;34m.\u001b[0m\u001b[0mget_beta\u001b[0m\u001b[0;34m(\u001b[0m\u001b[0mX\u001b[0m\u001b[0;34m,\u001b[0m \u001b[0mself\u001b[0m\u001b[0;34m.\u001b[0m\u001b[0mf_flat\u001b[0m\u001b[0;34m)\u001b[0m\u001b[0;34m\u001b[0m\u001b[0;34m\u001b[0m\u001b[0m\n\u001b[0m\u001b[1;32m     62\u001b[0m         \u001b[0;32mreturn\u001b[0m \u001b[0mbeta\u001b[0m\u001b[0;34m\u001b[0m\u001b[0;34m\u001b[0m\u001b[0m\n\u001b[1;32m     63\u001b[0m \u001b[0;34m\u001b[0m\u001b[0m\n",
      "\u001b[0;32m<ipython-input-16-6d030a248d38>\u001b[0m in \u001b[0;36mget_beta\u001b[0;34m(self, X, f, lamda, solver)\u001b[0m\n\u001b[1;32m     47\u001b[0m         \u001b[0mXT\u001b[0m \u001b[0;34m=\u001b[0m \u001b[0mX\u001b[0m\u001b[0;34m.\u001b[0m\u001b[0mT\u001b[0m\u001b[0;34m\u001b[0m\u001b[0;34m\u001b[0m\u001b[0m\n\u001b[1;32m     48\u001b[0m         \u001b[0;32mif\u001b[0m \u001b[0msolver\u001b[0m\u001b[0;34m==\u001b[0m\u001b[0;34m\"OLS\"\u001b[0m\u001b[0;34m:\u001b[0m\u001b[0;34m\u001b[0m\u001b[0;34m\u001b[0m\u001b[0m\n\u001b[0;32m---> 49\u001b[0;31m             \u001b[0mbeta\u001b[0m \u001b[0;34m=\u001b[0m \u001b[0mnp\u001b[0m\u001b[0;34m.\u001b[0m\u001b[0mlinalg\u001b[0m\u001b[0;34m.\u001b[0m\u001b[0minv\u001b[0m\u001b[0;34m(\u001b[0m\u001b[0mXT\u001b[0m\u001b[0;34m@\u001b[0m\u001b[0mX\u001b[0m\u001b[0;34m)\u001b[0m\u001b[0;34m@\u001b[0m\u001b[0mXT\u001b[0m\u001b[0;34m@\u001b[0m\u001b[0mf\u001b[0m\u001b[0;34m\u001b[0m\u001b[0;34m\u001b[0m\u001b[0m\n\u001b[0m\u001b[1;32m     50\u001b[0m         \u001b[0;32melif\u001b[0m \u001b[0msolver\u001b[0m\u001b[0;34m==\u001b[0m\u001b[0;34m\"Ridge\"\u001b[0m\u001b[0;34m:\u001b[0m\u001b[0;34m\u001b[0m\u001b[0;34m\u001b[0m\u001b[0m\n\u001b[1;32m     51\u001b[0m             \u001b[0mbeta\u001b[0m \u001b[0;34m=\u001b[0m \u001b[0mnp\u001b[0m\u001b[0;34m.\u001b[0m\u001b[0mlinalg\u001b[0m\u001b[0;34m.\u001b[0m\u001b[0minv\u001b[0m\u001b[0;34m(\u001b[0m\u001b[0mXT\u001b[0m\u001b[0;34m@\u001b[0m\u001b[0mX\u001b[0m \u001b[0;34m+\u001b[0m \u001b[0mnp\u001b[0m\u001b[0;34m.\u001b[0m\u001b[0midentity\u001b[0m\u001b[0;34m(\u001b[0m\u001b[0mX\u001b[0m\u001b[0;34m.\u001b[0m\u001b[0mshape\u001b[0m\u001b[0;34m[\u001b[0m\u001b[0;36m1\u001b[0m\u001b[0;34m]\u001b[0m\u001b[0;34m)\u001b[0m\u001b[0;34m*\u001b[0m\u001b[0mlamda\u001b[0m\u001b[0;34m)\u001b[0m\u001b[0;34m@\u001b[0m\u001b[0mXT\u001b[0m\u001b[0;34m@\u001b[0m\u001b[0mf\u001b[0m\u001b[0;34m\u001b[0m\u001b[0;34m\u001b[0m\u001b[0m\n",
      "\u001b[0;31mMemoryError\u001b[0m: Unable to allocate array with shape (66, 6485401) and data type float64"
     ]
    },
    {
     "data": {
      "image/png": "[encoded data removed]",
      "text/plain": [
       "<Figure size 432x288 with 1 Axes>"
      ]
     },
     "metadata": {
      "needs_background": "light"
     },
     "output_type": "display_data"
    }
   ],
   "source": [
    "terrain1 = imread(\"../input_data/SRTM_data_Norway_1.tif\")\n",
    "plt.imshow(terrain1)\n",
    "reg = Regression()\n",
    "reg.load_matrix_data(terrain1)\n",
    "#data_pred = reg.solveKFold(K=5, poly_order=5)\n",
    "beta = reg.solveCoefficients(poly_order=5)\n",
    "data_pred = reg.apply_model(beta, reg.x_mesh, reg.y_mesh, poly_order=5)"
   ]
  },
  {
   "cell_type": "code",
   "execution_count": null,
   "metadata": {},
   "outputs": [],
   "source": []
  },
  {
   "cell_type": "code",
   "execution_count": null,
   "metadata": {},
   "outputs": [],
   "source": [
    "plt.imshow(data_pred.T)\n",
    "#plt.colorbar()\n",
    "#plt.hist(data_pred.flatten(), bins=100);\n",
    "data_pred.shape"
   ]
  },
  {
   "cell_type": "code",
   "execution_count": null,
   "metadata": {},
   "outputs": [],
   "source": [
    "nr_points_per_dim = 201\n",
    "nr_datapoints = nr_points_per_dim**2\n",
    "reg = Regression()\n",
    "reg.generate_generic_data(np.linspace(0, 1, nr_points_per_dim), np.linspace(0, 1, nr_points_per_dim), FrankeNoise)\n",
    "data_pred = reg.solveKFold(K=10, poly_order=5)\n",
    "plt.pcolormesh(reg.x_mesh, reg.y_mesh, data_pred);"
   ]
  },
  {
   "cell_type": "code",
   "execution_count": null,
   "metadata": {},
   "outputs": [],
   "source": [
    "nr_points_per_dim = 201\n",
    "nr_datapoints = nr_points_per_dim**2"
   ]
  },
  {
   "cell_type": "markdown",
   "metadata": {},
   "source": [
    "### 1.1.1 Plotting the Franke Function, with and without noise"
   ]
  },
  {
   "cell_type": "code",
   "execution_count": null,
   "metadata": {},
   "outputs": [],
   "source": [
    "x = np.linspace(0, 1, nr_points_per_dim)\n",
    "y = np.linspace(0, 1, nr_points_per_dim)\n",
    "#x = np.random.uniform(0, 1, nr_points_per_dim)\n",
    "#y = np.random.uniform(0, 1, nr_points_per_dim)\n",
    "x_, y_ = np.meshgrid(x, y)\n",
    "\n",
    "x_flat = x_.flatten()\n",
    "y_flat = y_.flatten()\n",
    "\n",
    "data = FrankeNoise(x_, y_)\n",
    "f = data.flatten()\n",
    "\n",
    "fig, (ax1, ax2) = plt.subplots(1, 2, figsize=(18,6))\n",
    "plt1 = ax1.pcolormesh(x_, y_, FrankeNoise(x_,y_));\n",
    "fig.colorbar(plt1, ax=ax1);\n",
    "\n",
    "plt2 = ax2.pcolormesh(x_, y_, Franke(x_, y_))\n",
    "fig.colorbar(plt2, ax=ax2);"
   ]
  },
  {
   "cell_type": "markdown",
   "metadata": {},
   "source": [
    "## 1.2 Setting up the design matrix and model"
   ]
  },
  {
   "cell_type": "code",
   "execution_count": null,
   "metadata": {},
   "outputs": [],
   "source": [
    "poly_order = 5"
   ]
  },
  {
   "cell_type": "markdown",
   "metadata": {},
   "source": [
    "### 1.2.1 The design matrix, X"
   ]
  },
  {
   "cell_type": "code",
   "execution_count": null,
   "metadata": {},
   "outputs": [],
   "source": [
    "def make_X(x_flat, y_flat, poly_order):\n",
    "    nr_terms = ((poly_order + 1)*(poly_order + 2))//2\n",
    "    X = np.zeros((np.size(x_flat), nr_terms))\n",
    "    X[:,0] = 1\n",
    "\n",
    "    i = 0\n",
    "    for ix in range(poly_order+1):\n",
    "        for iy in range(poly_order+1):\n",
    "            if 0 < ix + iy < poly_order+1:\n",
    "                i += 1\n",
    "                X[:,i] = x_flat**ix*y_flat**iy\n",
    "    return X"
   ]
  },
  {
   "cell_type": "markdown",
   "metadata": {},
   "source": [
    "### 1.2.2 The Model"
   ]
  },
  {
   "cell_type": "code",
   "execution_count": null,
   "metadata": {},
   "outputs": [],
   "source": [
    "def Model(beta, x, y, poly_order):\n",
    "    i = 0\n",
    "    result = beta[0]\n",
    "    for ix in range(poly_order+1):\n",
    "        for iy in range(poly_order+1):\n",
    "            if 0 < ix + iy < poly_order+1:\n",
    "                i += 1\n",
    "                result += beta[i]*x**ix*y**iy\n",
    "    return result"
   ]
  },
  {
   "cell_type": "markdown",
   "metadata": {},
   "source": [
    "## 1.3 Predicting model from noisy data with Linear Regression using OLS"
   ]
  },
  {
   "cell_type": "code",
   "execution_count": null,
   "metadata": {},
   "outputs": [],
   "source": [
    "X = make_X(x_flat, y_flat, poly_order)\n",
    "beta = np.linalg.inv(X.T@X)@X.T@f\n",
    "data_pred = Model(beta, x_, y_, poly_order)"
   ]
  },
  {
   "cell_type": "markdown",
   "metadata": {},
   "source": [
    "## 1.4 Results"
   ]
  },
  {
   "cell_type": "code",
   "execution_count": null,
   "metadata": {},
   "outputs": [],
   "source": [
    "plt.figure(figsize=(8,6))\n",
    "plt.pcolormesh(x_, y_, data_pred)\n",
    "plt.colorbar();"
   ]
  },
  {
   "cell_type": "markdown",
   "metadata": {},
   "source": [
    "## 1.4.1 Score values"
   ]
  },
  {
   "cell_type": "code",
   "execution_count": null,
   "metadata": {},
   "outputs": [],
   "source": [
    "print(\"MSE Score = \", MSE(data, data_pred))\n",
    "print(\"RRMSE Score = \", np.sqrt(MSE(data, data_pred))/np.mean(data))\n",
    "print(\"MSE Score (vs true model) =\", MSE(Franke(x_, y_), data_pred))"
   ]
  },
  {
   "cell_type": "code",
   "execution_count": null,
   "metadata": {},
   "outputs": [],
   "source": [
    "print(\"R2 Score = \", r2_score(data, data_pred))"
   ]
  },
  {
   "cell_type": "markdown",
   "metadata": {},
   "source": [
    "## 1.4.2 Analysing the noise"
   ]
  },
  {
   "cell_type": "code",
   "execution_count": null,
   "metadata": {},
   "outputs": [],
   "source": [
    "noise_pred = data - data_pred"
   ]
  },
  {
   "cell_type": "code",
   "execution_count": null,
   "metadata": {},
   "outputs": [],
   "source": [
    "plt.figure(figsize = (8, 6))\n",
    "plt.pcolormesh(noise_pred)\n",
    "plt.colorbar();"
   ]
  },
  {
   "cell_type": "code",
   "execution_count": null,
   "metadata": {},
   "outputs": [],
   "source": [
    "plt.hist(noise_pred.flatten(), bins=40, color=\"navy\");"
   ]
  },
  {
   "cell_type": "markdown",
   "metadata": {},
   "source": [
    "### 1.4.3 Probability Plot - Confirming normal distribution of noise"
   ]
  },
  {
   "cell_type": "code",
   "execution_count": null,
   "metadata": {},
   "outputs": [],
   "source": [
    "(x, y), (slope, intercept, r) = scipy.stats.probplot(noise_pred.flatten());\n",
    "\n",
    "plt.figure(figsize = (8,6))\n",
    "plt.plot(x, y, color=\"navy\");\n",
    "plt.plot(x, intercept + x*slope, ls=\"--\", c=\"crimson\")\n",
    "r"
   ]
  },
  {
   "cell_type": "markdown",
   "metadata": {},
   "source": [
    "## 1.5 Round 2 - Running the model for different polynomial degrees"
   ]
  },
  {
   "cell_type": "code",
   "execution_count": null,
   "metadata": {},
   "outputs": [],
   "source": [
    "err_list = []\n",
    "err_list_truemodel = []\n",
    "nr_poly_orders = 16\n",
    "poly_orders = np.arange(1, nr_poly_orders + 1)\n",
    "\n",
    "fig, ax = plt.subplots(nr_poly_orders//4, 4, figsize=(16, 4*nr_poly_orders//4))\n",
    "\n",
    "for i, poly_order in enumerate(poly_orders):\n",
    "    t0 = time.time()\n",
    "    X = make_X(x_flat, y_flat, poly_order)\n",
    "    beta = np.linalg.inv(X.T@X)@X.T@f\n",
    "    #print(i, beta)\n",
    "    data_pred = Model(beta, x_, y_, poly_order)\n",
    "    print(time.time() - t0)\n",
    "    #plt.figure(figsize=(8,8))\n",
    "    ax[i//4, i%4].pcolormesh(data_pred)\n",
    "    ax[i//4, i%4].set_title(MSE(data_pred, data))\n",
    "    err_list.append(np.sum(np.abs(data - data_pred)))\n",
    "    err_list_truemodel.append(np.sum(np.abs(Franke(x_, y_) - data_pred)))    "
   ]
  },
  {
   "cell_type": "code",
   "execution_count": null,
   "metadata": {},
   "outputs": [],
   "source": [
    "plt.plot(np.log(err_list[:9]));"
   ]
  },
  {
   "cell_type": "code",
   "execution_count": null,
   "metadata": {},
   "outputs": [],
   "source": [
    "plt.plot(np.log(err_list_truemodel[:9]));"
   ]
  },
  {
   "cell_type": "markdown",
   "metadata": {},
   "source": [
    "# 2 Ridge Regression"
   ]
  },
  {
   "cell_type": "code",
   "execution_count": null,
   "metadata": {},
   "outputs": [],
   "source": [
    "lamda = 1e-8\n",
    "\n",
    "err_list = []\n",
    "err_list_truemodel = []\n",
    "nr_poly_orders = 40\n",
    "poly_orders = np.arange(1, nr_poly_orders + 1)\n",
    "\n",
    "fig, ax = plt.subplots(nr_poly_orders//4, 4, figsize=(16, 4*nr_poly_orders//4))\n",
    "\n",
    "for i, poly_order in enumerate(poly_orders):\n",
    "    t0 = time.time()\n",
    "    X = make_X(x_flat, y_flat, poly_order)\n",
    "    beta = np.linalg.inv(X.T@X + np.identity(X.shape[1])*lamda)@X.T@f\n",
    "    #print(i, beta)\n",
    "    data_pred = Model(beta, x_, y_, poly_order)\n",
    "    print(time.time() - t0)\n",
    "    #plt.figure(figsize=(8,8))\n",
    "    ax[i//4, i%4].pcolormesh(data_pred)\n",
    "    ax[i//4, i%4].set_title(MSE(data_pred, data))\n",
    "    err_list.append(np.sum(np.abs(data - data_pred)))\n",
    "    err_list_truemodel.append(np.sum(np.abs(Franke(x_, y_) - data_pred)))    "
   ]
  },
  {
   "cell_type": "code",
   "execution_count": null,
   "metadata": {},
   "outputs": [],
   "source": [
    "plt.plot(np.log(err_list));"
   ]
  },
  {
   "cell_type": "code",
   "execution_count": null,
   "metadata": {},
   "outputs": [],
   "source": [
    "plt.plot(np.log(err_list_truemodel));"
   ]
  },
  {
   "cell_type": "markdown",
   "metadata": {},
   "source": [
    "# 3. Train-test split"
   ]
  },
  {
   "cell_type": "code",
   "execution_count": null,
   "metadata": {},
   "outputs": [],
   "source": [
    "poly_order = 5\n",
    "\n",
    "input_ = np.zeros((nr_datapoints, 2))\n",
    "input_[:,0] = x_flat\n",
    "input_[:,1] = y_flat"
   ]
  },
  {
   "cell_type": "code",
   "execution_count": null,
   "metadata": {},
   "outputs": [],
   "source": [
    "input_train, input_test, output_train, output_test = train_test_split(input_, f, test_size = 0.3)"
   ]
  },
  {
   "cell_type": "code",
   "execution_count": null,
   "metadata": {},
   "outputs": [],
   "source": [
    "X = make_X(input_train[:,0], input_train[:,1], poly_order)\n",
    "beta = np.linalg.inv(X.T@X)@X.T@output_train\n",
    "\n",
    "output_test_pred = Model(beta, input_test[:,0], input_test[:,1], poly_order)"
   ]
  },
  {
   "cell_type": "code",
   "execution_count": null,
   "metadata": {},
   "outputs": [],
   "source": [
    "MSE(output_test, output_test_pred)"
   ]
  },
  {
   "cell_type": "markdown",
   "metadata": {},
   "source": [
    "# 4. K-fold validation"
   ]
  },
  {
   "cell_type": "code",
   "execution_count": null,
   "metadata": {},
   "outputs": [],
   "source": [
    "def K_fold_validation(input_, output, K=5):\n",
    "    output_pred = np.zeros(nr_datapoints)\n",
    "    #kf = KFold(n_splits = K, shuffle=True)\n",
    "    kf = KFold_iterator(nr_datapoints, K)\n",
    "    for train_index, test_index in kf:\n",
    "        input_train, input_test = input_[train_index], input_[test_index]\n",
    "        output_train, output_test = output[train_index], output[test_index]\n",
    "        X = make_X(input_train[:,0], input_train[:,1], poly_order)\n",
    "        beta = np.linalg.inv(X.T@X)@X.T@output_train\n",
    "\n",
    "        output_test_pred = Model(beta, input_test[:,0], input_test[:,1], poly_order)\n",
    "        output_pred[test_index] = output_test_pred\n",
    "    return output_pred"
   ]
  },
  {
   "cell_type": "code",
   "execution_count": null,
   "metadata": {},
   "outputs": [],
   "source": [
    "output_pred = K_fold_validation(input_, f)"
   ]
  },
  {
   "cell_type": "code",
   "execution_count": null,
   "metadata": {},
   "outputs": [],
   "source": [
    "MSE(output_pred, f)"
   ]
  },
  {
   "cell_type": "code",
   "execution_count": null,
   "metadata": {},
   "outputs": [],
   "source": []
  },
  {
   "cell_type": "code",
   "execution_count": null,
   "metadata": {},
   "outputs": [],
   "source": []
  },
  {
   "cell_type": "code",
   "execution_count": null,
   "metadata": {},
   "outputs": [],
   "source": []
  },
  {
   "cell_type": "code",
   "execution_count": null,
   "metadata": {},
   "outputs": [],
   "source": []
  },
  {
   "cell_type": "code",
   "execution_count": null,
   "metadata": {},
   "outputs": [],
   "source": []
  },
  {
   "cell_type": "code",
   "execution_count": null,
   "metadata": {},
   "outputs": [],
   "source": []
  }
 ],
 "metadata": {
  "kernelspec": {
   "display_name": "Python 3",
   "language": "python",
   "name": "python3"
  },
  "language_info": {
   "codemirror_mode": {
    "name": "ipython",
    "version": 3
   },
   "file_extension": ".py",
   "mimetype": "text/x-python",
   "name": "python",
   "nbconvert_exporter": "python",
   "pygments_lexer": "ipython3",
   "version": "3.7.3"
  }
 },
 "nbformat": 4,
 "nbformat_minor": 4
}
