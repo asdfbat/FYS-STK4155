{
 "cells": [
  {
   "cell_type": "code",
   "execution_count": 1,
   "metadata": {},
   "outputs": [
    {
     "ename": "SyntaxError",
     "evalue": "invalid syntax (Regression.py, line 59)",
     "output_type": "error",
     "traceback": [
      "Traceback \u001b[0;36m(most recent call last)\u001b[0m:\n",
      "  File \u001b[1;32m\"/Users/jakobs/miniconda3/lib/python3.7/site-packages/IPython/core/interactiveshell.py\"\u001b[0m, line \u001b[1;32m3326\u001b[0m, in \u001b[1;35mrun_code\u001b[0m\n    exec(code_obj, self.user_global_ns, self.user_ns)\n",
      "\u001b[0;36m  File \u001b[0;32m\"<ipython-input-1-b3b6248cf345>\"\u001b[0;36m, line \u001b[0;32m1\u001b[0;36m, in \u001b[0;35m<module>\u001b[0;36m\u001b[0m\n\u001b[0;31m    from Regression import Regression\u001b[0m\n",
      "\u001b[0;36m  File \u001b[0;32m\"/Users/jakobs/Documents/UiO/FYS-STK4155/FYS-STK4155/Project1/src/Regression.py\"\u001b[0;36m, line \u001b[0;32m59\u001b[0m\n\u001b[0;31m    _Lasso = Lasso(alpha=lamda,,max_iter=max_iter,tol=tol)\u001b[0m\n\u001b[0m                               ^\u001b[0m\n\u001b[0;31mSyntaxError\u001b[0m\u001b[0;31m:\u001b[0m invalid syntax\n"
     ]
    }
   ],
   "source": [
    "from Regression import Regression\n",
    "from Franke import Franke, FrankeNoise\n",
    "\n",
    "import numpy as np\n",
    "import matplotlib.pyplot as plt\n",
    "import matplotlib as mpl\n",
    "import seaborn\n",
    "from sklearn.metrics import mean_squared_error as MSE\n",
    "from sklearn.metrics import r2_score\n",
    "from sklearn.model_selection import train_test_split, KFold\n",
    "from sklearn.linear_model import Lasso\n",
    "import scipy.stats\n",
    "import time\n",
    "from imageio import imread\n",
    "from tqdm import tqdm, trange\n",
    "\n",
    "mpl.style.use(\"seaborn-darkgrid\")\n",
    "mpl.rcParams[\"image.cmap\"] = \"gnuplot2\"\n",
    "mpl.rcParams[\"figure.figsize\"] = [6.0, 6.0]\n",
    "mpl.rcParams[\"font.size\"] = 16\n",
    "\n",
    "np.random.seed(1942)"
   ]
  },
  {
   "cell_type": "markdown",
   "metadata": {},
   "source": [
    "# Generate data"
   ]
  },
  {
   "cell_type": "code",
   "execution_count": null,
   "metadata": {},
   "outputs": [],
   "source": [
    "x,y = np.linspace(0,1,201),np.linspace(0,1,201)\n",
    "reg = Regression()\n",
    "reg.generate_generic_data(x,y,FrankeNoise)"
   ]
  },
  {
   "cell_type": "code",
   "execution_count": null,
   "metadata": {},
   "outputs": [],
   "source": [
    "lamda = 1e-6\n",
    "max_iter = 1e4\n",
    "tol = 1e-4\n",
    "poly_order = 5\n",
    "beta = reg.solveCoefficients(poly_order=poly_order,solver='Lasso',lamda=lamda,max_iter=max_iter,tol=tol)"
   ]
  },
  {
   "cell_type": "code",
   "execution_count": null,
   "metadata": {},
   "outputs": [],
   "source": []
  }
 ],
 "metadata": {
  "kernelspec": {
   "display_name": "Python 3",
   "language": "python",
   "name": "python3"
  },
  "language_info": {
   "codemirror_mode": {
    "name": "ipython",
    "version": 3
   },
   "file_extension": ".py",
   "mimetype": "text/x-python",
   "name": "python",
   "nbconvert_exporter": "python",
   "pygments_lexer": "ipython3",
   "version": "3.7.1"
  }
 },
 "nbformat": 4,
 "nbformat_minor": 4
}
