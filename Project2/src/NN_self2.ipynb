{
 "cells": [
  {
   "cell_type": "code",
   "execution_count": 8,
   "metadata": {},
   "outputs": [],
   "source": [
    "import numpy as np\n",
    "import pandas as pd\n",
    "import matplotlib.pyplot as plt\n",
    "from math import floor\n",
    "\n",
    "from sklearn.model_selection import cross_val_score, KFold, train_test_split\n",
    "from sklearn.metrics import mean_squared_error as MSE\n",
    "from sklearn import preprocessing\n",
    "\n",
    "from classification_problem import Classification"
   ]
  },
  {
   "cell_type": "code",
   "execution_count": 374,
   "metadata": {},
   "outputs": [],
   "source": [
    "def accuracy_score(Y_test, Y_pred):\n",
    "    return np.sum(Y_test == Y_pred) / len(Y_test)\n",
    "\n",
    "def to_one_hot(category_array):\n",
    "    ca = category_array # 1D array with values of the categories\n",
    "    nr_categories = np.max(ca)+1\n",
    "    nr_points = len(ca)\n",
    "    one_hot = np.zeros((nr_points,nr_categories),dtype=int)\n",
    "    one_hot[range(nr_points),ca] = 1\n",
    "    return one_hot\n",
    "\n",
    "def from_one_hot(one_hot_array):\n",
    "    category_arr = np.nonzero(one_hot_array)[1]\n",
    "    return category_arr\n",
    "\n",
    "class NeuralNetwork:\n",
    "\n",
    "    def __init__(\n",
    "            self,\n",
    "            X_data,\n",
    "            Y_data,\n",
    "            problem,    # input problem class, containing activiation functions and cost functions\n",
    "            n_hidden_neurons_list =[2],    # list with numbers of neurons in each layer\n",
    "            n_categories=10,    # nr output layer\n",
    "            epochs=10,\n",
    "            batch_size=100,\n",
    "            eta=0.1,\n",
    "            lmbd=0.0,\n",
    "            debug=False):\n",
    "\n",
    "        self.X_data_full = X_data\n",
    "        self.Y_data_full = Y_data\n",
    "\n",
    "        self.n_inputs = X_data.shape[0]\n",
    "        self.n_features = X_data.shape[1]\n",
    "        self.n_layers = len(n_hidden_neurons_list)\n",
    "        self.n_hidden_neurons_list = n_hidden_neurons_list\n",
    "        self.n_categories = n_categories\n",
    "\n",
    "        self.Problem = problem\n",
    "        self.epochs = epochs\n",
    "        self.batch_size = batch_size\n",
    "        self.iterations = self.n_inputs // self.batch_size\n",
    "        self.eta = eta\n",
    "        self.lmbd = lmbd\n",
    "        \n",
    "        self.debug = debug\n",
    "        self.accuracy_each_epoch_train = np.zeros(epochs)\n",
    "        self.accuracy_each_epoch_test = np.zeros(epochs)\n",
    "\n",
    "        self.initialize_layers()\n",
    "\n",
    "    def initialize_layers(self):\n",
    "        # n_hidden = self.n_hidden_neurons_list\n",
    "        # self.hidden_bias_list = [np.zeros(n)+0.01 for n in n_hidden]\n",
    "        # self.hidden_weights_list = [np.random.randn(self.n_features,n_hidden[0])]    # Weight for first hidden layer(l=2)\n",
    "        # # Dimension of layers l dependenent on layer l-1 and number of \n",
    "        # for i in range(1,self.n_layers):\n",
    "        #     self.hidden_weights.append(np.random.randn(n_hidden[i-1],n_hidden[i]))\n",
    "\n",
    "        # self.output_weights = np.random.randn(self.n_hidden_neurons[-1], self.n_categories)\n",
    "        # self.output_bias = np.zeros(self.n_categories) + 0.01\n",
    "\n",
    "        n_hidden = self.n_hidden_neurons_list\n",
    "        # Bias of layers l = [1,L-1]:\n",
    "        self.bias_list = [np.zeros(n)+0.01 for n in n_hidden]\n",
    "        # appending output layer:\n",
    "        self.bias_list.append(np.zeros(self.n_categories)+0.01)\n",
    "        \n",
    "        # Weights for l = [1,L-1]:\n",
    "        self.weights_list = [np.random.randn(self.n_features,n_hidden[0])]    # From input to l=1\n",
    "        # Dimension of layers l dependenent on layer l-1:\n",
    "        for i in range(1,self.n_layers):\n",
    "            self.weights_list.append(np.random.randn(n_hidden[i-1],n_hidden[i]))\n",
    "        # appending output layer:\n",
    "        self.weights_list.append(np.random.randn(n_hidden[-1], self.n_categories))\n",
    "    \n",
    "    def printshape(self,x,name='x'):\n",
    "        if isinstance(x,list):\n",
    "            x = np.array(x)\n",
    "        if self.debug:\n",
    "            print('shape '+name,x.shape)\n",
    "            \n",
    "    def sigmoid(self,z):\n",
    "        \"\"\" Returns sigmoid activation function for hidden layers \"\"\"\n",
    "        return 1/(1+np.exp(-z))\n",
    "\n",
    "    def sigmoid_prime(self,z):\n",
    "        \"\"\" Returns derivative of sigmoid \"\"\"\n",
    "        return self.sigmoid(z)*(1-self.sigmoid(z))\n",
    "\n",
    "    def softmax(self,z):\n",
    "        \"\"\" Returns the softmax function \"\"\"\n",
    "        exp_term = np.exp(z)\n",
    "        return exp_term/np.sum(exp_term, axis=1, keepdims=True)\n",
    "\n",
    "    def feed_forward(self):\n",
    "        \"\"\"\n",
    "        Feed forward loop used in training, looping all hidden layers and\n",
    "        produces output probabilities for use in back propagation\n",
    "        \"\"\"\n",
    "        problem = self.Problem\n",
    "        # Input, Not using weights and biases for input layer\n",
    "        self.a_list = [self.X_data]\n",
    "        self.z_list = []\n",
    "\n",
    "        self.printshape(self.a_list[-1],'input')\n",
    "        \n",
    "        # Loop through the layers, store weighted sum and activations\n",
    "        i = 1\n",
    "        for w,b in zip(self.weights_list,self.bias_list):\n",
    "            \n",
    "            self.z_list.append(np.matmul(self.a_list[-1],w)+b)         #np.matmul(self.a_list[-1],w)+b)\n",
    "            self.a_list.append(self.sigmoid(self.z_list[-1]))\n",
    "            \n",
    "            self.printshape(w,'w'+str(i))\n",
    "            self.printshape(b,'b'+str(i))\n",
    "            self.printshape(self.a_list[-1],'a'+str(i))\n",
    "            i+=1\n",
    "\n",
    "        self.probabilities = self.softmax(self.z_list[-1])\n",
    "\n",
    "    def feed_forward_out(self, X):\n",
    "        problem = self.Problem\n",
    "        # Input, Not using weights and biases for input layer\n",
    "        a_list = [X]\n",
    "        z_list = []\n",
    "\n",
    "        for w,b in zip(self.weights_list,self.bias_list):\n",
    "            z_list.append(np.matmul(a_list[-1],w)+b)\n",
    "            a_list.append(self.sigmoid(z_list[-1]))\n",
    "\n",
    "        probabilities = self.softmax(z_list[-1])\n",
    "        return probabilities\n",
    "\n",
    "    def backpropagation(self):\n",
    "        \"\"\"\n",
    "        Performs the back propagation algorithm, with output from forward pass\n",
    "        in self.probabilities. Uses the expressions from the given Problem class\n",
    "        to compute the errors.\n",
    "        \"\"\"\n",
    "        ## Find errors from each layer: ##\n",
    "        ## ---------------------------- ##\n",
    "        error_list = []\n",
    "        # Finds the output error (delta^L) using the given cost function from Problem\n",
    "\n",
    "        self.printshape(self.probabilities,'prob',)\n",
    "        self.printshape(self.Y_data,'Y_data',)\n",
    "        \n",
    "        output_error = self.Problem.output_error(self.probabilities,self.Y_data)\n",
    "        error_list.append(output_error)\n",
    "        self.printshape(output_error,'output error')\n",
    "\n",
    "        # Propagate error back in the hidden layers to find error from each layer\n",
    "        L = self.n_layers   # last layer number\n",
    "                            # (usually not so high nr of layers, so looping multiple times for easy implementation)\n",
    "        for l in range(2,L): \n",
    "            prev_error = error_list[-1]\n",
    "            prev_w = self.weights_list[-l+1]\n",
    "            current_z = self.z_list[-l]\n",
    "            error_hidden = np.matmul(prev_error,prev_w.T)*self.sigmoid_prime(current_z)  # CHECK ORDER IN MATMUL?\n",
    "            error_list.append(error_hidden)\n",
    "\n",
    "        # Error_list is optained backwards, sorting to match layer numbers\n",
    "        error_list.reverse()\n",
    "        if self.debug:\n",
    "            print('number of errors ',len(error_list))\n",
    "\n",
    "        ## Find gradients from each layer: ##\n",
    "        ## ------------------------------- ##\n",
    "        # List for storing the gradient for each layer\n",
    "        grad_w_list = [np.zeros(w.shape) for w in self.weights_list]\n",
    "        grad_b_list = [np.zeros(b.shape) for b in self.bias_list]\n",
    "\n",
    "        # Looping over all layers\n",
    "        for l in range(self.n_layers):\n",
    "            \n",
    "            self.printshape(self.a_list[l].T,'a.T'+str(l))\n",
    "            self.printshape(error_list[l],'error'+str(l))\n",
    "            \n",
    "            # Finding gradients (storing for now)\n",
    "            grad_b_list[l] += np.sum(error_list[l],axis=0)\n",
    "            grad_w_list[l] += np.matmul(self.a_list[l+1].T,error_list[l])\n",
    "\n",
    "\n",
    "            if self.lmbd > 0.0: # If using regularization\n",
    "                grad_w_list[l] += self.lmbd * self.weights_list[l]\n",
    "    \n",
    "            self.printshape(self.weights_list[l],'w'+str(l))\n",
    "            self.printshape(grad_w_list[l],'grad_w'+str(l))\n",
    "            \n",
    "            # Update weights and biases\n",
    "            self.weights_list[l] -= self.eta*grad_w_list[l]\n",
    "            self.bias_list[l] -= self.eta*grad_b_list[l]\n",
    "        \n",
    "    def predict(self, X):\n",
    "        probabilities = self.feed_forward_out(X)\n",
    "        return np.argmax(probabilities, axis=1)\n",
    "\n",
    "    def predict_probabilities(self, X):\n",
    "        probabilities = self.feed_forward_out(X)\n",
    "        return probabilities\n",
    "\n",
    "    def train(self):\n",
    "        data_indices = np.arange(self.n_inputs)\n",
    "\n",
    "        for i in range(self.epochs):\n",
    "            for j in range(self.iterations):\n",
    "                # pick datapoints with replacement\n",
    "                chosen_datapoints = np.random.choice(\n",
    "                    data_indices, size=self.batch_size, replace=False\n",
    "                )\n",
    "\n",
    "                # minibatch training data\n",
    "                self.X_data = self.X_data_full[chosen_datapoints]\n",
    "                self.Y_data = self.Y_data_full[chosen_datapoints]\n",
    "\n",
    "                self.feed_forward()\n",
    "                self.backpropagation()\n",
    "            self.accuracy_each_epoch_test[i] = accuracy_score(from_one_hot(Y_test),self.predict(X_test_scaled))\n",
    "            self.accuracy_each_epoch_train[i] = accuracy_score(from_one_hot(self.Y_data_full),self.predict(self.X_data_full))\n"
   ]
  },
  {
   "cell_type": "code",
   "execution_count": 375,
   "metadata": {},
   "outputs": [],
   "source": [
    "#def accuracy_score(Y_test, Y_pred):\n",
    "#    return np.sum(Y_test == Y_pred) / len(Y_test)\n",
    "#\n",
    "#def accuracy_score2(Y_test, Y_pred):\n",
    "#    return np.sum(np.argwhere(Y_test==1)[:,1] == Y_pred)/len(Y_test)"
   ]
  },
  {
   "cell_type": "code",
   "execution_count": 376,
   "metadata": {},
   "outputs": [
    {
     "data": {
      "text/plain": [
       "(1000, 2)"
      ]
     },
     "execution_count": 376,
     "metadata": {},
     "output_type": "execute_result"
    }
   ],
   "source": [
    "input_data = np.arange(0, 1000).reshape(1000,1)\n",
    "output_data = np.zeros(len(input_data),dtype=int)\n",
    "output_data[floor(len(input_data)/2):] = 1\n",
    "output_one_hot = to_one_hot(output_data)\n",
    "nr_params = output_one_hot.shape[1]\n",
    "nr_datapoints = input_data.shape[0]; nr_datapoints,nr_params"
   ]
  },
  {
   "cell_type": "code",
   "execution_count": 377,
   "metadata": {},
   "outputs": [],
   "source": [
    "X_train, X_test, Y_train, Y_test = train_test_split(input_data, output_onehot)\n",
    "Scaler = preprocessing.StandardScaler()\n",
    "X_train_scaled = Scaler.fit_transform(X_train)\n",
    "X_test_scaled = Scaler.transform(X_test)"
   ]
  },
  {
   "cell_type": "code",
   "execution_count": 379,
   "metadata": {},
   "outputs": [
    {
     "name": "stdout",
     "output_type": "stream",
     "text": [
      "shape input (10, 1)\n",
      "shape w1 (1, 5)\n",
      "shape b1 (5,)\n",
      "shape a1 (10, 5)\n",
      "shape w2 (5, 4)\n",
      "shape b2 (4,)\n",
      "shape a2 (10, 4)\n",
      "shape w3 (4, 7)\n",
      "shape b3 (7,)\n",
      "shape a3 (10, 7)\n",
      "shape w4 (7, 2)\n",
      "shape b4 (2,)\n",
      "shape a4 (10, 2)\n",
      "shape prob (10, 2)\n",
      "shape Y_data (10, 2)\n",
      "shape output error (10, 2)\n",
      "number of errors  2\n",
      "shape a.T0 (1, 10)\n",
      "shape error0 (10, 7)\n"
     ]
    },
    {
     "ename": "ValueError",
     "evalue": "operands could not be broadcast together with shapes (5,) (7,) (5,) ",
     "output_type": "error",
     "traceback": [
      "\u001b[0;31m---------------------------------------------------------------------------\u001b[0m",
      "\u001b[0;31mValueError\u001b[0m                                Traceback (most recent call last)",
      "\u001b[0;32m<ipython-input-379-cd8ee25d5dbb>\u001b[0m in \u001b[0;36m<module>\u001b[0;34m\u001b[0m\n\u001b[1;32m     10\u001b[0m                     \u001b[0mlmbd\u001b[0m\u001b[0;34m=\u001b[0m\u001b[0;36m0.0\u001b[0m\u001b[0;34m,\u001b[0m\u001b[0;34m\u001b[0m\u001b[0;34m\u001b[0m\u001b[0m\n\u001b[1;32m     11\u001b[0m                     debug=True)\n\u001b[0;32m---> 12\u001b[0;31m \u001b[0mnn\u001b[0m\u001b[0;34m.\u001b[0m\u001b[0mtrain\u001b[0m\u001b[0;34m(\u001b[0m\u001b[0;34m)\u001b[0m\u001b[0;34m\u001b[0m\u001b[0;34m\u001b[0m\u001b[0m\n\u001b[0m",
      "\u001b[0;32m<ipython-input-374-42ce9ec17766>\u001b[0m in \u001b[0;36mtrain\u001b[0;34m(self)\u001b[0m\n\u001b[1;32m    217\u001b[0m \u001b[0;34m\u001b[0m\u001b[0m\n\u001b[1;32m    218\u001b[0m                 \u001b[0mself\u001b[0m\u001b[0;34m.\u001b[0m\u001b[0mfeed_forward\u001b[0m\u001b[0;34m(\u001b[0m\u001b[0;34m)\u001b[0m\u001b[0;34m\u001b[0m\u001b[0;34m\u001b[0m\u001b[0m\n\u001b[0;32m--> 219\u001b[0;31m                 \u001b[0mself\u001b[0m\u001b[0;34m.\u001b[0m\u001b[0mbackpropagation\u001b[0m\u001b[0;34m(\u001b[0m\u001b[0;34m)\u001b[0m\u001b[0;34m\u001b[0m\u001b[0;34m\u001b[0m\u001b[0m\n\u001b[0m\u001b[1;32m    220\u001b[0m             \u001b[0mself\u001b[0m\u001b[0;34m.\u001b[0m\u001b[0maccuracy_each_epoch_test\u001b[0m\u001b[0;34m[\u001b[0m\u001b[0mi\u001b[0m\u001b[0;34m]\u001b[0m \u001b[0;34m=\u001b[0m \u001b[0maccuracy_score\u001b[0m\u001b[0;34m(\u001b[0m\u001b[0mfrom_one_hot\u001b[0m\u001b[0;34m(\u001b[0m\u001b[0mY_test\u001b[0m\u001b[0;34m)\u001b[0m\u001b[0;34m,\u001b[0m\u001b[0mself\u001b[0m\u001b[0;34m.\u001b[0m\u001b[0mpredict\u001b[0m\u001b[0;34m(\u001b[0m\u001b[0mX_test_scaled\u001b[0m\u001b[0;34m)\u001b[0m\u001b[0;34m)\u001b[0m\u001b[0;34m\u001b[0m\u001b[0;34m\u001b[0m\u001b[0m\n\u001b[1;32m    221\u001b[0m             \u001b[0mself\u001b[0m\u001b[0;34m.\u001b[0m\u001b[0maccuracy_each_epoch_train\u001b[0m\u001b[0;34m[\u001b[0m\u001b[0mi\u001b[0m\u001b[0;34m]\u001b[0m \u001b[0;34m=\u001b[0m \u001b[0maccuracy_score\u001b[0m\u001b[0;34m(\u001b[0m\u001b[0mfrom_one_hot\u001b[0m\u001b[0;34m(\u001b[0m\u001b[0mself\u001b[0m\u001b[0;34m.\u001b[0m\u001b[0mY_data_full\u001b[0m\u001b[0;34m)\u001b[0m\u001b[0;34m,\u001b[0m\u001b[0mself\u001b[0m\u001b[0;34m.\u001b[0m\u001b[0mpredict\u001b[0m\u001b[0;34m(\u001b[0m\u001b[0mself\u001b[0m\u001b[0;34m.\u001b[0m\u001b[0mX_data_full\u001b[0m\u001b[0;34m)\u001b[0m\u001b[0;34m)\u001b[0m\u001b[0;34m\u001b[0m\u001b[0;34m\u001b[0m\u001b[0m\n",
      "\u001b[0;32m<ipython-input-374-42ce9ec17766>\u001b[0m in \u001b[0;36mbackpropagation\u001b[0;34m(self)\u001b[0m\n\u001b[1;32m    180\u001b[0m \u001b[0;34m\u001b[0m\u001b[0m\n\u001b[1;32m    181\u001b[0m             \u001b[0;31m# Finding gradients (storing for now)\u001b[0m\u001b[0;34m\u001b[0m\u001b[0;34m\u001b[0m\u001b[0;34m\u001b[0m\u001b[0m\n\u001b[0;32m--> 182\u001b[0;31m             \u001b[0mgrad_b_list\u001b[0m\u001b[0;34m[\u001b[0m\u001b[0ml\u001b[0m\u001b[0;34m]\u001b[0m \u001b[0;34m+=\u001b[0m \u001b[0mnp\u001b[0m\u001b[0;34m.\u001b[0m\u001b[0msum\u001b[0m\u001b[0;34m(\u001b[0m\u001b[0merror_list\u001b[0m\u001b[0;34m[\u001b[0m\u001b[0ml\u001b[0m\u001b[0;34m]\u001b[0m\u001b[0;34m,\u001b[0m\u001b[0maxis\u001b[0m\u001b[0;34m=\u001b[0m\u001b[0;36m0\u001b[0m\u001b[0;34m)\u001b[0m\u001b[0;34m\u001b[0m\u001b[0;34m\u001b[0m\u001b[0m\n\u001b[0m\u001b[1;32m    183\u001b[0m             \u001b[0mgrad_w_list\u001b[0m\u001b[0;34m[\u001b[0m\u001b[0ml\u001b[0m\u001b[0;34m]\u001b[0m \u001b[0;34m+=\u001b[0m \u001b[0mnp\u001b[0m\u001b[0;34m.\u001b[0m\u001b[0mmatmul\u001b[0m\u001b[0;34m(\u001b[0m\u001b[0mself\u001b[0m\u001b[0;34m.\u001b[0m\u001b[0ma_list\u001b[0m\u001b[0;34m[\u001b[0m\u001b[0ml\u001b[0m\u001b[0;34m+\u001b[0m\u001b[0;36m1\u001b[0m\u001b[0;34m]\u001b[0m\u001b[0;34m.\u001b[0m\u001b[0mT\u001b[0m\u001b[0;34m,\u001b[0m\u001b[0merror_list\u001b[0m\u001b[0;34m[\u001b[0m\u001b[0ml\u001b[0m\u001b[0;34m]\u001b[0m\u001b[0;34m)\u001b[0m\u001b[0;34m\u001b[0m\u001b[0;34m\u001b[0m\u001b[0m\n\u001b[1;32m    184\u001b[0m \u001b[0;34m\u001b[0m\u001b[0m\n",
      "\u001b[0;31mValueError\u001b[0m: operands could not be broadcast together with shapes (5,) (7,) (5,) "
     ]
    }
   ],
   "source": [
    "hidden_neuron_list = [5,4,7]\n",
    "nn = NeuralNetwork( X_train_scaled,\n",
    "                    Y_train,\n",
    "                    problem = Classification,\n",
    "                    n_hidden_neurons_list=hidden_neuron_list,\n",
    "                    n_categories=2,\n",
    "                    epochs=500,\n",
    "                    batch_size=10,\n",
    "                    eta=1e-5,\n",
    "                    lmbd=0.0,\n",
    "                    debug=True)\n",
    "nn.train()"
   ]
  },
  {
   "cell_type": "code",
   "execution_count": 380,
   "metadata": {},
   "outputs": [
    {
     "name": "stdout",
     "output_type": "stream",
     "text": [
      "(250,)\n"
     ]
    },
    {
     "data": {
      "text/plain": [
       "<matplotlib.legend.Legend at 0x1a259dea10>"
      ]
     },
     "execution_count": 380,
     "metadata": {},
     "output_type": "execute_result"
    },
    {
     "data": {
      "image/png": "[encoded data removed]",
      "text/plain": [
       "<Figure size 432x288 with 1 Axes>"
      ]
     },
     "metadata": {
      "needs_background": "light"
     },
     "output_type": "display_data"
    }
   ],
   "source": [
    "Y_pred = nn.predict(X_test_scaled)\n",
    "print(Y_pred.shape)\n",
    "#print(Y_pred)\n",
    "#print(accuracy_score(from_one_hot(Y_test),Y_pred))\n",
    "plt.figure()\n",
    "plt.plot(np.arange(nn.epochs),nn.accuracy_each_epoch_test,label='test')\n",
    "plt.plot(np.arange(nn.epochs),nn.accuracy_each_epoch_train,label='train')\n",
    "plt.legend()"
   ]
  },
  {
   "cell_type": "code",
   "execution_count": 24,
   "metadata": {},
   "outputs": [
    {
     "data": {
      "text/plain": [
       "0.996"
      ]
     },
     "execution_count": 24,
     "metadata": {},
     "output_type": "execute_result"
    }
   ],
   "source": [
    "def from_one_hot(one_hot_array):\n",
    "    category_arr = np.nonzero(one_hot_array)[1]\n",
    "    return category_arr\n",
    "\n",
    "Y_pred = nn.predict(X_test_scaled)\n",
    "accuracy_score(from_one_hot(Y_test),Y_pred)"
   ]
  },
  {
   "cell_type": "code",
   "execution_count": null,
   "metadata": {},
   "outputs": [],
   "source": []
  }
 ],
 "metadata": {
  "kernelspec": {
   "display_name": "Python 3",
   "language": "python",
   "name": "python3"
  },
  "language_info": {
   "codemirror_mode": {
    "name": "ipython",
    "version": 3
   },
   "file_extension": ".py",
   "mimetype": "text/x-python",
   "name": "python",
   "nbconvert_exporter": "python",
   "pygments_lexer": "ipython3",
   "version": "3.7.4"
  }
 },
 "nbformat": 4,
 "nbformat_minor": 4
}
