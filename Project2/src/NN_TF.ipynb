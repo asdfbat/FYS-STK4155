{
 "cells": [
  {
   "cell_type": "code",
   "execution_count": 2,
   "metadata": {},
   "outputs": [
    {
     "name": "stderr",
     "output_type": "stream",
     "text": [
      "Using TensorFlow backend.\n"
     ]
    }
   ],
   "source": [
    "import numpy as np\n",
    "import matplotlib.pyplot as plt\n",
    "import matplotlib as mpl\n",
    "import pandas as pd\n",
    "import tensorflow as tf\n",
    "import talos as ta\n",
    "#from talos.model.layers import hidden_layers\n",
    "from keras import optimizers\n",
    "from keras.wrappers.scikit_learn import KerasRegressor\n",
    "from tensorflow import keras\n",
    "from keras.models import Sequential\n",
    "from keras.layers import Dense, Activation, LocallyConnected1D, Conv1D, Reshape\n",
    "from keras.callbacks import ModelCheckpoint, History\n",
    "from keras.activations import relu, elu, linear\n",
    "from sklearn import preprocessing\n",
    "from sklearn.model_selection import cross_val_score, KFold, train_test_split\n",
    "from sklearn.metrics import mean_squared_error as MSE\n",
    "from sklearn.metrics import mean_absolute_error as MAE\n",
    "from sklearn.metrics import r2_score as R2\n",
    "from tqdm import trange\n",
    "\n",
    "plt.style.use('seaborn-darkgrid')\n",
    "mpl.rcParams['figure.figsize'] = [10.0, 4.0]\n",
    "mpl.rcParams['figure.dpi'] = 80\n",
    "mpl.rcParams['savefig.dpi'] = 100\n",
    "mpl.rcParams['font.size'] = 12"
   ]
  },
  {
   "cell_type": "code",
   "execution_count": 3,
   "metadata": {},
   "outputs": [],
   "source": [
    "def accuracy_score(Y_test, Y_pred):\n",
    "    return np.sum(Y_test == Y_pred) / len(Y_test)"
   ]
  },
  {
   "cell_type": "code",
   "execution_count": 4,
   "metadata": {},
   "outputs": [
    {
     "data": {
      "text/html": [
       "<div>\n",
       "<style scoped>\n",
       "    .dataframe tbody tr th:only-of-type {\n",
       "        vertical-align: middle;\n",
       "    }\n",
       "\n",
       "    .dataframe tbody tr th {\n",
       "        vertical-align: top;\n",
       "    }\n",
       "\n",
       "    .dataframe thead th {\n",
       "        text-align: right;\n",
       "    }\n",
       "</style>\n",
       "<table border=\"1\" class=\"dataframe\">\n",
       "  <thead>\n",
       "    <tr style=\"text-align: right;\">\n",
       "      <th></th>\n",
       "      <th>LIMIT_BAL</th>\n",
       "      <th>PAY_1</th>\n",
       "      <th>default payment next month</th>\n",
       "    </tr>\n",
       "  </thead>\n",
       "  <tbody>\n",
       "    <tr>\n",
       "      <th>count</th>\n",
       "      <td>191.000000</td>\n",
       "      <td>191.000000</td>\n",
       "      <td>191.000000</td>\n",
       "    </tr>\n",
       "    <tr>\n",
       "      <th>mean</th>\n",
       "      <td>117853.403141</td>\n",
       "      <td>0.136126</td>\n",
       "      <td>0.251309</td>\n",
       "    </tr>\n",
       "    <tr>\n",
       "      <th>std</th>\n",
       "      <td>82946.396619</td>\n",
       "      <td>1.110857</td>\n",
       "      <td>0.434906</td>\n",
       "    </tr>\n",
       "    <tr>\n",
       "      <th>min</th>\n",
       "      <td>10000.000000</td>\n",
       "      <td>-2.000000</td>\n",
       "      <td>0.000000</td>\n",
       "    </tr>\n",
       "    <tr>\n",
       "      <th>25%</th>\n",
       "      <td>50000.000000</td>\n",
       "      <td>0.000000</td>\n",
       "      <td>0.000000</td>\n",
       "    </tr>\n",
       "    <tr>\n",
       "      <th>50%</th>\n",
       "      <td>100000.000000</td>\n",
       "      <td>0.000000</td>\n",
       "      <td>0.000000</td>\n",
       "    </tr>\n",
       "    <tr>\n",
       "      <th>75%</th>\n",
       "      <td>175000.000000</td>\n",
       "      <td>1.000000</td>\n",
       "      <td>0.500000</td>\n",
       "    </tr>\n",
       "    <tr>\n",
       "      <th>max</th>\n",
       "      <td>360000.000000</td>\n",
       "      <td>4.000000</td>\n",
       "      <td>1.000000</td>\n",
       "    </tr>\n",
       "  </tbody>\n",
       "</table>\n",
       "</div>"
      ],
      "text/plain": [
       "           LIMIT_BAL       PAY_1  default payment next month\n",
       "count     191.000000  191.000000                  191.000000\n",
       "mean   117853.403141    0.136126                    0.251309\n",
       "std     82946.396619    1.110857                    0.434906\n",
       "min     10000.000000   -2.000000                    0.000000\n",
       "25%     50000.000000    0.000000                    0.000000\n",
       "50%    100000.000000    0.000000                    0.000000\n",
       "75%    175000.000000    1.000000                    0.500000\n",
       "max    360000.000000    4.000000                    1.000000"
      ]
     },
     "execution_count": 4,
     "metadata": {},
     "output_type": "execute_result"
    }
   ],
   "source": [
    "#data_pd = pd.read_pickle(\"../data/credit_card_cleaned.pickle\")\n",
    "#data = data_pd.to_numpy(); data_pd.describe()\n",
    "data_pd = pd.read_pickle(\"../data/credit_card_cleaned.pickle\")[::100][[\"LIMIT_BAL\", \"PAY_1\", \"default payment next month\"]]\n",
    "data = data_pd.to_numpy(); data_pd.describe()"
   ]
  },
  {
   "cell_type": "code",
   "execution_count": 5,
   "metadata": {},
   "outputs": [
    {
     "data": {
      "text/plain": [
       "(2, 191)"
      ]
     },
     "execution_count": 5,
     "metadata": {},
     "output_type": "execute_result"
    }
   ],
   "source": [
    "#input_data = data[:,1:-1]\n",
    "#output_data = data[:,-1]\n",
    "#nr_params = input_data.shape[1]; nr_params\n",
    "input_data = data[:,:-1]\n",
    "output_data = data[:,-1]\n",
    "nr_params = input_data.shape[1]\n",
    "nr_datapoints = input_data.shape[0]; nr_params, nr_datapoints"
   ]
  },
  {
   "cell_type": "code",
   "execution_count": 6,
   "metadata": {},
   "outputs": [],
   "source": [
    "X_train, X_test, Y_train, Y_test = train_test_split(input_data, output_data)\n",
    "Scaler = preprocessing.StandardScaler()\n",
    "X_train_scaled = Scaler.fit_transform(X_train)\n",
    "X_test_scaled = Scaler.transform(X_test)"
   ]
  },
  {
   "cell_type": "code",
   "execution_count": 7,
   "metadata": {},
   "outputs": [
    {
     "name": "stdout",
     "output_type": "stream",
     "text": [
      "Model: \"sequential_1\"\n",
      "_________________________________________________________________\n",
      "Layer (type)                 Output Shape              Param #   \n",
      "=================================================================\n",
      "dense_1 (Dense)              (None, 8)                 24        \n",
      "_________________________________________________________________\n",
      "dense_2 (Dense)              (None, 1)                 9         \n",
      "=================================================================\n",
      "Total params: 33\n",
      "Trainable params: 33\n",
      "Non-trainable params: 0\n",
      "_________________________________________________________________\n"
     ]
    }
   ],
   "source": [
    "opti = optimizers.Adam(amsgrad=True)\n",
    "def nn_reg():\n",
    "    model = Sequential()\n",
    "    model.add(Dense(8, input_shape=(nr_params,), activation=\"relu\", kernel_initializer='random_uniform'))\n",
    "    model.add(Dense(1, activation=\"sigmoid\", kernel_initializer='random_uniform'))\n",
    "    model.compile(optimizer=opti, loss=\"binary_crossentropy\",  metrics=[\"accuracy\"])\n",
    "    return model\n",
    "nn_reg().summary()"
   ]
  },
  {
   "cell_type": "code",
   "execution_count": 8,
   "metadata": {},
   "outputs": [
    {
     "name": "stdout",
     "output_type": "stream",
     "text": [
      "Train on 114 samples, validate on 29 samples\n",
      "Epoch 1/100\n",
      "114/114 [==============================] - 0s 2ms/step - loss: 0.6920 - accuracy: 0.7456 - val_loss: 0.6904 - val_accuracy: 0.7586\n",
      "Epoch 2/100\n",
      "114/114 [==============================] - 0s 73us/step - loss: 0.6897 - accuracy: 0.7368 - val_loss: 0.6879 - val_accuracy: 0.7586\n",
      "Epoch 3/100\n",
      "114/114 [==============================] - 0s 77us/step - loss: 0.6875 - accuracy: 0.7368 - val_loss: 0.6852 - val_accuracy: 0.7586\n",
      "Epoch 4/100\n",
      "114/114 [==============================] - 0s 87us/step - loss: 0.6849 - accuracy: 0.7368 - val_loss: 0.6820 - val_accuracy: 0.7586\n",
      "Epoch 5/100\n",
      "114/114 [==============================] - 0s 87us/step - loss: 0.6819 - accuracy: 0.7368 - val_loss: 0.6789 - val_accuracy: 0.7586\n",
      "Epoch 6/100\n",
      "114/114 [==============================] - 0s 98us/step - loss: 0.6792 - accuracy: 0.7368 - val_loss: 0.6751 - val_accuracy: 0.7586\n",
      "Epoch 7/100\n",
      "114/114 [==============================] - 0s 97us/step - loss: 0.6757 - accuracy: 0.7368 - val_loss: 0.6714 - val_accuracy: 0.7586\n",
      "Epoch 8/100\n",
      "114/114 [==============================] - 0s 128us/step - loss: 0.6724 - accuracy: 0.7368 - val_loss: 0.6672 - val_accuracy: 0.7586\n",
      "Epoch 9/100\n",
      "114/114 [==============================] - 0s 87us/step - loss: 0.6686 - accuracy: 0.7368 - val_loss: 0.6631 - val_accuracy: 0.7586\n",
      "Epoch 10/100\n",
      "114/114 [==============================] - 0s 88us/step - loss: 0.6647 - accuracy: 0.7368 - val_loss: 0.6583 - val_accuracy: 0.7586\n",
      "Epoch 11/100\n",
      "114/114 [==============================] - 0s 73us/step - loss: 0.6604 - accuracy: 0.7368 - val_loss: 0.6528 - val_accuracy: 0.7586\n",
      "Epoch 12/100\n",
      "114/114 [==============================] - 0s 97us/step - loss: 0.6553 - accuracy: 0.7368 - val_loss: 0.6470 - val_accuracy: 0.7586\n",
      "Epoch 13/100\n",
      "114/114 [==============================] - 0s 103us/step - loss: 0.6501 - accuracy: 0.7368 - val_loss: 0.6407 - val_accuracy: 0.7586\n",
      "Epoch 14/100\n",
      "114/114 [==============================] - 0s 91us/step - loss: 0.6446 - accuracy: 0.7368 - val_loss: 0.6345 - val_accuracy: 0.7586\n",
      "Epoch 15/100\n",
      "114/114 [==============================] - 0s 80us/step - loss: 0.6388 - accuracy: 0.7368 - val_loss: 0.6278 - val_accuracy: 0.7586\n",
      "Epoch 16/100\n",
      "114/114 [==============================] - 0s 77us/step - loss: 0.6329 - accuracy: 0.7368 - val_loss: 0.6213 - val_accuracy: 0.7586\n",
      "Epoch 17/100\n",
      "114/114 [==============================] - 0s 70us/step - loss: 0.6279 - accuracy: 0.7368 - val_loss: 0.6158 - val_accuracy: 0.7586\n",
      "Epoch 18/100\n",
      "114/114 [==============================] - 0s 86us/step - loss: 0.6225 - accuracy: 0.7368 - val_loss: 0.6095 - val_accuracy: 0.7586\n",
      "Epoch 19/100\n",
      "114/114 [==============================] - 0s 82us/step - loss: 0.6163 - accuracy: 0.7368 - val_loss: 0.6026 - val_accuracy: 0.7586\n",
      "Epoch 20/100\n",
      "114/114 [==============================] - 0s 79us/step - loss: 0.6112 - accuracy: 0.7368 - val_loss: 0.5951 - val_accuracy: 0.7586\n",
      "Epoch 21/100\n",
      "114/114 [==============================] - 0s 85us/step - loss: 0.6045 - accuracy: 0.7368 - val_loss: 0.5889 - val_accuracy: 0.7586\n",
      "Epoch 22/100\n",
      "114/114 [==============================] - 0s 74us/step - loss: 0.5998 - accuracy: 0.7456 - val_loss: 0.5830 - val_accuracy: 0.7586\n",
      "Epoch 23/100\n",
      "114/114 [==============================] - 0s 89us/step - loss: 0.5945 - accuracy: 0.7456 - val_loss: 0.5765 - val_accuracy: 0.7586\n",
      "Epoch 24/100\n",
      "114/114 [==============================] - 0s 69us/step - loss: 0.5893 - accuracy: 0.7456 - val_loss: 0.5701 - val_accuracy: 0.7586\n",
      "Epoch 25/100\n",
      "114/114 [==============================] - 0s 76us/step - loss: 0.5836 - accuracy: 0.7456 - val_loss: 0.5635 - val_accuracy: 0.8276\n",
      "Epoch 26/100\n",
      "114/114 [==============================] - 0s 74us/step - loss: 0.5783 - accuracy: 0.7456 - val_loss: 0.5570 - val_accuracy: 0.8276\n",
      "Epoch 27/100\n",
      "114/114 [==============================] - 0s 65us/step - loss: 0.5739 - accuracy: 0.7456 - val_loss: 0.5515 - val_accuracy: 0.8276\n",
      "Epoch 28/100\n",
      "114/114 [==============================] - 0s 80us/step - loss: 0.5697 - accuracy: 0.7456 - val_loss: 0.5454 - val_accuracy: 0.8276\n",
      "Epoch 29/100\n",
      "114/114 [==============================] - 0s 102us/step - loss: 0.5654 - accuracy: 0.7456 - val_loss: 0.5401 - val_accuracy: 0.8276\n",
      "Epoch 30/100\n",
      "114/114 [==============================] - 0s 98us/step - loss: 0.5614 - accuracy: 0.7456 - val_loss: 0.5340 - val_accuracy: 0.8276\n",
      "Epoch 31/100\n",
      "114/114 [==============================] - 0s 90us/step - loss: 0.5572 - accuracy: 0.7456 - val_loss: 0.5279 - val_accuracy: 0.8276\n",
      "Epoch 32/100\n",
      "114/114 [==============================] - 0s 82us/step - loss: 0.5528 - accuracy: 0.7456 - val_loss: 0.5217 - val_accuracy: 0.8276\n",
      "Epoch 33/100\n",
      "114/114 [==============================] - 0s 93us/step - loss: 0.5488 - accuracy: 0.7456 - val_loss: 0.5154 - val_accuracy: 0.8276\n",
      "Epoch 34/100\n",
      "114/114 [==============================] - 0s 86us/step - loss: 0.5447 - accuracy: 0.7456 - val_loss: 0.5102 - val_accuracy: 0.8276\n",
      "Epoch 35/100\n",
      "114/114 [==============================] - 0s 95us/step - loss: 0.5408 - accuracy: 0.7456 - val_loss: 0.5049 - val_accuracy: 0.8276\n",
      "Epoch 36/100\n",
      "114/114 [==============================] - 0s 87us/step - loss: 0.5373 - accuracy: 0.7456 - val_loss: 0.5003 - val_accuracy: 0.8276\n",
      "Epoch 37/100\n",
      "114/114 [==============================] - 0s 83us/step - loss: 0.5344 - accuracy: 0.7456 - val_loss: 0.4952 - val_accuracy: 0.8276\n",
      "Epoch 38/100\n",
      "114/114 [==============================] - 0s 84us/step - loss: 0.5315 - accuracy: 0.7807 - val_loss: 0.4902 - val_accuracy: 0.7931\n",
      "Epoch 39/100\n",
      "114/114 [==============================] - 0s 82us/step - loss: 0.5282 - accuracy: 0.7982 - val_loss: 0.4857 - val_accuracy: 0.7931\n",
      "Epoch 40/100\n",
      "114/114 [==============================] - 0s 85us/step - loss: 0.5255 - accuracy: 0.8158 - val_loss: 0.4811 - val_accuracy: 0.8276\n",
      "Epoch 41/100\n",
      "114/114 [==============================] - 0s 79us/step - loss: 0.5226 - accuracy: 0.8158 - val_loss: 0.4761 - val_accuracy: 0.8276\n",
      "Epoch 42/100\n",
      "114/114 [==============================] - 0s 87us/step - loss: 0.5198 - accuracy: 0.8158 - val_loss: 0.4718 - val_accuracy: 0.8276\n",
      "Epoch 43/100\n",
      "114/114 [==============================] - 0s 78us/step - loss: 0.5177 - accuracy: 0.8158 - val_loss: 0.4702 - val_accuracy: 0.8276\n",
      "Epoch 44/100\n",
      "114/114 [==============================] - 0s 84us/step - loss: 0.5159 - accuracy: 0.8158 - val_loss: 0.4677 - val_accuracy: 0.8276\n",
      "Epoch 45/100\n",
      "114/114 [==============================] - 0s 75us/step - loss: 0.5144 - accuracy: 0.8158 - val_loss: 0.4646 - val_accuracy: 0.8276\n",
      "Epoch 46/100\n",
      "114/114 [==============================] - 0s 76us/step - loss: 0.5124 - accuracy: 0.8158 - val_loss: 0.4611 - val_accuracy: 0.8276\n",
      "Epoch 47/100\n",
      "114/114 [==============================] - 0s 87us/step - loss: 0.5104 - accuracy: 0.8158 - val_loss: 0.4576 - val_accuracy: 0.8276\n",
      "Epoch 48/100\n",
      "114/114 [==============================] - 0s 81us/step - loss: 0.5086 - accuracy: 0.8158 - val_loss: 0.4543 - val_accuracy: 0.8276\n",
      "Epoch 49/100\n",
      "114/114 [==============================] - 0s 82us/step - loss: 0.5071 - accuracy: 0.8158 - val_loss: 0.4523 - val_accuracy: 0.8276\n",
      "Epoch 50/100\n",
      "114/114 [==============================] - 0s 86us/step - loss: 0.5056 - accuracy: 0.8158 - val_loss: 0.4500 - val_accuracy: 0.8276\n",
      "Epoch 51/100\n",
      "114/114 [==============================] - 0s 80us/step - loss: 0.5046 - accuracy: 0.8158 - val_loss: 0.4477 - val_accuracy: 0.8276\n",
      "Epoch 52/100\n",
      "114/114 [==============================] - 0s 83us/step - loss: 0.5036 - accuracy: 0.8158 - val_loss: 0.4452 - val_accuracy: 0.8276\n",
      "Epoch 53/100\n",
      "114/114 [==============================] - 0s 83us/step - loss: 0.5031 - accuracy: 0.8333 - val_loss: 0.4428 - val_accuracy: 0.8276\n",
      "Epoch 54/100\n",
      "114/114 [==============================] - 0s 90us/step - loss: 0.5023 - accuracy: 0.8246 - val_loss: 0.4405 - val_accuracy: 0.8276\n",
      "Epoch 55/100\n",
      "114/114 [==============================] - 0s 91us/step - loss: 0.5008 - accuracy: 0.8246 - val_loss: 0.4397 - val_accuracy: 0.8276\n",
      "Epoch 56/100\n",
      "114/114 [==============================] - 0s 82us/step - loss: 0.5001 - accuracy: 0.8333 - val_loss: 0.4385 - val_accuracy: 0.8276\n",
      "Epoch 57/100\n",
      "114/114 [==============================] - 0s 81us/step - loss: 0.4994 - accuracy: 0.8333 - val_loss: 0.4371 - val_accuracy: 0.8276\n",
      "Epoch 58/100\n",
      "114/114 [==============================] - 0s 92us/step - loss: 0.4984 - accuracy: 0.8333 - val_loss: 0.4354 - val_accuracy: 0.8276\n",
      "Epoch 59/100\n",
      "114/114 [==============================] - 0s 83us/step - loss: 0.4975 - accuracy: 0.8333 - val_loss: 0.4332 - val_accuracy: 0.8276\n",
      "Epoch 60/100\n",
      "114/114 [==============================] - 0s 75us/step - loss: 0.4968 - accuracy: 0.8246 - val_loss: 0.4308 - val_accuracy: 0.8276\n",
      "Epoch 61/100\n",
      "114/114 [==============================] - 0s 86us/step - loss: 0.4959 - accuracy: 0.8246 - val_loss: 0.4292 - val_accuracy: 0.8276\n",
      "Epoch 62/100\n",
      "114/114 [==============================] - 0s 91us/step - loss: 0.4949 - accuracy: 0.8246 - val_loss: 0.4288 - val_accuracy: 0.8276\n",
      "Epoch 63/100\n",
      "114/114 [==============================] - 0s 75us/step - loss: 0.4946 - accuracy: 0.8246 - val_loss: 0.4280 - val_accuracy: 0.8276\n",
      "Epoch 64/100\n",
      "114/114 [==============================] - 0s 105us/step - loss: 0.4941 - accuracy: 0.8246 - val_loss: 0.4272 - val_accuracy: 0.8276\n",
      "Epoch 65/100\n",
      "114/114 [==============================] - 0s 92us/step - loss: 0.4937 - accuracy: 0.8246 - val_loss: 0.4263 - val_accuracy: 0.8276\n",
      "Epoch 66/100\n",
      "114/114 [==============================] - 0s 79us/step - loss: 0.4932 - accuracy: 0.8246 - val_loss: 0.4254 - val_accuracy: 0.8276\n",
      "Epoch 67/100\n",
      "114/114 [==============================] - 0s 88us/step - loss: 0.4929 - accuracy: 0.8246 - val_loss: 0.4238 - val_accuracy: 0.8276\n",
      "Epoch 68/100\n",
      "114/114 [==============================] - 0s 77us/step - loss: 0.4923 - accuracy: 0.8246 - val_loss: 0.4229 - val_accuracy: 0.8276\n",
      "Epoch 69/100\n",
      "114/114 [==============================] - 0s 80us/step - loss: 0.4917 - accuracy: 0.8246 - val_loss: 0.4225 - val_accuracy: 0.8276\n",
      "Epoch 70/100\n",
      "114/114 [==============================] - 0s 75us/step - loss: 0.4915 - accuracy: 0.8246 - val_loss: 0.4217 - val_accuracy: 0.8276\n",
      "Epoch 71/100\n",
      "114/114 [==============================] - 0s 75us/step - loss: 0.4911 - accuracy: 0.8246 - val_loss: 0.4210 - val_accuracy: 0.8276\n",
      "Epoch 72/100\n",
      "114/114 [==============================] - 0s 81us/step - loss: 0.4909 - accuracy: 0.8246 - val_loss: 0.4201 - val_accuracy: 0.8276\n",
      "Epoch 73/100\n",
      "114/114 [==============================] - 0s 81us/step - loss: 0.4910 - accuracy: 0.8246 - val_loss: 0.4208 - val_accuracy: 0.8276\n",
      "Epoch 74/100\n",
      "114/114 [==============================] - 0s 81us/step - loss: 0.4905 - accuracy: 0.8246 - val_loss: 0.4208 - val_accuracy: 0.8276\n",
      "Epoch 75/100\n",
      "114/114 [==============================] - 0s 78us/step - loss: 0.4902 - accuracy: 0.8246 - val_loss: 0.4199 - val_accuracy: 0.8276\n",
      "Epoch 76/100\n",
      "114/114 [==============================] - 0s 97us/step - loss: 0.4896 - accuracy: 0.8246 - val_loss: 0.4191 - val_accuracy: 0.8276\n",
      "Epoch 77/100\n",
      "114/114 [==============================] - 0s 81us/step - loss: 0.4893 - accuracy: 0.8246 - val_loss: 0.4177 - val_accuracy: 0.8276\n",
      "Epoch 78/100\n",
      "114/114 [==============================] - 0s 80us/step - loss: 0.4888 - accuracy: 0.8246 - val_loss: 0.4165 - val_accuracy: 0.8276\n",
      "Epoch 79/100\n",
      "114/114 [==============================] - 0s 79us/step - loss: 0.4889 - accuracy: 0.8246 - val_loss: 0.4147 - val_accuracy: 0.8276\n",
      "Epoch 80/100\n",
      "114/114 [==============================] - 0s 85us/step - loss: 0.4883 - accuracy: 0.8246 - val_loss: 0.4133 - val_accuracy: 0.8276\n",
      "Epoch 81/100\n",
      "114/114 [==============================] - 0s 80us/step - loss: 0.4879 - accuracy: 0.8246 - val_loss: 0.4121 - val_accuracy: 0.8276\n",
      "Epoch 82/100\n",
      "114/114 [==============================] - 0s 82us/step - loss: 0.4876 - accuracy: 0.8246 - val_loss: 0.4114 - val_accuracy: 0.8276\n",
      "Epoch 83/100\n",
      "114/114 [==============================] - 0s 95us/step - loss: 0.4874 - accuracy: 0.8246 - val_loss: 0.4111 - val_accuracy: 0.8276\n",
      "Epoch 84/100\n",
      "114/114 [==============================] - 0s 85us/step - loss: 0.4871 - accuracy: 0.8246 - val_loss: 0.4102 - val_accuracy: 0.8276\n",
      "Epoch 85/100\n",
      "114/114 [==============================] - 0s 100us/step - loss: 0.4867 - accuracy: 0.8246 - val_loss: 0.4097 - val_accuracy: 0.8276\n",
      "Epoch 86/100\n",
      "114/114 [==============================] - 0s 103us/step - loss: 0.4862 - accuracy: 0.8246 - val_loss: 0.4089 - val_accuracy: 0.8276\n",
      "Epoch 87/100\n",
      "114/114 [==============================] - 0s 94us/step - loss: 0.4859 - accuracy: 0.8246 - val_loss: 0.4078 - val_accuracy: 0.8276\n",
      "Epoch 88/100\n",
      "114/114 [==============================] - 0s 73us/step - loss: 0.4857 - accuracy: 0.8246 - val_loss: 0.4067 - val_accuracy: 0.8276\n",
      "Epoch 89/100\n",
      "114/114 [==============================] - 0s 86us/step - loss: 0.4854 - accuracy: 0.8246 - val_loss: 0.4062 - val_accuracy: 0.8276\n",
      "Epoch 90/100\n",
      "114/114 [==============================] - 0s 87us/step - loss: 0.4852 - accuracy: 0.8158 - val_loss: 0.4071 - val_accuracy: 0.8276\n",
      "Epoch 91/100\n",
      "114/114 [==============================] - 0s 85us/step - loss: 0.4849 - accuracy: 0.8158 - val_loss: 0.4070 - val_accuracy: 0.8276\n",
      "Epoch 92/100\n",
      "114/114 [==============================] - 0s 88us/step - loss: 0.4848 - accuracy: 0.8158 - val_loss: 0.4069 - val_accuracy: 0.8276\n",
      "Epoch 93/100\n",
      "114/114 [==============================] - 0s 87us/step - loss: 0.4846 - accuracy: 0.8158 - val_loss: 0.4063 - val_accuracy: 0.8276\n",
      "Epoch 94/100\n",
      "114/114 [==============================] - 0s 81us/step - loss: 0.4844 - accuracy: 0.8158 - val_loss: 0.4055 - val_accuracy: 0.8276\n",
      "Epoch 95/100\n",
      "114/114 [==============================] - 0s 76us/step - loss: 0.4842 - accuracy: 0.8158 - val_loss: 0.4051 - val_accuracy: 0.8276\n",
      "Epoch 96/100\n",
      "114/114 [==============================] - 0s 110us/step - loss: 0.4840 - accuracy: 0.8158 - val_loss: 0.4047 - val_accuracy: 0.8276\n",
      "Epoch 97/100\n",
      "114/114 [==============================] - 0s 84us/step - loss: 0.4837 - accuracy: 0.8158 - val_loss: 0.4044 - val_accuracy: 0.8276\n",
      "Epoch 98/100\n",
      "114/114 [==============================] - 0s 85us/step - loss: 0.4838 - accuracy: 0.8158 - val_loss: 0.4039 - val_accuracy: 0.8276\n",
      "Epoch 99/100\n",
      "114/114 [==============================] - 0s 119us/step - loss: 0.4832 - accuracy: 0.8158 - val_loss: 0.4032 - val_accuracy: 0.8276\n",
      "Epoch 100/100\n",
      "114/114 [==============================] - 0s 80us/step - loss: 0.4831 - accuracy: 0.8158 - val_loss: 0.4026 - val_accuracy: 0.8276\n"
     ]
    }
   ],
   "source": [
    "clf = KerasRegressor(build_fn=nn_reg, batch_size=16, epochs=100, validation_split=0.2, verbose=1)\n",
    "history = clf.fit(X_train_scaled, Y_train.reshape(-1,1))"
   ]
  },
  {
   "cell_type": "code",
   "execution_count": 9,
   "metadata": {},
   "outputs": [
    {
     "name": "stdout",
     "output_type": "stream",
     "text": [
      "48/48 [==============================] - 0s 173us/step\n"
     ]
    }
   ],
   "source": [
    "Y_pred = clf.predict(X_test_scaled)\n",
    "Y_pred = np.where(Y_pred > 0.5, 1, 0)"
   ]
  },
  {
   "cell_type": "code",
   "execution_count": 10,
   "metadata": {},
   "outputs": [
    {
     "data": {
      "text/plain": [
       "0.7916666666666666"
      ]
     },
     "execution_count": 10,
     "metadata": {},
     "output_type": "execute_result"
    }
   ],
   "source": [
    "accuracy_score(Y_pred, Y_test)"
   ]
  },
  {
   "cell_type": "code",
   "execution_count": 11,
   "metadata": {},
   "outputs": [
    {
     "data": {
      "text/plain": [
       "<matplotlib.collections.PathCollection at 0x7f4e68c28240>"
      ]
     },
     "execution_count": 11,
     "metadata": {},
     "output_type": "execute_result"
    },
    {
     "data": {
      "image/png": "[encoded data removed]",
      "text/plain": [
       "<Figure size 1008x576 with 1 Axes>"
      ]
     },
     "metadata": {
      "needs_background": "light"
     },
     "output_type": "display_data"
    }
   ],
   "source": [
    "plt.figure(figsize=(14,8))\n",
    "acc = np.array(history.history[\"accuracy\"])\n",
    "val_acc = np.array(history.history[\"val_accuracy\"])\n",
    "asdf = np.argsort(val_acc)[-10:]\n",
    "plt.axhline(y=val_acc[asdf[0]], c=\"crimson\", ls=\"--\")\n",
    "plt.plot(acc, c=\"b\")\n",
    "plt.plot(val_acc, c=\"g\")\n",
    "plt.scatter(asdf, val_acc[asdf], c=\"r\")"
   ]
  },
  {
   "cell_type": "code",
   "execution_count": null,
   "metadata": {},
   "outputs": [],
   "source": []
  }
 ],
 "metadata": {
  "kernelspec": {
   "display_name": "Python 3",
   "language": "python",
   "name": "python3"
  },
  "language_info": {
   "codemirror_mode": {
    "name": "ipython",
    "version": 3
   },
   "file_extension": ".py",
   "mimetype": "text/x-python",
   "name": "python",
   "nbconvert_exporter": "python",
   "pygments_lexer": "ipython3",
   "version": "3.7.4"
  }
 },
 "nbformat": 4,
 "nbformat_minor": 4
}
